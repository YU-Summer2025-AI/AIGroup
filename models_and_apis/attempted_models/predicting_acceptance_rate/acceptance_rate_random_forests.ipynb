{
 "cells": [
  {
   "metadata": {},
   "cell_type": "code",
   "source": [
    "from fastai.imports import *\n",
    "import pandas as pd\n",
    "import numpy as np\n",
    "import psycopg2\n",
    "from sqlalchemy import create_engine, text\n",
    "import os\n",
    "# import fastbook\n",
    "# fastbook.setup_book()\n",
    "# from fastbook import *\n",
    "import torch.nn as nn\n",
    "import torch.optim as optim\n",
    "from torch.utils.data import DataLoader, TensorDataset, random_split # Ensure DataLoader is from torch.utils.data\n",
    "import torch # Keep this for general tensor operations\n",
    "# import torch.optim as optim # ADD THIS\n",
    "from torch.utils.data import TensorDataset, random_split\n",
    "from sklearn.preprocessing import StandardScaler\n",
    "np.set_printoptions(linewidth=130)\n"
   ],
   "id": "ea6686acafc1060d",
   "outputs": [],
   "execution_count": null
  },
  {
   "metadata": {},
   "cell_type": "code",
   "source": [
    "DB_USER = os.getenv('PG_USER', 'admin')\n",
    "DB_PASSWORD = os.getenv('PG_PASSWORD', 'admin')\n",
    "DB_HOST = os.getenv('PG_HOST', 'localhost')\n",
    "DB_PORT = os.getenv('PG_PORT', '5432')\n",
    "DB_NAME = os.getenv('PG_DB_NAME', 'SYAS')\n",
    "TABLE_NAME = 'your_table_name'\n",
    "\n",
    "def get_dataframe_from_postgres(table_name: str) -> pd.DataFrame:\n",
    "    db_connection_str = f\"postgresql+psycopg2://{DB_USER}:{DB_PASSWORD}@{DB_HOST}:{DB_PORT}/{DB_NAME}\"\n",
    "    engine = None\n",
    "    df = pd.DataFrame()\n",
    "    try:\n",
    "        engine = create_engine(db_connection_str)\n",
    "        sql_query = text(f\"SELECT * FROM {table_name}\")\n",
    "        df = pd.read_sql(sql_query, engine)\n",
    "    except ImportError:\n",
    "        print(\"Error: psycopg2-binary is not installed. Please install it using 'pip install psycopg2-binary'\")\n",
    "    except Exception as e:\n",
    "        print(f\"An error occurred: {e}\")\n",
    "    finally:\n",
    "        if engine:\n",
    "            engine.dispose()\n",
    "    return df"
   ],
   "id": "52d71cc2e35052cb",
   "outputs": [],
   "execution_count": null
  },
  {
   "metadata": {},
   "cell_type": "code",
   "source": [
    "df_members = get_dataframe_from_postgres(\"members\")\n",
    "df_matches = get_dataframe_from_postgres(\"matches\")"
   ],
   "id": "e8b3631c2e13db25",
   "outputs": [],
   "execution_count": null
  },
  {
   "metadata": {},
   "cell_type": "code",
   "source": "df_members.head()",
   "id": "18d3d2495470a295",
   "outputs": [],
   "execution_count": null
  },
  {
   "metadata": {},
   "cell_type": "code",
   "source": [
    "df_members.drop(columns=['height_min'], inplace=True)\n",
    "df_members.drop(columns=['height_max'], inplace=True)\n",
    "df_members.drop(columns=['height'], inplace=True)"
   ],
   "id": "1370f3514e466602",
   "outputs": [],
   "execution_count": null
  },
  {
   "metadata": {},
   "cell_type": "code",
   "source": [
    "men_conditions = [\n",
    "    (df_members['gender'] == 'Male') & (df_members['height_inches'] < 62),\n",
    "    (df_members['gender'] == 'Male') & (df_members['height_inches'] >= 62) & (df_members['height_inches'] <= 64),\n",
    "    (df_members['gender'] == 'Male') & (df_members['height_inches'] >= 65) & (df_members['height_inches'] <= 66),\n",
    "    (df_members['gender'] == 'Male') & (df_members['height_inches'] >= 67) & (df_members['height_inches'] <= 69),\n",
    "    (df_members['gender'] == 'Male') & (df_members['height_inches'] >= 70) & (df_members['height_inches'] <= 71),\n",
    "    (df_members['gender'] == 'Male') & (df_members['height_inches'] >= 72) & (df_members['height_inches'] <= 74),\n",
    "    (df_members['gender'] == 'Male') & (df_members['height_inches'] > 74)\n",
    "]\n",
    "men_choices = [\n",
    "    'Very Short',\n",
    "    'Short',\n",
    "    'Below Average Height',\n",
    "    'Average Height',\n",
    "    'Above Average Height',\n",
    "    'Tall',\n",
    "    'Very Tall'\n",
    "]\n",
    "\n",
    "# Define conditions and choices for women\n",
    "# These categories are designed to be proportional to men's, adjusted for typical female heights.\n",
    "women_conditions = [\n",
    "    (df_members['gender'] == 'Female') & (df_members['height_inches'] < 55),\n",
    "    (df_members['gender'] == 'Female') & (df_members['height_inches'] >= 55) & (df_members['height_inches'] <= 57),\n",
    "    (df_members['gender'] == 'Female') & (df_members['height_inches'] >= 58) & (df_members['height_inches'] <= 60),\n",
    "    (df_members['gender'] == 'Female') & (df_members['height_inches'] >= 61) & (df_members['height_inches'] <= 63),\n",
    "    (df_members['gender'] == 'Female') & (df_members['height_inches'] >= 64) & (df_members['height_inches'] <= 65),\n",
    "    (df_members['gender'] == 'Female') & (df_members['height_inches'] >= 66) & (df_members['height_inches'] <= 68),\n",
    "    (df_members['gender'] == 'Female') & (df_members['height_inches'] > 68)\n",
    "]\n",
    "women_choices = [\n",
    "    'Very Short',\n",
    "    'Short',\n",
    "    'Below Average Height',\n",
    "    'Average Height',\n",
    "    'Above Average Height',\n",
    "    'Tall',\n",
    "    'Very Tall'\n",
    "]\n",
    "\n",
    "# Combine all conditions and choices\n",
    "all_conditions = men_conditions + women_conditions\n",
    "all_choices = men_choices + women_choices\n",
    "\n",
    "# Create the new 'height_category' column using numpy.select\n",
    "df_members['height_category'] = np.select(all_conditions, all_choices, default='Unknown')"
   ],
   "id": "d216deb071fa00e1",
   "outputs": [],
   "execution_count": null
  },
  {
   "metadata": {},
   "cell_type": "code",
   "source": "df_members[['id', 'acceptance_rate']]",
   "id": "56b17b7608f27f6c",
   "outputs": [],
   "execution_count": null
  },
  {
   "metadata": {},
   "cell_type": "code",
   "source": "df_members[df_members['acceptance_rate'].notna()]",
   "id": "de2ef0e8b3f3d69d",
   "outputs": [],
   "execution_count": null
  },
  {
   "metadata": {},
   "cell_type": "code",
   "source": "df_members[['id','acceptance_rate']][df_members.acceptance_rate.notna()]",
   "id": "2e11481a116dfc37",
   "outputs": [],
   "execution_count": null
  },
  {
   "metadata": {},
   "cell_type": "code",
   "source": [
    "import seaborn as sns\n",
    "\n",
    "dep = 'acceptance_rate'\n",
    "fig,axs = plt.subplots(1,2, figsize=(11,5))\n",
    "sns.barplot(data=df_members, y=dep, x=\"gender\", ax=axs[0]).set(title=\"Acceptance Rate\") #avg acceptance rate\n",
    "sns.countplot(data=df_members, x=\"gender\", ax=axs[1]).set(title=\"Histogram\"); #gender count"
   ],
   "id": "43e245c41839bfa6",
   "outputs": [],
   "execution_count": null
  },
  {
   "metadata": {},
   "cell_type": "code",
   "source": [
    "cats = ['id', 'country', 'city', 'state', 'gender', 'religious_orientation', 'ethnicity', 'baal_teshuva', 'cohen', 'female_convert', 'parents_convert', 'mother_maternal_grandmother_jewish', 'family_religious_background', 'describe_family_religious_background', 'female_hc', 'kosher', 'female_dress', 'male_hc', 'frequency_of_tefilah', 'male_shul_attendance', 'torah_study', 'watching_tv', 'going_out_to_movies', 'watching_movies_at_home', 'secular_education', 'emphasis_of_studies', 'jewish_education', 'study_in_israel', 'profession', 'job_description', 'eye_color', 'hair_color', 'body_type', 'mental_physical_disability', 'my_marriage_status', 'want_additional_children', 'can_marry_cohen', 'political_orientation', 'smoking_habits', 'how_active_are_you', 'plan_to_aliya', 'willing_to_relocate', 'pet_person', 'pet_i_own', 'additional_pet_i_own', 'native_language', 'languages_spoken', 'desired_marital_status', 'minimum_education_level', 'acceptable_for_match_to_have_children', 'acceptable_religious_orientation', 'acceptable_smoking_habits', 'ok_dating_someone_with_disability', 'acceptable_aliyah_responses', 'acceptable_kosher_observance', 'ok_dating_baal_teshuva', 'family_relgious_background', 'desired_torah_study', 'desired_female_hc', 'desired_female_dress', 'jewish_education_preference', 'body_type_preference', 'preference_regarding_ethnicity', 'preference_cultural_background', 'my_personality_traits', 'my_personality_go_out_to', 'favorite_music', 'physical_activities_interests', 'my_favorite_pastimes', 'looking_for_in_a_person', 'short_description_of_yourself', 'community_work', 'introvert_extravert', 'sensor_intuitive', 'thinker_feeler', 'judger_perceiver', 'approved', 'dating_status', 'colleges_universities', 'parents_convert_before_birth', 'elementary_school', 'location_i_grew_up', 'name_secondary_school', 'name_study_one_year', 'parent_location', 'complete_incomplete', 'photo', 'site', 'profile_last_modified_date', 'updated', 'acceptable_places_to_live', 'height_category', 'how_long_single']\n",
    "\n",
    "conts = ['age', 'years_orthodox_baal_teshuva', 'times_divorced', 'how_many_children', 'number_live_with_you', 'age_of_youngest', 'number_of_siblings', 'age_min', 'age_max', 'min_height_inches', 'max_height_inches', 'height_inches', 'num_matches']\n",
    "dep = 'acceptance_rate'"
   ],
   "id": "771731a0f9232e2d",
   "outputs": [],
   "execution_count": null
  },
  {
   "metadata": {},
   "cell_type": "code",
   "source": "df_members.dropna(subset=['acceptance_rate'], inplace=True)",
   "id": "39da98377aa13e0",
   "outputs": [],
   "execution_count": null
  },
  {
   "metadata": {},
   "cell_type": "code",
   "source": "df_members[cats].dtypes",
   "id": "5a873d07156a18f7",
   "outputs": [],
   "execution_count": null
  },
  {
   "metadata": {},
   "cell_type": "code",
   "source": "df_members.isna().sum()",
   "id": "535bab9dd1b0b949",
   "outputs": [],
   "execution_count": null
  },
  {
   "metadata": {},
   "cell_type": "code",
   "source": [
    "import numpy as np\n",
    "df_members.replace(r'^\\s*$', np.nan, regex=True, inplace=True) # Replaces empty strings and strings with only whitespace\n",
    "# Now df.isna().sum() should reflect these changes"
   ],
   "id": "e1da5755fa20df46",
   "outputs": [],
   "execution_count": null
  },
  {
   "metadata": {},
   "cell_type": "code",
   "source": "df_members.isna().sum()",
   "id": "83c3cce3590867a1",
   "outputs": [],
   "execution_count": null
  },
  {
   "metadata": {},
   "cell_type": "code",
   "source": [
    "modes = df_members.mode().iloc[0]\n",
    "modes"
   ],
   "id": "e1caf39f9316a3db",
   "outputs": [],
   "execution_count": null
  },
  {
   "metadata": {},
   "cell_type": "code",
   "source": "df_members.fillna(modes, inplace=True)",
   "id": "89b57911aad28c2c",
   "outputs": [],
   "execution_count": null
  },
  {
   "metadata": {},
   "cell_type": "code",
   "source": [
    "df_members.isna().sum()\n",
    "df_members.dtypes"
   ],
   "id": "1fe2402a0a4465d5",
   "outputs": [],
   "execution_count": null
  },
  {
   "metadata": {},
   "cell_type": "code",
   "source": "df_members['gender'].hist()",
   "id": "fd14e83890d53415",
   "outputs": [],
   "execution_count": null
  },
  {
   "metadata": {},
   "cell_type": "code",
   "source": [
    "def proc_cats(df):\n",
    "    existing_cats = [col for col in cats if col in df.columns]\n",
    "    for cat in existing_cats:\n",
    "        df[cat] = pd.Categorical(df[cat])\n",
    "proc_cats(df_members)"
   ],
   "id": "e5d3b8b0de1943c8",
   "outputs": [],
   "execution_count": null
  },
  {
   "metadata": {},
   "cell_type": "code",
   "source": "df_members.gender.head()",
   "id": "1edcbe3c7ce0d90e",
   "outputs": [],
   "execution_count": null
  },
  {
   "metadata": {},
   "cell_type": "code",
   "source": "df_members.gender.cat.codes.head()",
   "id": "48951d5476b3b57d",
   "outputs": [],
   "execution_count": null
  },
  {
   "metadata": {},
   "cell_type": "code",
   "source": [
    "from numpy import random\n",
    "from sklearn.model_selection import train_test_split\n",
    "\n",
    "random.seed(42)\n",
    "trn_df,val_df = train_test_split(df_members, test_size=0.25)\n",
    "trn_df[cats] = trn_df[cats].apply(lambda x: x.cat.codes)\n",
    "val_df[cats] = val_df[cats].apply(lambda x: x.cat.codes)\n",
    "\n",
    "trn_df.dtypes"
   ],
   "id": "889e8ea5c08c7034",
   "outputs": [],
   "execution_count": null
  },
  {
   "metadata": {},
   "cell_type": "code",
   "source": "val_df.dtypes",
   "id": "391f67830466479f",
   "outputs": [],
   "execution_count": null
  },
  {
   "metadata": {},
   "cell_type": "code",
   "source": [
    "# df_members = df_members['number_live_with_you'].replace('N/A', '0')\n",
    "val_df['number_live_with_you'] = val_df['number_live_with_you'].replace('N/A', '0')\n",
    "val_df['number_live_with_you'].hist()"
   ],
   "id": "59e91146e31bba2e",
   "outputs": [],
   "execution_count": null
  },
  {
   "metadata": {},
   "cell_type": "code",
   "source": [
    "trn_df['number_live_with_you'] = trn_df['number_live_with_you'].replace('N/A', '0')\n",
    "trn_df['number_live_with_you'].hist()"
   ],
   "id": "ff87f525695a7d8",
   "outputs": [],
   "execution_count": null
  },
  {
   "metadata": {},
   "cell_type": "code",
   "source": "trn_df['times_divorced'].value_counts(), val_df['times_divorced'].value_counts()",
   "id": "96a834a923c72772",
   "outputs": [],
   "execution_count": null
  },
  {
   "metadata": {},
   "cell_type": "code",
   "source": [
    "trn_df['times_divorced'] = trn_df['times_divorced'].replace('>=1', '1')\n",
    "val_df['times_divorced'] = val_df['times_divorced'].replace('>=1', '1')"
   ],
   "id": "eb06529fe4f23e43",
   "outputs": [],
   "execution_count": null
  },
  {
   "metadata": {},
   "cell_type": "code",
   "source": "trn_df['times_divorced'].value_counts(), val_df['times_divorced'].value_counts()\n",
   "id": "1d3848f2f82d2f6e",
   "outputs": [],
   "execution_count": null
  },
  {
   "metadata": {},
   "cell_type": "code",
   "source": [
    "def remove_objects(df):\n",
    "    object_cols = df.select_dtypes(include='object').columns\n",
    "\n",
    "    for col in object_cols:\n",
    "        df[col] = df[col].replace(r'^\\s*$', np.nan, regex=True)\n",
    "        df[col] = pd.to_numeric(df[col], errors='coerce')\n",
    "        if df[col].isnull().any():\n",
    "            df[col] = df[col].astype(pd.Int64Dtype())\n",
    "        else:\n",
    "            df[col] = df[col].astype(int)\n",
    "    return df"
   ],
   "id": "27e1658077ca95",
   "outputs": [],
   "execution_count": null
  },
  {
   "metadata": {},
   "cell_type": "code",
   "source": "",
   "id": "a94adb9ccf063423",
   "outputs": [],
   "execution_count": null
  },
  {
   "metadata": {},
   "cell_type": "code",
   "source": [
    "trn_df = remove_objects(trn_df)\n",
    "val_df = remove_objects(val_df)"
   ],
   "id": "56b080ca3219ee8a",
   "outputs": [],
   "execution_count": null
  },
  {
   "metadata": {},
   "cell_type": "code",
   "source": "trn_df['times_divorced'].value_counts(), val_df['times_divorced'].value_counts()",
   "id": "2239abc75c5ef882",
   "outputs": [],
   "execution_count": null
  },
  {
   "metadata": {},
   "cell_type": "code",
   "source": [
    "def xs_y(df, cats, conts):\n",
    "    xs = df[cats+conts].copy()\n",
    "    return xs,df[dep] if dep in df else None\n",
    "\n"
   ],
   "id": "234d93d77233bcc8",
   "outputs": [],
   "execution_count": null
  },
  {
   "metadata": {},
   "cell_type": "code",
   "source": [
    "trn_xs,trn_y = xs_y(trn_df, cats, conts)\n",
    "val_xs,val_y = xs_y(val_df, cats, conts)\n",
    "\n",
    "val_xs.head()"
   ],
   "id": "74ae8b166e476db1",
   "outputs": [],
   "execution_count": null
  },
  {
   "metadata": {},
   "cell_type": "code",
   "source": "df_members.acceptance_rate[df_members.acceptance_rate > 0].plot(kind='kde')",
   "id": "b0ef4f36491b0b70",
   "outputs": [],
   "execution_count": null
  },
  {
   "metadata": {},
   "cell_type": "code",
   "source": "df_members.acceptance_rate.quantile([0.25, 0.5, 0.75])",
   "id": "ba1dda5ed8efbd39",
   "outputs": [],
   "execution_count": null
  },
  {
   "metadata": {},
   "cell_type": "code",
   "source": "df_members.acceptance_rate.hist(density=True, bins=20)",
   "id": "e52e62208b401dd6",
   "outputs": [],
   "execution_count": null
  },
  {
   "metadata": {},
   "cell_type": "code",
   "source": "df_members[df_members['gender'] == 'Male'].acceptance_rate.hist(density=True, bins=20)",
   "id": "54cbaac9028d90c3",
   "outputs": [],
   "execution_count": null
  },
  {
   "metadata": {},
   "cell_type": "code",
   "source": "df_members[df_members['gender'] == 'Male'].acceptance_rate.quantile([0.25, 0.5, 0.75])",
   "id": "deee5fc747c1dc3d",
   "outputs": [],
   "execution_count": null
  },
  {
   "metadata": {},
   "cell_type": "code",
   "source": "df_members[df_members['gender'] == 'Female'].acceptance_rate.hist(density=True, bins=20)",
   "id": "59835eb2347ed643",
   "outputs": [],
   "execution_count": null
  },
  {
   "metadata": {},
   "cell_type": "code",
   "source": "df_members[df_members['gender'] == 'Female'].acceptance_rate.quantile([0.25, 0.5, 0.75])",
   "id": "93a4640eb33e5535",
   "outputs": [],
   "execution_count": null
  },
  {
   "metadata": {},
   "cell_type": "code",
   "source": "df_members[df_members['body_type'] == 'Lean/Slender'].acceptance_rate.hist(density=True, bins=20)",
   "id": "84ffaeae4ceda38e",
   "outputs": [],
   "execution_count": null
  },
  {
   "metadata": {},
   "cell_type": "code",
   "source": "df_members[df_members['body_type'] == 'Lean/Slender'].acceptance_rate.quantile([0.25, 0.5, 0.75])",
   "id": "58b3529ea108be5e",
   "outputs": [],
   "execution_count": null
  },
  {
   "metadata": {},
   "cell_type": "code",
   "source": "df_members[df_members.height_inches >= 72 ].acceptance_rate.hist(density=True, bins=20)",
   "id": "fe5651a5c3257eb9",
   "outputs": [],
   "execution_count": null
  },
  {
   "metadata": {},
   "cell_type": "code",
   "source": "df_members.groupby('religious_orientation', observed=False)['acceptance_rate'].quantile([.5])\n",
   "id": "a133bb54434a3f34",
   "outputs": [],
   "execution_count": null
  },
  {
   "metadata": {},
   "cell_type": "code",
   "source": "df_members['body_type']",
   "id": "2b1842b6dbb00112",
   "outputs": [],
   "execution_count": null
  },
  {
   "metadata": {},
   "cell_type": "code",
   "source": "df_members.religious_orientation.head()",
   "id": "a430b8243f3e73db",
   "outputs": [],
   "execution_count": null
  },
  {
   "metadata": {},
   "cell_type": "code",
   "source": "df_members.religious_orientation.cat.codes.head()",
   "id": "28db130b7fb1fd0f",
   "outputs": [],
   "execution_count": null
  },
  {
   "metadata": {},
   "cell_type": "code",
   "source": "df_members.body_type.cat.codes.head()",
   "id": "237b81c310acac06",
   "outputs": [],
   "execution_count": null
  },
  {
   "metadata": {},
   "cell_type": "code",
   "source": [
    "avg_acceptance_rate = df_members.acceptance_rate.mean()\n",
    "avg_acceptance_rate\n",
    "avg_acceptance_rate_by_body_type = df_members.groupby('body_type')['acceptance_rate'].mean()\n",
    "avg_acceptance_rate_by_body_type"
   ],
   "id": "35184485d7e1cff9",
   "outputs": [],
   "execution_count": null
  },
  {
   "metadata": {},
   "cell_type": "code",
   "source": [
    "# preds = val_xs.Sex==0\n",
    "preds = [avg_acceptance_rate]*len(val_y)"
   ],
   "id": "78512c8e8c28d9ac",
   "outputs": [],
   "execution_count": null
  },
  {
   "metadata": {},
   "cell_type": "code",
   "source": [
    "from sklearn.metrics import mean_absolute_error\n",
    "mean_absolute_error(val_y, preds)"
   ],
   "id": "7cfb617e029b4eb",
   "outputs": [],
   "execution_count": null
  },
  {
   "metadata": {},
   "cell_type": "code",
   "source": [
    "avg_acceptance_rate_by_body_type = df_members.groupby('body_type')['acceptance_rate'].mean()\n",
    "avg_acceptance_rate_by_body_type"
   ],
   "id": "38f4e7adc69b4fa3",
   "outputs": [],
   "execution_count": null
  },
  {
   "metadata": {},
   "cell_type": "code",
   "source": "preds = avg_acceptance_rate_by_body_type[val_xs.body_type]",
   "id": "767b64b0bcacd6c0",
   "outputs": [],
   "execution_count": null
  },
  {
   "metadata": {},
   "cell_type": "code",
   "source": "mean_absolute_error(val_y, preds)",
   "id": "79b0663f0f1a4853",
   "outputs": [],
   "execution_count": null
  },
  {
   "metadata": {},
   "cell_type": "code",
   "source": [
    "avg_acceptance_rate_by_religious_orientation = df_members.groupby('religious_orientation', observed = False)['acceptance_rate'].mean()\n",
    "avg_acceptance_rate_by_religious_orientation"
   ],
   "id": "bac44a35604306e0",
   "outputs": [],
   "execution_count": null
  },
  {
   "metadata": {},
   "cell_type": "code",
   "source": "preds = avg_acceptance_rate_by_religious_orientation[val_xs.religious_orientation]",
   "id": "154de61193d52554",
   "outputs": [],
   "execution_count": null
  },
  {
   "metadata": {},
   "cell_type": "code",
   "source": "mean_absolute_error(val_y, preds)",
   "id": "bb99f682487d1702",
   "outputs": [],
   "execution_count": null
  },
  {
   "metadata": {},
   "cell_type": "code",
   "source": "df_members['height_category'].head()",
   "id": "e8af230a9e6d1a53",
   "outputs": [],
   "execution_count": null
  },
  {
   "metadata": {},
   "cell_type": "code",
   "source": [
    "avg_acceptance_rate_by_height_category = df_members.groupby('height_category', observed = False)['acceptance_rate'].mean()\n",
    "avg_acceptance_rate_by_height_category"
   ],
   "id": "f23814a33952b67b",
   "outputs": [],
   "execution_count": null
  },
  {
   "metadata": {},
   "cell_type": "code",
   "source": "preds = avg_acceptance_rate_by_height_category[val_xs.height_category]",
   "id": "8d0a7639e219ab0a",
   "outputs": [],
   "execution_count": null
  },
  {
   "metadata": {},
   "cell_type": "code",
   "source": "mean_absolute_error(val_y, preds)",
   "id": "b673618b9bdfc0a6",
   "outputs": [],
   "execution_count": null
  },
  {
   "metadata": {},
   "cell_type": "code",
   "source": [
    "def _side_score(side, y):\n",
    "    tot = side.sum()\n",
    "    if tot<=1: return 0\n",
    "    return y[side].std()*tot"
   ],
   "id": "3d376905c11bc51b",
   "outputs": [],
   "execution_count": null
  },
  {
   "metadata": {},
   "cell_type": "code",
   "source": [
    "def score(col, y, split):\n",
    "    lhs = col<=split\n",
    "    return (_side_score(lhs,y) + _side_score(~lhs,y))/len(y)"
   ],
   "id": "88e93eaec88bb66",
   "outputs": [],
   "execution_count": null
  },
  {
   "metadata": {},
   "cell_type": "code",
   "source": "score(trn_xs[\"gender\"], trn_y, 0.5)",
   "id": "c885778ddb911119",
   "outputs": [],
   "execution_count": null
  },
  {
   "metadata": {},
   "cell_type": "code",
   "source": [
    "def min_col(df, nm):\n",
    "    col,y = df[nm],df[dep]\n",
    "    unq = col.dropna().unique()\n",
    "    scores = np.array([score(col, y, o) for o in unq if not np.isnan(o)])\n",
    "    idx = scores.argmin()\n",
    "    return unq[idx],scores[idx]"
   ],
   "id": "a98c517473a1e442",
   "outputs": [],
   "execution_count": null
  },
  {
   "metadata": {},
   "cell_type": "code",
   "source": [
    "cols = cats+conts\n",
    "{o:min_col(trn_df, o) for o in cols}"
   ],
   "id": "33eb09405a6a97a9",
   "outputs": [],
   "execution_count": null
  },
  {
   "metadata": {},
   "cell_type": "code",
   "source": "trn_df.head()",
   "id": "533a5e845df9e7f6",
   "outputs": [],
   "execution_count": null
  },
  {
   "metadata": {},
   "cell_type": "code",
   "source": "df_members.head()",
   "id": "4876d58ad0a55c7d",
   "outputs": [],
   "execution_count": null
  },
  {
   "metadata": {},
   "cell_type": "code",
   "source": [
    "import numpy as np\n",
    "df_members.replace(r'^\\s*$', np.nan, regex=True, inplace=True) # Replaces empty strings and strings with only whitespace\n",
    "# Now df.isna().sum() should reflect these changes"
   ],
   "id": "a9f900201052c623",
   "outputs": [],
   "execution_count": null
  },
  {
   "metadata": {},
   "cell_type": "code",
   "source": "df_members.isna().sum()",
   "id": "c637c18267075c1f",
   "outputs": [],
   "execution_count": null
  },
  {
   "metadata": {},
   "cell_type": "code",
   "source": [
    "from sklearn.tree import DecisionTreeRegressor, export_graphviz\n",
    "\n",
    "m = DecisionTreeRegressor(max_leaf_nodes=4).fit(trn_xs, trn_y);"
   ],
   "id": "583f553a39ecc5c6",
   "outputs": [],
   "execution_count": null
  },
  {
   "metadata": {},
   "cell_type": "code",
   "source": [
    "import graphviz\n",
    "\n",
    "def draw_tree(t, df, size=10, ratio=0.6, precision=2, **kwargs):\n",
    "    s=export_graphviz(t, out_file=None, feature_names=df.columns, filled=True, rounded=True,\n",
    "                      special_characters=True, rotate=False, precision=precision, **kwargs)\n",
    "    return graphviz.Source(re.sub('Tree {', f'Tree {{ size={size}; ratio={ratio}', s))"
   ],
   "id": "3858022002c811d2",
   "outputs": [],
   "execution_count": null
  },
  {
   "metadata": {},
   "cell_type": "code",
   "source": "draw_tree(m, trn_xs, size=10)",
   "id": "16cc352cc1d4dcaa",
   "outputs": [],
   "execution_count": null
  },
  {
   "metadata": {},
   "cell_type": "code",
   "source": [
    "def gini(cond):\n",
    "    act = df_members.loc[cond, dep]\n",
    "    return 1 - act.mean()**2 - (1-act).mean()**2"
   ],
   "id": "6505e55f330bc886",
   "outputs": [],
   "execution_count": null
  },
  {
   "metadata": {},
   "cell_type": "code",
   "source": [
    "from sklearn.metrics import mean_absolute_error\n",
    "mean_absolute_error(val_y, m.predict(val_xs))"
   ],
   "id": "a055b1b382262ece",
   "outputs": [],
   "execution_count": null
  },
  {
   "metadata": {},
   "cell_type": "code",
   "source": [
    "m = DecisionTreeRegressor(min_samples_leaf=300)\n",
    "m.fit(trn_xs, trn_y)\n",
    "# draw_tree(m, trn_xs, size=25)"
   ],
   "id": "a106466bc607bf04",
   "outputs": [],
   "execution_count": null
  },
  {
   "metadata": {},
   "cell_type": "code",
   "source": "mean_absolute_error(val_y, m.predict(val_xs))",
   "id": "feb54bfddc77776c",
   "outputs": [],
   "execution_count": null
  },
  {
   "metadata": {},
   "cell_type": "code",
   "source": [
    "def get_tree(prop=0.75):\n",
    "    n = len(trn_y)\n",
    "    idxs = random.choice(n, int(n*prop))\n",
    "    return DecisionTreeRegressor(min_samples_leaf=5).fit(trn_xs.iloc[idxs], trn_y.iloc[idxs])"
   ],
   "id": "6bec401504039e7a",
   "outputs": [],
   "execution_count": null
  },
  {
   "metadata": {},
   "cell_type": "code",
   "source": "trees = [get_tree() for t in range(100)]",
   "id": "b56bb4714c287100",
   "outputs": [],
   "execution_count": null
  },
  {
   "metadata": {},
   "cell_type": "code",
   "source": [
    "all_probs = [t.predict(val_xs) for t in trees]\n",
    "avg_probs = np.stack(all_probs).mean(0)\n",
    "\n",
    "mean_absolute_error(val_y, avg_probs)"
   ],
   "id": "53141ce38cae9893",
   "outputs": [],
   "execution_count": null
  },
  {
   "metadata": {},
   "cell_type": "code",
   "source": [
    "from sklearn.ensemble import RandomForestRegressor\n",
    "\n",
    "rf = RandomForestRegressor(100, min_samples_leaf=5)\n",
    "rf.fit(trn_xs, trn_y);\n",
    "mean_absolute_error(val_y, rf.predict(val_xs))"
   ],
   "id": "bfcd80529501acde",
   "outputs": [],
   "execution_count": null
  },
  {
   "metadata": {},
   "cell_type": "code",
   "source": [
    "df_importances = pd.DataFrame(dict(cols=trn_xs.columns, imp=m.feature_importances_))\n",
    "df_filtered = df_importances[df_importances['imp'] > 0]\n",
    "\n",
    "num_features = len(df_filtered)\n",
    "desired_height = num_features * 0.4\n",
    "\n",
    "fig, ax = plt.subplots(figsize=(10, desired_height))\n",
    "\n",
    "df_filtered.plot(x='cols', y='imp', kind='barh', ax=ax)\n",
    "\n",
    "plt.tight_layout()\n",
    "plt.show()"
   ],
   "id": "429b250be222548b",
   "outputs": [],
   "execution_count": null
  },
  {
   "metadata": {},
   "cell_type": "code",
   "source": [
    "from sklearn.ensemble import GradientBoostingRegressor\n",
    "gbr = GradientBoostingRegressor(n_estimators=100, learning_rate=0.1, max_depth=4, min_samples_leaf=5, random_state=42)\n",
    "gbr.fit(trn_xs, trn_y)\n",
    "mean_absolute_error(val_y, gbr.predict(val_xs))"
   ],
   "id": "4df5f990c4f08bba",
   "outputs": [],
   "execution_count": null
  },
  {
   "metadata": {},
   "cell_type": "code",
   "source": "",
   "id": "408c4b1a1df82777",
   "outputs": [],
   "execution_count": null
  },
  {
   "metadata": {},
   "cell_type": "code",
   "source": "from sklearn.metrics import mean_absolute_error, mean_absolute_percentage_error, mean_squared_error, r2_score",
   "id": "2ce00e0196495d7a",
   "outputs": [],
   "execution_count": null
  },
  {
   "metadata": {},
   "cell_type": "code",
   "source": "r2_score(val_y, gbr.predict(val_xs))",
   "id": "59170ef73ada67db",
   "outputs": [],
   "execution_count": null
  },
  {
   "metadata": {},
   "cell_type": "code",
   "source": "r2_score(val_y, rf.predict(val_xs))",
   "id": "4f90468984e5e7ce",
   "outputs": [],
   "execution_count": null
  },
  {
   "metadata": {},
   "cell_type": "code",
   "source": [
    "from sklearn.linear_model import SGDRegressor\n",
    "# A basic linear regression setup with SGD\n",
    "sgd_regressor = SGDRegressor(loss='squared_error',\n",
    "                             penalty='l2',\n",
    "                             alpha=0.0001,\n",
    "                             max_iter=1000,\n",
    "                             tol=1e-3,\n",
    "                             random_state=42) # for reproducibility"
   ],
   "id": "a0419e2e0df0a97d",
   "outputs": [],
   "execution_count": null
  },
  {
   "metadata": {},
   "cell_type": "code",
   "source": [
    "sgd_regressor.fit(trn_xs, trn_y)\n",
    "y_pred = sgd_regressor.predict(val_xs)"
   ],
   "id": "d9815ea37ebb05ec",
   "outputs": [],
   "execution_count": null
  },
  {
   "metadata": {},
   "cell_type": "code",
   "source": "mean_absolute_error(val_y, y_pred)",
   "id": "32c27e4d79bbfd2f",
   "outputs": [],
   "execution_count": null
  },
  {
   "metadata": {},
   "cell_type": "code",
   "source": "r2_score(val_y, y_pred)",
   "id": "db5760e4d54e45eb",
   "outputs": [],
   "execution_count": null
  },
  {
   "metadata": {},
   "cell_type": "code",
   "source": [
    "from sklearn.preprocessing import StandardScaler # Import StandardScaler\n",
    "scaler = StandardScaler()\n",
    "trn_xs_scaled = scaler.fit_transform(trn_xs)\n",
    "val_xs_scaled = scaler.transform(val_xs)\n",
    "\n",
    "sgd_regressor = SGDRegressor(loss='squared_error',\n",
    "                             penalty='l2',\n",
    "                             alpha=0.0001,\n",
    "                             max_iter=1000,\n",
    "                             tol=1e-3,\n",
    "                             random_state=42)\n",
    "\n",
    "sgd_regressor.fit(trn_xs_scaled, trn_y)\n",
    "\n",
    "y_pred = sgd_regressor.predict(val_xs_scaled)"
   ],
   "id": "ff9a98eb97948b8d",
   "outputs": [],
   "execution_count": null
  },
  {
   "metadata": {},
   "cell_type": "code",
   "source": "mean_absolute_error(val_y, y_pred)",
   "id": "7c371567daf33fd6",
   "outputs": [],
   "execution_count": null
  },
  {
   "metadata": {},
   "cell_type": "code",
   "source": "r2_score(val_y, y_pred)",
   "id": "8beb389ea8679824",
   "outputs": [],
   "execution_count": null
  },
  {
   "metadata": {},
   "cell_type": "code",
   "source": [
    "from sklearn.linear_model import Ridge\n",
    "scaler = StandardScaler()\n",
    "trn_xs_scaled = scaler.fit_transform(trn_xs)\n",
    "val_xs_scaled = scaler.transform(val_xs)\n",
    "\n",
    "ridge_model = Ridge(alpha=1.0, random_state=42)\n",
    "\n",
    "ridge_model.fit(trn_xs_scaled, trn_y)\n",
    "\n",
    "y_pred = ridge_model.predict(val_xs_scaled)\n"
   ],
   "id": "b6f061cf2f23c7cf",
   "outputs": [],
   "execution_count": null
  },
  {
   "metadata": {},
   "cell_type": "code",
   "source": "mean_absolute_error(val_y, y_pred)",
   "id": "f7e07aca0b857534",
   "outputs": [],
   "execution_count": null
  },
  {
   "metadata": {},
   "cell_type": "code",
   "source": "r2_score(val_y, y_pred)",
   "id": "d6e7b76c3e7e4649",
   "outputs": [],
   "execution_count": null
  },
  {
   "metadata": {},
   "cell_type": "code",
   "source": [
    "from sklearn.linear_model import RidgeCV\n",
    "alphas_to_test = np.logspace(-3, 3, 100)\n",
    "\n",
    "ridge_cv_model = RidgeCV(alphas=alphas_to_test, cv=5, scoring='neg_mean_absolute_error')\n",
    "\n",
    "ridge_cv_model.fit(trn_xs_scaled, trn_y)\n",
    "\n",
    "best_alpha = ridge_cv_model.alpha_\n",
    "\n",
    "y_pred_cv = ridge_cv_model.predict(val_xs_scaled)"
   ],
   "id": "ffb44f3d24b406e6",
   "outputs": [],
   "execution_count": null
  },
  {
   "metadata": {},
   "cell_type": "code",
   "source": "mean_absolute_error(val_y, y_pred_cv)",
   "id": "92ab7b95be0a0663",
   "outputs": [],
   "execution_count": null
  },
  {
   "metadata": {},
   "cell_type": "code",
   "source": "r2_score(val_y, y_pred_cv)",
   "id": "80c34f55b424b380",
   "outputs": [],
   "execution_count": null
  },
  {
   "metadata": {},
   "cell_type": "code",
   "source": [
    "from xgboost import XGBRegressor\n",
    "scaler = StandardScaler()\n",
    "trn_xs_scaled = scaler.fit_transform(trn_xs)\n",
    "val_xs_scaled = scaler.transform(val_xs)\n",
    "\n",
    "xgb_model = XGBRegressor(objective='reg:squarederror',\n",
    "                         n_estimators=150,\n",
    "                         learning_rate=0.1,\n",
    "\n",
    "                         random_state=42)\n",
    "\n",
    "xgb_model.fit(trn_xs_scaled, trn_y)\n",
    "\n",
    "y_pred = xgb_model.predict(val_xs_scaled)"
   ],
   "id": "9ba4fa390c560172",
   "outputs": [],
   "execution_count": null
  },
  {
   "metadata": {},
   "cell_type": "code",
   "source": "mean_absolute_error(val_y, y_pred)",
   "id": "af082b8388a1f593",
   "outputs": [],
   "execution_count": null
  },
  {
   "metadata": {},
   "cell_type": "code",
   "source": [
    "df_importances = pd.DataFrame(dict(cols=trn_xs.columns, imp=xgb_model.feature_importances_))\n",
    "df_filtered = df_importances[df_importances['imp'] > 0]\n",
    "\n",
    "num_features = len(df_filtered)\n",
    "desired_height = num_features * 0.4\n",
    "\n",
    "fig, ax = plt.subplots(figsize=(10, desired_height))\n",
    "\n",
    "df_filtered.plot(x='cols', y='imp', kind='barh', ax=ax)\n",
    "\n",
    "plt.tight_layout()\n",
    "plt.show()"
   ],
   "id": "ca3565079bbc193c",
   "outputs": [],
   "execution_count": null
  },
  {
   "metadata": {},
   "cell_type": "code",
   "source": [
    "features_to_keep = df_importances[df_importances['imp'] > 0]['cols'].tolist()\n",
    "features_to_keep"
   ],
   "id": "6f3499c9b3396704",
   "outputs": [],
   "execution_count": null
  },
  {
   "metadata": {},
   "cell_type": "code",
   "source": [
    "df_members_filtered_features = df_members[features_to_keep].copy()\n",
    "proc_cats(df_members_filtered_features)\n",
    "df_members_filtered_features['acceptance_rate'] = df_members['acceptance_rate']\n",
    "df_members_filtered_features['number_live_with_you'] = df_members_filtered_features['number_live_with_you'].replace('N/A', 0)\n",
    "df_members_filtered_features.replace(r'^\\s*$', np.nan, regex=True, inplace=True)\n",
    "df_members_filtered_features.columns"
   ],
   "id": "499d437bbad43b93",
   "outputs": [],
   "execution_count": null
  },
  {
   "metadata": {},
   "cell_type": "code",
   "source": [
    "cats = ['id', 'country', 'city', 'state', 'gender', 'religious_orientation', 'ethnicity', 'baal_teshuva', 'cohen', 'female_convert', 'parents_convert', 'mother_maternal_grandmother_jewish', 'family_religious_background', 'describe_family_religious_background', 'female_hc', 'kosher', 'female_dress', 'male_hc', 'frequency_of_tefilah', 'male_shul_attendance', 'torah_study', 'watching_tv', 'going_out_to_movies', 'watching_movies_at_home', 'secular_education', 'emphasis_of_studies', 'jewish_education', 'study_in_israel', 'profession', 'job_description', 'eye_color', 'hair_color', 'body_type', 'mental_physical_disability', 'my_marriage_status', 'want_additional_children', 'can_marry_cohen', 'political_orientation', 'smoking_habits', 'how_active_are_you', 'plan_to_aliya', 'willing_to_relocate', 'pet_person', 'pet_i_own', 'additional_pet_i_own', 'native_language', 'languages_spoken', 'desired_marital_status', 'minimum_education_level', 'acceptable_for_match_to_have_children', 'acceptable_religious_orientation', 'acceptable_smoking_habits', 'ok_dating_someone_with_disability', 'acceptable_aliyah_responses', 'acceptable_kosher_observance', 'ok_dating_baal_teshuva', 'family_relgious_background', 'desired_torah_study', 'desired_female_hc', 'desired_female_dress', 'jewish_education_preference', 'body_type_preference', 'preference_regarding_ethnicity', 'preference_cultural_background', 'my_personality_traits', 'my_personality_go_out_to', 'favorite_music', 'physical_activities_interests', 'my_favorite_pastimes', 'looking_for_in_a_person', 'short_description_of_yourself', 'community_work', 'introvert_extravert', 'sensor_intuitive', 'thinker_feeler', 'judger_perceiver', 'approved', 'dating_status', 'colleges_universities', 'parents_convert_before_birth', 'elementary_school', 'location_i_grew_up', 'name_secondary_school', 'name_study_one_year', 'parent_location', 'complete_incomplete', 'photo', 'site', 'profile_last_modified_date', 'updated', 'acceptable_places_to_live', 'height_category', 'how_long_single']\n",
    "\n",
    "conts = ['age', 'years_orthodox_baal_teshuva', 'times_divorced', 'how_many_children', 'number_live_with_you', 'age_of_youngest', 'number_of_siblings', 'age_min', 'age_max', 'min_height_inches', 'max_height_inches', 'height_inches', 'num_matches']"
   ],
   "id": "9905aefb2ca98a0",
   "outputs": [],
   "execution_count": null
  },
  {
   "metadata": {},
   "cell_type": "code",
   "source": [
    "trn_df,val_df = train_test_split(df_members_filtered_features, test_size=0.25)\n",
    "\n",
    "existing_cats_in_trn_df = [col for col in cats if col in trn_df.columns]\n",
    "existing_conts_in_trn_df = [col for col in conts if col in trn_df.columns]\n",
    "\n",
    "trn_df[existing_cats_in_trn_df] = trn_df[existing_cats_in_trn_df].apply(lambda x: x.cat.codes)\n",
    "val_df[existing_cats_in_trn_df] = val_df[existing_cats_in_trn_df].apply(lambda x: x.cat.codes)\n",
    "\n",
    "trn_df = remove_objects(trn_df)\n",
    "val_df = remove_objects(val_df)\n",
    "\n",
    "trn_xs,trn_y = xs_y(trn_df, existing_cats_in_trn_df, existing_conts_in_trn_df)\n",
    "val_xs,val_y = xs_y(val_df, existing_cats_in_trn_df, existing_conts_in_trn_df)\n"
   ],
   "id": "6dd2d862c9401ea8",
   "outputs": [],
   "execution_count": null
  },
  {
   "metadata": {},
   "cell_type": "code",
   "source": [
    "scaler = StandardScaler()\n",
    "trn_xs_scaled = scaler.fit_transform(trn_xs)\n",
    "val_xs_scaled = scaler.transform(val_xs)\n",
    "\n",
    "xgb_model = XGBRegressor(objective='reg:squarederror',\n",
    "                        n_estimators=100,\n",
    "                        learning_rate=0.1,\n",
    "                        random_state=42)\n",
    "\n",
    "xgb_model.fit(trn_xs_scaled, trn_y)\n",
    "\n",
    "y_pred = xgb_model.predict(val_xs_scaled)"
   ],
   "id": "8fc42dc9e58f0233",
   "outputs": [],
   "execution_count": null
  },
  {
   "metadata": {},
   "cell_type": "code",
   "source": "mean_absolute_error(val_y, y_pred)",
   "id": "5655999e0bbc156a",
   "outputs": [],
   "execution_count": null
  },
  {
   "metadata": {},
   "cell_type": "code",
   "source": "trn_xs.isnull().sum()",
   "id": "36fe602d5d2d1d83",
   "outputs": [],
   "execution_count": null
  },
  {
   "metadata": {},
   "cell_type": "code",
   "source": [
    "trn_xs.replace(r'^\\s*$', np.nan, regex=True, inplace=True)\n",
    "trn_xs.fillna(0, inplace=True)\n",
    "trn_xs.isnull().sum()\n",
    "val_xs.fillna(0, inplace=True)"
   ],
   "id": "329bdaa90a3dd51d",
   "outputs": [],
   "execution_count": null
  },
  {
   "metadata": {},
   "cell_type": "code",
   "source": [
    "gbr = GradientBoostingRegressor(n_estimators=100, learning_rate=0.1, max_depth=4, min_samples_leaf=5, random_state=42)\n",
    "gbr.fit(trn_xs, trn_y)\n",
    "mean_absolute_error(val_y, gbr.predict(val_xs))"
   ],
   "id": "bef7027b9eb4f661",
   "outputs": [],
   "execution_count": null
  },
  {
   "metadata": {},
   "cell_type": "code",
   "source": "from sklearn.linear_model import Lasso, LassoCV",
   "id": "ab6cc05eb938d6b9",
   "outputs": [],
   "execution_count": null
  },
  {
   "metadata": {},
   "cell_type": "code",
   "source": [
    "def feature_engineering_prediction(rate):\n",
    "    features_to_keep = df_importances[df_importances['imp'] > rate]['cols'].tolist()\n",
    "    df_members_filtered_features = df_members[features_to_keep].copy()\n",
    "    proc_cats(df_members_filtered_features)\n",
    "    df_members_filtered_features['acceptance_rate'] = df_members['acceptance_rate']\n",
    "    if 'number_live_with_you' in df_members_filtered_features.columns:\n",
    "        df_members_filtered_features['number_live_with_you'] = df_members_filtered_features['number_live_with_you'].replace('N/A', 0)\n",
    "    df_members_filtered_features.replace(r'^\\s*$', np.nan, regex=True, inplace=True)\n",
    "\n",
    "    trn_df,val_df = train_test_split(df_members_filtered_features, test_size=0.25)\n",
    "\n",
    "    existing_cats_in_trn_df = [col for col in cats if col in trn_df.columns]\n",
    "    existing_conts_in_trn_df = [col for col in conts if col in trn_df.columns]\n",
    "\n",
    "    trn_df[existing_cats_in_trn_df] = trn_df[existing_cats_in_trn_df].apply(lambda x: x.cat.codes)\n",
    "    val_df[existing_cats_in_trn_df] = val_df[existing_cats_in_trn_df].apply(lambda x: x.cat.codes)\n",
    "\n",
    "    trn_df = remove_objects(trn_df)\n",
    "    val_df = remove_objects(val_df)\n",
    "\n",
    "    trn_xs,trn_y = xs_y(trn_df, existing_cats_in_trn_df, existing_conts_in_trn_df)\n",
    "    val_xs,val_y = xs_y(val_df, existing_cats_in_trn_df, existing_conts_in_trn_df)\n",
    "\n",
    "    trn_xs.fillna(0, inplace=True)\n",
    "    val_xs.fillna(0, inplace=True)\n",
    "\n",
    "\n",
    "    # sgd_regressor.fit(trn_xs, trn_y)\n",
    "    # y_pred = sgd_regressor.predict(val_xs)\n",
    "    # print(f'SGD MAE: {mean_absolute_error(val_y, y_pred)}')\n",
    "\n",
    "    # rf = RandomForestRegressor(100, min_samples_leaf=5)\n",
    "    # rf.fit(trn_xs, trn_y);\n",
    "    # print(f'Random Forest MAE: {mean_absolute_error(val_y, rf.predict(val_xs))}')\n",
    "\n",
    "    gbr = GradientBoostingRegressor(n_estimators=100, learning_rate=0.1, min_samples_leaf=5, random_state=42)\n",
    "    gbr.fit(trn_xs, trn_y)\n",
    "    mean_absolute_error(val_y, gbr.predict(val_xs))\n",
    "    print(f'Gradient Boost MAE: {mean_absolute_error(val_y, gbr.predict(val_xs))}')\n",
    "\n",
    "    scaler = StandardScaler()\n",
    "    trn_xs_scaled = scaler.fit_transform(trn_xs)\n",
    "    val_xs_scaled = scaler.transform(val_xs)\n",
    "\n",
    "    xgb_model = XGBRegressor(objective='reg:squarederror',\n",
    "                             n_estimators=150,\n",
    "                             learning_rate=0.1,\n",
    "                             random_state=42)\n",
    "\n",
    "    xgb_model.fit(trn_xs_scaled, trn_y)\n",
    "\n",
    "    y_pred = xgb_model.predict(val_xs_scaled)\n",
    "    print(f'XGBoost MAE: {mean_absolute_error(val_y, y_pred)}')\n",
    "\n",
    "    lasso = Lasso()\n",
    "    lasso.fit(trn_xs, trn_y)\n",
    "    print(f'Lasso MAE: {mean_absolute_error(val_y, lasso.predict(val_xs))}')\n",
    "\n",
    "    lcv = LassoCV(cv=100, random_state=42)\n",
    "    lcv.fit(trn_xs, trn_y)\n",
    "    print(f'LassoCV MAE: {mean_absolute_error(val_y, lcv.predict(val_xs))}')"
   ],
   "id": "d368564e44bb4cd4",
   "outputs": [],
   "execution_count": null
  },
  {
   "metadata": {},
   "cell_type": "code",
   "source": "feature_engineering_prediction(-1)",
   "id": "92b0781cf95924e",
   "outputs": [],
   "execution_count": null
  },
  {
   "metadata": {},
   "cell_type": "code",
   "source": "",
   "id": "900cf3be5c8714f7",
   "outputs": [],
   "execution_count": null
  }
 ],
 "metadata": {
  "kernelspec": {
   "name": "python3",
   "language": "python",
   "display_name": "Python 3 (ipykernel)"
  }
 },
 "nbformat": 5,
 "nbformat_minor": 9
}
