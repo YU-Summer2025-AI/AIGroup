{
 "cells": [
  {
   "metadata": {},
   "cell_type": "markdown",
   "source": "#1 - Collaborative Filtering",
   "id": "649cfb5b410faf2b"
  },
  {
   "metadata": {
    "ExecuteTime": {
     "end_time": "2025-07-25T15:46:45.979905Z",
     "start_time": "2025-07-25T15:46:40.095691Z"
    }
   },
   "cell_type": "code",
   "source": [
    "import importlib, get_data, process_matches_and_members\n",
    "importlib.reload(process_matches_and_members)\n",
    "\n",
    "df_matches = get_data.get_dataframe_from_postgres(\"matches\")\n",
    "df_matches = process_matches_and_members.process_match_rating(df_matches)\n",
    "df_members = get_data.get_dataframe_from_postgres(\"members\")"
   ],
   "id": "ed8002a9e9e07b6",
   "outputs": [],
   "execution_count": 2
  },
  {
   "metadata": {
    "ExecuteTime": {
     "end_time": "2025-07-25T15:46:46.245896Z",
     "start_time": "2025-07-25T15:46:45.986920Z"
    }
   },
   "cell_type": "code",
   "source": [
    "import pandas as pd\n",
    "# gives us a pd of all the matches where the woman was on YU connects,\n",
    "# and cuts out all the match info except for the ids and is_good_match\n",
    "yuconnects = pd.merge(df_matches, df_members[['id', 'site']],\n",
    "                      left_on='female_id',\n",
    "                      right_on='id',\n",
    "                      how='left') \\\n",
    "                      [lambda x: x['site'] == 'YUConnects'] \\\n",
    "                      .drop(columns=['id_x', 'id_y']) #these columns get generated at some point, not sure why"
   ],
   "id": "9eb693ed06d5cc2c",
   "outputs": [],
   "execution_count": 3
  },
  {
   "metadata": {
    "ExecuteTime": {
     "end_time": "2025-07-25T15:47:13.952128Z",
     "start_time": "2025-07-25T15:47:13.728119Z"
    }
   },
   "cell_type": "code",
   "source": [
    "from fastai.tabular.all import *\n",
    "\n",
    "procs = [Categorify]\n",
    "cat_names = ['male_id', 'female_id']\n",
    "dep_var = ['is_good_match']\n",
    "y_block = CategoryBlock()\n",
    "splits = RandomSplitter(valid_pct=0.2)(range_of(yuconnects))\n",
    "\n",
    "dls = TabularDataLoaders.from_df(\n",
    "    yuconnects,\n",
    "    path='.',\n",
    "    procs=procs,\n",
    "    cat_names=cat_names,\n",
    "    cont_names=[],\n",
    "    y_names=dep_var,\n",
    "    y_block=y_block,\n",
    "    splits=splits,\n",
    "    bs=64\n",
    ")"
   ],
   "id": "4e6cf2ee7f522f8e",
   "outputs": [],
   "execution_count": 7
  },
  {
   "metadata": {
    "ExecuteTime": {
     "end_time": "2025-07-22T18:56:34.417414Z",
     "start_time": "2025-07-22T18:55:40.880061Z"
    }
   },
   "cell_type": "code",
   "source": [
    "learn = tabular_learner(\n",
    "    dls,\n",
    "    metrics=accuracy\n",
    ")\n",
    "learn.fit_one_cycle(5, .01)\n",
    "# ~74% accuracy"
   ],
   "id": "f6cc4480ed5c94d5",
   "outputs": [
    {
     "data": {
      "text/plain": [
       "<IPython.core.display.HTML object>"
      ],
      "text/html": [
       "\n",
       "<style>\n",
       "    /* Turns off some styling */\n",
       "    progress {\n",
       "        /* gets rid of default border in Firefox and Opera. */\n",
       "        border: none;\n",
       "        /* Needs to be in here for Safari polyfill so background images work as expected. */\n",
       "        background-size: auto;\n",
       "    }\n",
       "    progress:not([value]), progress:not([value])::-webkit-progress-bar {\n",
       "        background: repeating-linear-gradient(45deg, #7e7e7e, #7e7e7e 10px, #5c5c5c 10px, #5c5c5c 20px);\n",
       "    }\n",
       "    .progress-bar-interrupted, .progress-bar-interrupted::-webkit-progress-bar {\n",
       "        background: #F44336;\n",
       "    }\n",
       "</style>\n"
      ]
     },
     "metadata": {},
     "output_type": "display_data"
    },
    {
     "data": {
      "text/plain": [
       "<IPython.core.display.HTML object>"
      ],
      "text/html": [
       "<table border=\"1\" class=\"dataframe\">\n",
       "  <thead>\n",
       "    <tr style=\"text-align: left;\">\n",
       "      <th>epoch</th>\n",
       "      <th>train_loss</th>\n",
       "      <th>valid_loss</th>\n",
       "      <th>accuracy</th>\n",
       "      <th>time</th>\n",
       "    </tr>\n",
       "  </thead>\n",
       "  <tbody>\n",
       "    <tr>\n",
       "      <td>0</td>\n",
       "      <td>0.529265</td>\n",
       "      <td>0.558147</td>\n",
       "      <td>0.723768</td>\n",
       "      <td>00:11</td>\n",
       "    </tr>\n",
       "    <tr>\n",
       "      <td>1</td>\n",
       "      <td>0.495763</td>\n",
       "      <td>0.544611</td>\n",
       "      <td>0.734185</td>\n",
       "      <td>00:10</td>\n",
       "    </tr>\n",
       "    <tr>\n",
       "      <td>2</td>\n",
       "      <td>0.481634</td>\n",
       "      <td>0.531893</td>\n",
       "      <td>0.740116</td>\n",
       "      <td>00:10</td>\n",
       "    </tr>\n",
       "    <tr>\n",
       "      <td>3</td>\n",
       "      <td>0.448142</td>\n",
       "      <td>0.536375</td>\n",
       "      <td>0.740154</td>\n",
       "      <td>00:10</td>\n",
       "    </tr>\n",
       "    <tr>\n",
       "      <td>4</td>\n",
       "      <td>0.451939</td>\n",
       "      <td>0.540190</td>\n",
       "      <td>0.740268</td>\n",
       "      <td>00:10</td>\n",
       "    </tr>\n",
       "  </tbody>\n",
       "</table>"
      ]
     },
     "metadata": {},
     "output_type": "display_data"
    }
   ],
   "execution_count": 71
  },
  {
   "metadata": {
    "ExecuteTime": {
     "end_time": "2025-07-25T15:47:20.641605Z",
     "start_time": "2025-07-25T15:47:20.629568Z"
    }
   },
   "cell_type": "code",
   "source": [
    "from sklearn.metrics import ConfusionMatrixDisplay\n",
    "import matplotlib.pyplot as plt\n",
    "\n",
    "preds, targs = learn.get_preds()\n",
    "predicted_classes = torch.argmax(preds, dim=1)\n",
    "\n",
    "class_names = ['Bad Match', 'Good Match']\n",
    "\n",
    "disp = ConfusionMatrixDisplay.from_predictions(\n",
    "    y_true=targs,\n",
    "    y_pred=predicted_classes,\n",
    "    display_labels=class_names,\n",
    "    cmap=plt.cm.Blues\n",
    ")\n",
    "\n",
    "disp.ax_.set_title(\"Confusion Matrix\")\n",
    "plt.show()"
   ],
   "id": "4f5a29711c672b8b",
   "outputs": [
    {
     "ename": "NameError",
     "evalue": "name 'learn' is not defined",
     "output_type": "error",
     "traceback": [
      "\u001B[0;31m---------------------------------------------------------------------------\u001B[0m",
      "\u001B[0;31mNameError\u001B[0m                                 Traceback (most recent call last)",
      "Cell \u001B[0;32mIn[9], line 4\u001B[0m\n\u001B[1;32m      1\u001B[0m \u001B[38;5;28;01mfrom\u001B[39;00m\u001B[38;5;250m \u001B[39m\u001B[38;5;21;01msklearn\u001B[39;00m\u001B[38;5;21;01m.\u001B[39;00m\u001B[38;5;21;01mmetrics\u001B[39;00m\u001B[38;5;250m \u001B[39m\u001B[38;5;28;01mimport\u001B[39;00m ConfusionMatrixDisplay\n\u001B[1;32m      2\u001B[0m \u001B[38;5;28;01mimport\u001B[39;00m\u001B[38;5;250m \u001B[39m\u001B[38;5;21;01mmatplotlib\u001B[39;00m\u001B[38;5;21;01m.\u001B[39;00m\u001B[38;5;21;01mpyplot\u001B[39;00m\u001B[38;5;250m \u001B[39m\u001B[38;5;28;01mas\u001B[39;00m\u001B[38;5;250m \u001B[39m\u001B[38;5;21;01mplt\u001B[39;00m\n\u001B[0;32m----> 4\u001B[0m preds, targs \u001B[38;5;241m=\u001B[39m \u001B[43mlearn\u001B[49m\u001B[38;5;241m.\u001B[39mget_preds()\n\u001B[1;32m      5\u001B[0m predicted_classes \u001B[38;5;241m=\u001B[39m torch\u001B[38;5;241m.\u001B[39margmax(preds, dim\u001B[38;5;241m=\u001B[39m\u001B[38;5;241m1\u001B[39m)\n\u001B[1;32m      7\u001B[0m class_names \u001B[38;5;241m=\u001B[39m [\u001B[38;5;124m'\u001B[39m\u001B[38;5;124mBad Match\u001B[39m\u001B[38;5;124m'\u001B[39m, \u001B[38;5;124m'\u001B[39m\u001B[38;5;124mGood Match\u001B[39m\u001B[38;5;124m'\u001B[39m]\n",
      "\u001B[0;31mNameError\u001B[0m: name 'learn' is not defined"
     ]
    }
   ],
   "execution_count": 9
  },
  {
   "metadata": {},
   "cell_type": "markdown",
   "source": "#2 Random Forest Model",
   "id": "1a7c8adf0db7a5eb"
  },
  {
   "metadata": {
    "ExecuteTime": {
     "end_time": "2025-07-25T15:47:25.110829Z",
     "start_time": "2025-07-25T15:47:24.047576Z"
    }
   },
   "cell_type": "code",
   "source": [
    "# this is a nested merge that gets all the data about the males and females in a match\n",
    "yuconnects_with_member_data = yuconnects.merge(df_members.add_prefix('female_'),\n",
    "                                               left_on='female_id',\n",
    "                                               right_on='female_id',\n",
    "                                               how='left',\n",
    "                                               suffixes=('', '_female_y')).merge(\n",
    "                                                   df_members.add_prefix('male_'),\n",
    "                                                   left_on='male_id',\n",
    "                                                   right_on='male_id',\n",
    "                                                   how='left',\n",
    "                                                   suffixes=('_female', '_male')\n",
    "                                               )\n"
   ],
   "id": "244a845c538422",
   "outputs": [],
   "execution_count": 10
  },
  {
   "metadata": {
    "ExecuteTime": {
     "end_time": "2025-07-25T15:47:25.550811Z",
     "start_time": "2025-07-25T15:47:25.548271Z"
    }
   },
   "cell_type": "code",
   "source": [
    "column_names = yuconnects_with_member_data.columns\n",
    "\n",
    "# all the continuous columns with operating data (some seemingly continuous columns have bad data)\n",
    "forest_cont_names = ['female_age', 'female_height_inches', 'female_num_matches',\n",
    "                     'female_acceptance_rate', 'female_min_height_inches', 'female_max_height_inches',\n",
    "                     'male_age', 'male_height_inches', 'male_num_matches',\n",
    "                     'male_acceptance_rate', 'male_min_height_inches', 'male_max_height_inches']\n",
    "\n",
    "# these are columns that are used to calculate 'is_good_match' and must be kept hidden from the model\n",
    "indicators_of_dep_var = [\n",
    "                         'ms','male_pr', 'male_s','female_s',\n",
    "                         'female_pr', 'matchmaker_pr', 'match_quality',\n",
    "                         'decline_reason','overall_pr','male_s_rating',\n",
    "                         'female_s_rating', 'quality_rating','overall_rating',\n",
    "                         ]\n",
    "# all columns that aren't continuous are categorical\n",
    "forest_cat_names = [col for col in column_names if col not in forest_cont_names and col not in indicators_of_dep_var and col not in dep_var]"
   ],
   "id": "e2fd6c2471dda959",
   "outputs": [],
   "execution_count": 11
  },
  {
   "metadata": {
    "ExecuteTime": {
     "end_time": "2025-07-25T15:47:28.215291Z",
     "start_time": "2025-07-25T15:47:26.477640Z"
    }
   },
   "cell_type": "code",
   "source": [
    "from sklearn.ensemble import RandomForestClassifier\n",
    "from sklearn.metrics import accuracy_score\n",
    "\n",
    "# We are adding to the procs FillMissing, because whereas before there were no missing values, now there are.\n",
    "# We are also adding normalize which will normalize the values in our columns with continuous values\n",
    "procs = [Categorify, Normalize, FillMissing]\n",
    "splits = RandomSplitter(valid_pct=0.2)(range_of(yuconnects_with_member_data))\n",
    "\n",
    "to = TabularPandas(yuconnects_with_member_data,\n",
    "                   procs=procs,\n",
    "                   cat_names=forest_cat_names,\n",
    "                   cont_names=forest_cont_names,\n",
    "                   y_names=dep_var,\n",
    "                   splits=splits,\n",
    "                   y_block=CategoryBlock())\n",
    "X_train = to.train.xs\n",
    "y_train = to.train.y\n",
    "X_valid = to.valid.xs\n",
    "y_valid = to.valid.y"
   ],
   "id": "78434a4bf3279865",
   "outputs": [
    {
     "name": "stderr",
     "output_type": "stream",
     "text": [
      "/Users/jackwarren/Library/Python/3.9/lib/python/site-packages/fastai/tabular/core.py:314: FutureWarning: A value is trying to be set on a copy of a DataFrame or Series through chained assignment using an inplace method.\n",
      "The behavior will change in pandas 3.0. This inplace method will never work because the intermediate object on which we are setting values always behaves as a copy.\n",
      "\n",
      "For example, when doing 'df[col].method(value, inplace=True)', try using 'df.method({col: value}, inplace=True)' or df[col] = df[col].method(value) instead, to perform the operation inplace on the original object.\n",
      "\n",
      "\n",
      "  to[n].fillna(self.na_dict[n], inplace=True)\n",
      "/Users/jackwarren/Library/Python/3.9/lib/python/site-packages/fastai/tabular/core.py:314: FutureWarning: A value is trying to be set on a copy of a DataFrame or Series through chained assignment using an inplace method.\n",
      "The behavior will change in pandas 3.0. This inplace method will never work because the intermediate object on which we are setting values always behaves as a copy.\n",
      "\n",
      "For example, when doing 'df[col].method(value, inplace=True)', try using 'df.method({col: value}, inplace=True)' or df[col] = df[col].method(value) instead, to perform the operation inplace on the original object.\n",
      "\n",
      "\n",
      "  to[n].fillna(self.na_dict[n], inplace=True)\n",
      "/Users/jackwarren/Library/Python/3.9/lib/python/site-packages/fastai/tabular/core.py:314: FutureWarning: A value is trying to be set on a copy of a DataFrame or Series through chained assignment using an inplace method.\n",
      "The behavior will change in pandas 3.0. This inplace method will never work because the intermediate object on which we are setting values always behaves as a copy.\n",
      "\n",
      "For example, when doing 'df[col].method(value, inplace=True)', try using 'df.method({col: value}, inplace=True)' or df[col] = df[col].method(value) instead, to perform the operation inplace on the original object.\n",
      "\n",
      "\n",
      "  to[n].fillna(self.na_dict[n], inplace=True)\n",
      "/Users/jackwarren/Library/Python/3.9/lib/python/site-packages/fastai/tabular/core.py:314: FutureWarning: A value is trying to be set on a copy of a DataFrame or Series through chained assignment using an inplace method.\n",
      "The behavior will change in pandas 3.0. This inplace method will never work because the intermediate object on which we are setting values always behaves as a copy.\n",
      "\n",
      "For example, when doing 'df[col].method(value, inplace=True)', try using 'df.method({col: value}, inplace=True)' or df[col] = df[col].method(value) instead, to perform the operation inplace on the original object.\n",
      "\n",
      "\n",
      "  to[n].fillna(self.na_dict[n], inplace=True)\n",
      "/Users/jackwarren/Library/Python/3.9/lib/python/site-packages/fastai/tabular/core.py:314: FutureWarning: A value is trying to be set on a copy of a DataFrame or Series through chained assignment using an inplace method.\n",
      "The behavior will change in pandas 3.0. This inplace method will never work because the intermediate object on which we are setting values always behaves as a copy.\n",
      "\n",
      "For example, when doing 'df[col].method(value, inplace=True)', try using 'df.method({col: value}, inplace=True)' or df[col] = df[col].method(value) instead, to perform the operation inplace on the original object.\n",
      "\n",
      "\n",
      "  to[n].fillna(self.na_dict[n], inplace=True)\n",
      "/Users/jackwarren/Library/Python/3.9/lib/python/site-packages/fastai/tabular/core.py:314: FutureWarning: A value is trying to be set on a copy of a DataFrame or Series through chained assignment using an inplace method.\n",
      "The behavior will change in pandas 3.0. This inplace method will never work because the intermediate object on which we are setting values always behaves as a copy.\n",
      "\n",
      "For example, when doing 'df[col].method(value, inplace=True)', try using 'df.method({col: value}, inplace=True)' or df[col] = df[col].method(value) instead, to perform the operation inplace on the original object.\n",
      "\n",
      "\n",
      "  to[n].fillna(self.na_dict[n], inplace=True)\n",
      "/Users/jackwarren/Library/Python/3.9/lib/python/site-packages/fastai/tabular/core.py:314: FutureWarning: A value is trying to be set on a copy of a DataFrame or Series through chained assignment using an inplace method.\n",
      "The behavior will change in pandas 3.0. This inplace method will never work because the intermediate object on which we are setting values always behaves as a copy.\n",
      "\n",
      "For example, when doing 'df[col].method(value, inplace=True)', try using 'df.method({col: value}, inplace=True)' or df[col] = df[col].method(value) instead, to perform the operation inplace on the original object.\n",
      "\n",
      "\n",
      "  to[n].fillna(self.na_dict[n], inplace=True)\n"
     ]
    }
   ],
   "execution_count": 12
  },
  {
   "metadata": {
    "ExecuteTime": {
     "end_time": "2025-07-22T18:56:45.236733Z",
     "start_time": "2025-07-22T18:56:38.948418Z"
    }
   },
   "cell_type": "code",
   "source": [
    "rf_model = RandomForestClassifier(n_estimators=100, random_state=42, n_jobs=-1, oob_score=True)\n",
    "rf_model.fit(X_train, y_train)\n",
    "\n",
    "y_pred_valid = rf_model.predict(X_valid)\n",
    "accuracy = accuracy_score(y_valid, y_pred_valid)\n",
    "print(f\"Accuracy: {accuracy}\")\n",
    "# 75% accuracy"
   ],
   "id": "f5fd51f0b047a9d",
   "outputs": [
    {
     "name": "stdout",
     "output_type": "stream",
     "text": [
      "Accuracy: 0.7525091240875912\n"
     ]
    }
   ],
   "execution_count": 76
  },
  {
   "metadata": {
    "ExecuteTime": {
     "end_time": "2025-07-22T18:56:45.293070Z",
     "start_time": "2025-07-22T18:56:45.290046Z"
    }
   },
   "cell_type": "code",
   "source": [
    "X_train.columns.tolist()\n",
    "# male_pr, ms,"
   ],
   "id": "befb2de36c036afb",
   "outputs": [
    {
     "data": {
      "text/plain": [
       "['male_id',\n",
       " 'female_id',\n",
       " 'site',\n",
       " 'female_country',\n",
       " 'female_city',\n",
       " 'female_state',\n",
       " 'female_gender',\n",
       " 'female_religious_orientation',\n",
       " 'female_ethnicity',\n",
       " 'female_baal_teshuva',\n",
       " 'female_years_orthodox_baal_teshuva',\n",
       " 'female_cohen',\n",
       " 'female_female_convert',\n",
       " 'female_parents_convert',\n",
       " 'female_mother_maternal_grandmother_jewish',\n",
       " 'female_family_religious_background',\n",
       " 'female_describe_family_religious_background',\n",
       " 'female_female_hc',\n",
       " 'female_kosher',\n",
       " 'female_female_dress',\n",
       " 'female_male_hc',\n",
       " 'female_frequency_of_tefilah',\n",
       " 'female_male_shul_attendance',\n",
       " 'female_torah_study',\n",
       " 'female_watching_tv',\n",
       " 'female_going_out_to_movies',\n",
       " 'female_watching_movies_at_home',\n",
       " 'female_secular_education',\n",
       " 'female_emphasis_of_studies',\n",
       " 'female_jewish_education',\n",
       " 'female_study_in_israel',\n",
       " 'female_profession',\n",
       " 'female_job_description',\n",
       " 'female_eye_color',\n",
       " 'female_hair_color',\n",
       " 'female_height',\n",
       " 'female_body_type',\n",
       " 'female_mental_physical_disability',\n",
       " 'female_my_marriage_status',\n",
       " 'female_how_long_single',\n",
       " 'female_times_divorced',\n",
       " 'female_how_many_children',\n",
       " 'female_number_live_with_you',\n",
       " 'female_age_of_youngest',\n",
       " 'female_want_additional_children',\n",
       " 'female_can_marry_cohen',\n",
       " 'female_number_of_siblings',\n",
       " 'female_political_orientation',\n",
       " 'female_smoking_habits',\n",
       " 'female_how_active_are_you',\n",
       " 'female_plan_to_aliya',\n",
       " 'female_willing_to_relocate',\n",
       " 'female_pet_person',\n",
       " 'female_pet_i_own',\n",
       " 'female_additional_pet_i_own',\n",
       " 'female_native_language',\n",
       " 'female_languages_spoken',\n",
       " 'female_age_min',\n",
       " 'female_age_max',\n",
       " 'female_height_min',\n",
       " 'female_height_max',\n",
       " 'female_desired_marital_status',\n",
       " 'female_minimum_education_level',\n",
       " 'female_acceptable_for_match_to_have_children',\n",
       " 'female_acceptable_religious_orientation',\n",
       " 'female_acceptable_smoking_habits',\n",
       " 'female_ok_dating_someone_with_disability',\n",
       " 'female_acceptable_aliyah_responses',\n",
       " 'female_acceptable_kosher_observance',\n",
       " 'female_ok_dating_baal_teshuva',\n",
       " 'female_family_relgious_background',\n",
       " 'female_desired_torah_study',\n",
       " 'female_desired_female_hc',\n",
       " 'female_desired_female_dress',\n",
       " 'female_jewish_education_preference',\n",
       " 'female_body_type_preference',\n",
       " 'female_preference_regarding_ethnicity',\n",
       " 'female_preference_cultural_background',\n",
       " 'female_my_personality_traits',\n",
       " 'female_my_personality_go_out_to',\n",
       " 'female_favorite_music',\n",
       " 'female_physical_activities_interests',\n",
       " 'female_my_favorite_pastimes',\n",
       " 'female_looking_for_in_a_person',\n",
       " 'female_short_description_of_yourself',\n",
       " 'female_community_work',\n",
       " 'female_introvert_extravert',\n",
       " 'female_sensor_intuitive',\n",
       " 'female_thinker_feeler',\n",
       " 'female_judger_perceiver',\n",
       " 'female_approved',\n",
       " 'female_dating_status',\n",
       " 'female_colleges_universities',\n",
       " 'female_parents_convert_before_birth',\n",
       " 'female_elementary_school',\n",
       " 'female_location_i_grew_up',\n",
       " 'female_name_secondary_school',\n",
       " 'female_name_study_one_year',\n",
       " 'female_parent_location',\n",
       " 'female_complete_incomplete',\n",
       " 'female_photo',\n",
       " 'female_site',\n",
       " 'female_profile_last_modified_date',\n",
       " 'female_updated',\n",
       " 'female_acceptable_places_to_live',\n",
       " 'male_country',\n",
       " 'male_city',\n",
       " 'male_state',\n",
       " 'male_gender',\n",
       " 'male_religious_orientation',\n",
       " 'male_ethnicity',\n",
       " 'male_baal_teshuva',\n",
       " 'male_years_orthodox_baal_teshuva',\n",
       " 'male_cohen',\n",
       " 'male_female_convert',\n",
       " 'male_parents_convert',\n",
       " 'male_mother_maternal_grandmother_jewish',\n",
       " 'male_family_religious_background',\n",
       " 'male_describe_family_religious_background',\n",
       " 'male_female_hc',\n",
       " 'male_kosher',\n",
       " 'male_female_dress',\n",
       " 'male_male_hc',\n",
       " 'male_frequency_of_tefilah',\n",
       " 'male_male_shul_attendance',\n",
       " 'male_torah_study',\n",
       " 'male_watching_tv',\n",
       " 'male_going_out_to_movies',\n",
       " 'male_watching_movies_at_home',\n",
       " 'male_secular_education',\n",
       " 'male_emphasis_of_studies',\n",
       " 'male_jewish_education',\n",
       " 'male_study_in_israel',\n",
       " 'male_profession',\n",
       " 'male_job_description',\n",
       " 'male_eye_color',\n",
       " 'male_hair_color',\n",
       " 'male_height',\n",
       " 'male_body_type',\n",
       " 'male_mental_physical_disability',\n",
       " 'male_my_marriage_status',\n",
       " 'male_how_long_single',\n",
       " 'male_times_divorced',\n",
       " 'male_how_many_children',\n",
       " 'male_number_live_with_you',\n",
       " 'male_age_of_youngest',\n",
       " 'male_want_additional_children',\n",
       " 'male_can_marry_cohen',\n",
       " 'male_number_of_siblings',\n",
       " 'male_political_orientation',\n",
       " 'male_smoking_habits',\n",
       " 'male_how_active_are_you',\n",
       " 'male_plan_to_aliya',\n",
       " 'male_willing_to_relocate',\n",
       " 'male_pet_person',\n",
       " 'male_pet_i_own',\n",
       " 'male_additional_pet_i_own',\n",
       " 'male_native_language',\n",
       " 'male_languages_spoken',\n",
       " 'male_age_min',\n",
       " 'male_age_max',\n",
       " 'male_height_min',\n",
       " 'male_height_max',\n",
       " 'male_desired_marital_status',\n",
       " 'male_minimum_education_level',\n",
       " 'male_acceptable_for_match_to_have_children',\n",
       " 'male_acceptable_religious_orientation',\n",
       " 'male_acceptable_smoking_habits',\n",
       " 'male_ok_dating_someone_with_disability',\n",
       " 'male_acceptable_aliyah_responses',\n",
       " 'male_acceptable_kosher_observance',\n",
       " 'male_ok_dating_baal_teshuva',\n",
       " 'male_family_relgious_background',\n",
       " 'male_desired_torah_study',\n",
       " 'male_desired_female_hc',\n",
       " 'male_desired_female_dress',\n",
       " 'male_jewish_education_preference',\n",
       " 'male_body_type_preference',\n",
       " 'male_preference_regarding_ethnicity',\n",
       " 'male_preference_cultural_background',\n",
       " 'male_my_personality_traits',\n",
       " 'male_my_personality_go_out_to',\n",
       " 'male_favorite_music',\n",
       " 'male_physical_activities_interests',\n",
       " 'male_my_favorite_pastimes',\n",
       " 'male_looking_for_in_a_person',\n",
       " 'male_short_description_of_yourself',\n",
       " 'male_community_work',\n",
       " 'male_introvert_extravert',\n",
       " 'male_sensor_intuitive',\n",
       " 'male_thinker_feeler',\n",
       " 'male_judger_perceiver',\n",
       " 'male_approved',\n",
       " 'male_dating_status',\n",
       " 'male_colleges_universities',\n",
       " 'male_parents_convert_before_birth',\n",
       " 'male_elementary_school',\n",
       " 'male_location_i_grew_up',\n",
       " 'male_name_secondary_school',\n",
       " 'male_name_study_one_year',\n",
       " 'male_parent_location',\n",
       " 'male_complete_incomplete',\n",
       " 'male_photo',\n",
       " 'male_site',\n",
       " 'male_profile_last_modified_date',\n",
       " 'male_updated',\n",
       " 'male_acceptable_places_to_live',\n",
       " 'female_acceptance_rate_na',\n",
       " 'female_min_height_inches_na',\n",
       " 'female_max_height_inches_na',\n",
       " 'male_height_inches_na',\n",
       " 'male_acceptance_rate_na',\n",
       " 'male_min_height_inches_na',\n",
       " 'male_max_height_inches_na',\n",
       " 'female_age',\n",
       " 'female_height_inches',\n",
       " 'female_num_matches',\n",
       " 'female_acceptance_rate',\n",
       " 'female_min_height_inches',\n",
       " 'female_max_height_inches',\n",
       " 'male_age',\n",
       " 'male_height_inches',\n",
       " 'male_num_matches',\n",
       " 'male_acceptance_rate',\n",
       " 'male_min_height_inches',\n",
       " 'male_max_height_inches']"
      ]
     },
     "execution_count": 77,
     "metadata": {},
     "output_type": "execute_result"
    }
   ],
   "execution_count": 77
  },
  {
   "metadata": {
    "ExecuteTime": {
     "end_time": "2025-07-22T18:56:45.392169Z",
     "start_time": "2025-07-22T18:56:45.347770Z"
    }
   },
   "cell_type": "code",
   "source": [
    "class_names = ['Bad Match', 'Good Match']\n",
    "\n",
    "disp = ConfusionMatrixDisplay.from_predictions(\n",
    "    y_true=y_valid,\n",
    "    y_pred=y_pred_valid,\n",
    "    display_labels=class_names,\n",
    "    cmap=plt.cm.Blues\n",
    ")\n",
    "\n",
    "disp.ax_.set_title(\"Confusion Matrix\")\n",
    "plt.show()"
   ],
   "id": "c577c6b66b449904",
   "outputs": [
    {
     "data": {
      "text/plain": [
       "<Figure size 640x480 with 2 Axes>"
      ],
      "image/png": "[encoded data removed]"
     },
     "metadata": {},
     "output_type": "display_data"
    }
   ],
   "execution_count": 78
  },
  {
   "metadata": {
    "ExecuteTime": {
     "end_time": "2025-07-25T15:47:49.725348Z",
     "start_time": "2025-07-25T15:47:36.444017Z"
    }
   },
   "cell_type": "code",
   "source": [
    "import xgboost as xgb\n",
    "xgb_model = xgb.XGBClassifier(\n",
    "    n_estimators= 100,\n",
    "    learning_rate=.1,\n",
    "    max_depth=20,\n",
    "    enable_categorical=True,\n",
    "    subsample=1,\n",
    "    objective='binary:logistic',\n",
    "    eval_metric='logloss',\n",
    "    use_label_encoder=False,\n",
    "    random_state=42\n",
    ")\n",
    "\n",
    "xgb_model.fit(X_train, y_train)\n",
    "\n",
    "y_pred_valid = xgb_model.predict(X_valid)\n",
    "\n",
    "accuracy = accuracy_score(y_valid, y_pred_valid)\n",
    "print(f\"Accuracy: {accuracy}\")\n",
    "# ~76.5% accuracy (playing with hyperparams didn't change much as long as max_depth was above 20)"
   ],
   "id": "70b685769f759f79",
   "outputs": [
    {
     "name": "stderr",
     "output_type": "stream",
     "text": [
      "/Users/jackwarren/Library/Python/3.9/lib/python/site-packages/xgboost/core.py:158: UserWarning: [11:47:36] WARNING: /Users/runner/work/xgboost/xgboost/src/learner.cc:740: \n",
      "Parameters: { \"use_label_encoder\" } are not used.\n",
      "\n",
      "  warnings.warn(smsg, UserWarning)\n"
     ]
    },
    {
     "name": "stdout",
     "output_type": "stream",
     "text": [
      "Accuracy: 0.7662712895377128\n"
     ]
    }
   ],
   "execution_count": 13
  },
  {
   "metadata": {
    "ExecuteTime": {
     "end_time": "2025-07-22T18:56:58.133589Z",
     "start_time": "2025-07-22T18:56:58.086378Z"
    }
   },
   "cell_type": "code",
   "source": [
    "class_names = ['Bad Match', 'Good Match']\n",
    "\n",
    "disp = ConfusionMatrixDisplay.from_predictions(\n",
    "    y_true=y_valid,\n",
    "    y_pred=y_pred_valid,\n",
    "    display_labels=class_names,\n",
    "    cmap=plt.cm.Blues\n",
    ")\n",
    "\n",
    "disp.ax_.set_title(\"Confusion Matrix\")\n",
    "plt.show()"
   ],
   "id": "4453f29c06582cbe",
   "outputs": [
    {
     "data": {
      "text/plain": [
       "<Figure size 640x480 with 2 Axes>"
      ],
      "image/png": "[encoded data removed]"
     },
     "metadata": {},
     "output_type": "display_data"
    }
   ],
   "execution_count": 80
  },
  {
   "metadata": {},
   "cell_type": "markdown",
   "source": "#2a - Random Forest with Rejection Counts",
   "id": "1a6a65491679d816"
  },
  {
   "metadata": {
    "ExecuteTime": {
     "end_time": "2025-07-25T15:48:06.415807Z",
     "start_time": "2025-07-25T15:47:56.711847Z"
    }
   },
   "cell_type": "code",
   "source": [
    "import importlib\n",
    "import rejection_type_counts\n",
    "importlib.reload(rejection_type_counts)\n",
    "members_with_matches = df_members[df_members['num_matches'] > 0]\n",
    "rejection_count = rejection_type_counts.add_rejection_type_counts(members_with_matches, df_matches)"
   ],
   "id": "70fac6c5d9ba8b22",
   "outputs": [],
   "execution_count": 14
  },
  {
   "metadata": {
    "ExecuteTime": {
     "end_time": "2025-07-25T15:48:09.230870Z",
     "start_time": "2025-07-25T15:48:08.391427Z"
    }
   },
   "cell_type": "code",
   "source": [
    "# this is a nested merge that gets all the data about the males and females in a match\n",
    "yuconnects_with_rejection_count = yuconnects.merge(rejection_count.add_prefix('female_'),\n",
    "                                               left_on='female_id',\n",
    "                                               right_on='female_id',\n",
    "                                               how='left',\n",
    "                                               suffixes=('', '_female_y')).merge(\n",
    "                                                   rejection_count.add_prefix('male_'),\n",
    "                                                   left_on='male_id',\n",
    "                                                   right_on='male_id',\n",
    "                                                   how='left',\n",
    "                                                   suffixes=('_female', '_male')\n",
    "                                               )\n",
    "# gets rid of bad values that allow for more continuous columns\n",
    "yuconnects_with_rejection_count = process_matches_and_members.process_data(yuconnects_with_rejection_count)"
   ],
   "id": "c19a4400903a61c8",
   "outputs": [],
   "execution_count": 15
  },
  {
   "metadata": {
    "ExecuteTime": {
     "end_time": "2025-07-25T15:48:11.498324Z",
     "start_time": "2025-07-25T15:48:11.494017Z"
    }
   },
   "cell_type": "code",
   "source": [
    "column_names = yuconnects_with_rejection_count.columns\n",
    "\n",
    "# all the rejection count columns\n",
    "rejection_counts_columns = [col for col in column_names if col.startswith('male_male_reason')\n",
    "                                                or col.startswith('male_male_rejection')\n",
    "                                                or col.startswith('female_female_reason')\n",
    "                                                or col.startswith('female_female_rejection')]\n",
    "\n",
    "# all the continuous columns with operating data (some seemingly continuous columns have bad data)\n",
    "forest_cont_names = rejection_counts_columns +  ['female_age', 'female_height_inches', 'female_num_matches',\n",
    "                     'female_acceptance_rate', 'female_min_height_inches', 'female_max_height_inches',\n",
    "                     'male_age', 'male_height_inches', 'male_num_matches',\n",
    "                     'male_acceptance_rate', 'male_min_height_inches', 'male_max_height_inches']\n",
    "\n",
    "# all columns that aren't continuous are categorical\n",
    "forest_cat_names = [col for col in column_names if col not in forest_cont_names and col not in indicators_of_dep_var and col not in dep_var]"
   ],
   "id": "5521b0d1100eb00e",
   "outputs": [],
   "execution_count": 16
  },
  {
   "metadata": {
    "ExecuteTime": {
     "end_time": "2025-07-22T18:57:13.873375Z",
     "start_time": "2025-07-22T18:57:11.264590Z"
    }
   },
   "cell_type": "code",
   "source": [
    "from sklearn.ensemble import RandomForestClassifier\n",
    "from sklearn.metrics import accuracy_score\n",
    "\n",
    "# We are adding to the procs FillMissing, because whereas before there were no missing values, now there are.\n",
    "# We are also adding normalize which will normalize the values in our columns with continuous values\n",
    "procs = [Categorify, Normalize, FillMissing]\n",
    "splits = RandomSplitter(valid_pct=0.2)(range_of(yuconnects_with_rejection_count))\n",
    "to = TabularPandas(yuconnects_with_rejection_count,\n",
    "                   procs=procs,\n",
    "                   cat_names=forest_cat_names,\n",
    "                   cont_names=forest_cont_names,\n",
    "                   y_names=dep_var,\n",
    "                   splits=splits,\n",
    "                   y_block=CategoryBlock())\n",
    "X_train = to.train.xs\n",
    "y_train = to.train.y\n",
    "X_valid = to.valid.xs\n",
    "y_valid = to.valid.y"
   ],
   "id": "d84ace68ad0e9ada",
   "outputs": [
    {
     "name": "stderr",
     "output_type": "stream",
     "text": [
      "/Users/jackwarren/Library/Python/3.9/lib/python/site-packages/numpy/lib/_nanfunctions_impl.py:1231: RuntimeWarning: Mean of empty slice\n",
      "  return np.nanmean(a, axis, out=out, keepdims=keepdims)\n",
      "/Users/jackwarren/Library/Python/3.9/lib/python/site-packages/numpy/lib/_nanfunctions_impl.py:1231: RuntimeWarning: Mean of empty slice\n",
      "  return np.nanmean(a, axis, out=out, keepdims=keepdims)\n",
      "/Users/jackwarren/Library/Python/3.9/lib/python/site-packages/fastai/tabular/core.py:314: FutureWarning: A value is trying to be set on a copy of a DataFrame or Series through chained assignment using an inplace method.\n",
      "The behavior will change in pandas 3.0. This inplace method will never work because the intermediate object on which we are setting values always behaves as a copy.\n",
      "\n",
      "For example, when doing 'df[col].method(value, inplace=True)', try using 'df.method({col: value}, inplace=True)' or df[col] = df[col].method(value) instead, to perform the operation inplace on the original object.\n",
      "\n",
      "\n",
      "  to[n].fillna(self.na_dict[n], inplace=True)\n",
      "/Users/jackwarren/Library/Python/3.9/lib/python/site-packages/fastai/tabular/core.py:316: PerformanceWarning: DataFrame is highly fragmented.  This is usually the result of calling `frame.insert` many times, which has poor performance.  Consider joining all columns at once using pd.concat(axis=1) instead. To get a de-fragmented frame, use `newframe = frame.copy()`\n",
      "  to.loc[:,n+'_na'] = missing[n]\n",
      "/Users/jackwarren/Library/Python/3.9/lib/python/site-packages/fastai/tabular/core.py:314: FutureWarning: A value is trying to be set on a copy of a DataFrame or Series through chained assignment using an inplace method.\n",
      "The behavior will change in pandas 3.0. This inplace method will never work because the intermediate object on which we are setting values always behaves as a copy.\n",
      "\n",
      "For example, when doing 'df[col].method(value, inplace=True)', try using 'df.method({col: value}, inplace=True)' or df[col] = df[col].method(value) instead, to perform the operation inplace on the original object.\n",
      "\n",
      "\n",
      "  to[n].fillna(self.na_dict[n], inplace=True)\n",
      "/Users/jackwarren/Library/Python/3.9/lib/python/site-packages/fastai/tabular/core.py:316: PerformanceWarning: DataFrame is highly fragmented.  This is usually the result of calling `frame.insert` many times, which has poor performance.  Consider joining all columns at once using pd.concat(axis=1) instead. To get a de-fragmented frame, use `newframe = frame.copy()`\n",
      "  to.loc[:,n+'_na'] = missing[n]\n",
      "/Users/jackwarren/Library/Python/3.9/lib/python/site-packages/fastai/tabular/core.py:314: FutureWarning: A value is trying to be set on a copy of a DataFrame or Series through chained assignment using an inplace method.\n",
      "The behavior will change in pandas 3.0. This inplace method will never work because the intermediate object on which we are setting values always behaves as a copy.\n",
      "\n",
      "For example, when doing 'df[col].method(value, inplace=True)', try using 'df.method({col: value}, inplace=True)' or df[col] = df[col].method(value) instead, to perform the operation inplace on the original object.\n",
      "\n",
      "\n",
      "  to[n].fillna(self.na_dict[n], inplace=True)\n",
      "/Users/jackwarren/Library/Python/3.9/lib/python/site-packages/fastai/tabular/core.py:316: PerformanceWarning: DataFrame is highly fragmented.  This is usually the result of calling `frame.insert` many times, which has poor performance.  Consider joining all columns at once using pd.concat(axis=1) instead. To get a de-fragmented frame, use `newframe = frame.copy()`\n",
      "  to.loc[:,n+'_na'] = missing[n]\n",
      "/Users/jackwarren/Library/Python/3.9/lib/python/site-packages/fastai/tabular/core.py:314: FutureWarning: A value is trying to be set on a copy of a DataFrame or Series through chained assignment using an inplace method.\n",
      "The behavior will change in pandas 3.0. This inplace method will never work because the intermediate object on which we are setting values always behaves as a copy.\n",
      "\n",
      "For example, when doing 'df[col].method(value, inplace=True)', try using 'df.method({col: value}, inplace=True)' or df[col] = df[col].method(value) instead, to perform the operation inplace on the original object.\n",
      "\n",
      "\n",
      "  to[n].fillna(self.na_dict[n], inplace=True)\n",
      "/Users/jackwarren/Library/Python/3.9/lib/python/site-packages/fastai/tabular/core.py:316: PerformanceWarning: DataFrame is highly fragmented.  This is usually the result of calling `frame.insert` many times, which has poor performance.  Consider joining all columns at once using pd.concat(axis=1) instead. To get a de-fragmented frame, use `newframe = frame.copy()`\n",
      "  to.loc[:,n+'_na'] = missing[n]\n",
      "/Users/jackwarren/Library/Python/3.9/lib/python/site-packages/fastai/tabular/core.py:314: FutureWarning: A value is trying to be set on a copy of a DataFrame or Series through chained assignment using an inplace method.\n",
      "The behavior will change in pandas 3.0. This inplace method will never work because the intermediate object on which we are setting values always behaves as a copy.\n",
      "\n",
      "For example, when doing 'df[col].method(value, inplace=True)', try using 'df.method({col: value}, inplace=True)' or df[col] = df[col].method(value) instead, to perform the operation inplace on the original object.\n",
      "\n",
      "\n",
      "  to[n].fillna(self.na_dict[n], inplace=True)\n",
      "/Users/jackwarren/Library/Python/3.9/lib/python/site-packages/fastai/tabular/core.py:316: PerformanceWarning: DataFrame is highly fragmented.  This is usually the result of calling `frame.insert` many times, which has poor performance.  Consider joining all columns at once using pd.concat(axis=1) instead. To get a de-fragmented frame, use `newframe = frame.copy()`\n",
      "  to.loc[:,n+'_na'] = missing[n]\n",
      "/Users/jackwarren/Library/Python/3.9/lib/python/site-packages/fastai/tabular/core.py:314: FutureWarning: A value is trying to be set on a copy of a DataFrame or Series through chained assignment using an inplace method.\n",
      "The behavior will change in pandas 3.0. This inplace method will never work because the intermediate object on which we are setting values always behaves as a copy.\n",
      "\n",
      "For example, when doing 'df[col].method(value, inplace=True)', try using 'df.method({col: value}, inplace=True)' or df[col] = df[col].method(value) instead, to perform the operation inplace on the original object.\n",
      "\n",
      "\n",
      "  to[n].fillna(self.na_dict[n], inplace=True)\n",
      "/Users/jackwarren/Library/Python/3.9/lib/python/site-packages/fastai/tabular/core.py:316: PerformanceWarning: DataFrame is highly fragmented.  This is usually the result of calling `frame.insert` many times, which has poor performance.  Consider joining all columns at once using pd.concat(axis=1) instead. To get a de-fragmented frame, use `newframe = frame.copy()`\n",
      "  to.loc[:,n+'_na'] = missing[n]\n",
      "/Users/jackwarren/Library/Python/3.9/lib/python/site-packages/fastai/tabular/core.py:314: FutureWarning: A value is trying to be set on a copy of a DataFrame or Series through chained assignment using an inplace method.\n",
      "The behavior will change in pandas 3.0. This inplace method will never work because the intermediate object on which we are setting values always behaves as a copy.\n",
      "\n",
      "For example, when doing 'df[col].method(value, inplace=True)', try using 'df.method({col: value}, inplace=True)' or df[col] = df[col].method(value) instead, to perform the operation inplace on the original object.\n",
      "\n",
      "\n",
      "  to[n].fillna(self.na_dict[n], inplace=True)\n",
      "/Users/jackwarren/Library/Python/3.9/lib/python/site-packages/fastai/tabular/core.py:316: PerformanceWarning: DataFrame is highly fragmented.  This is usually the result of calling `frame.insert` many times, which has poor performance.  Consider joining all columns at once using pd.concat(axis=1) instead. To get a de-fragmented frame, use `newframe = frame.copy()`\n",
      "  to.loc[:,n+'_na'] = missing[n]\n",
      "/Users/jackwarren/Library/Python/3.9/lib/python/site-packages/fastai/tabular/core.py:314: FutureWarning: A value is trying to be set on a copy of a DataFrame or Series through chained assignment using an inplace method.\n",
      "The behavior will change in pandas 3.0. This inplace method will never work because the intermediate object on which we are setting values always behaves as a copy.\n",
      "\n",
      "For example, when doing 'df[col].method(value, inplace=True)', try using 'df.method({col: value}, inplace=True)' or df[col] = df[col].method(value) instead, to perform the operation inplace on the original object.\n",
      "\n",
      "\n",
      "  to[n].fillna(self.na_dict[n], inplace=True)\n",
      "/Users/jackwarren/Library/Python/3.9/lib/python/site-packages/fastai/tabular/core.py:316: PerformanceWarning: DataFrame is highly fragmented.  This is usually the result of calling `frame.insert` many times, which has poor performance.  Consider joining all columns at once using pd.concat(axis=1) instead. To get a de-fragmented frame, use `newframe = frame.copy()`\n",
      "  to.loc[:,n+'_na'] = missing[n]\n",
      "/Users/jackwarren/Library/Python/3.9/lib/python/site-packages/fastai/tabular/core.py:314: FutureWarning: A value is trying to be set on a copy of a DataFrame or Series through chained assignment using an inplace method.\n",
      "The behavior will change in pandas 3.0. This inplace method will never work because the intermediate object on which we are setting values always behaves as a copy.\n",
      "\n",
      "For example, when doing 'df[col].method(value, inplace=True)', try using 'df.method({col: value}, inplace=True)' or df[col] = df[col].method(value) instead, to perform the operation inplace on the original object.\n",
      "\n",
      "\n",
      "  to[n].fillna(self.na_dict[n], inplace=True)\n",
      "/Users/jackwarren/Library/Python/3.9/lib/python/site-packages/fastai/tabular/core.py:316: PerformanceWarning: DataFrame is highly fragmented.  This is usually the result of calling `frame.insert` many times, which has poor performance.  Consider joining all columns at once using pd.concat(axis=1) instead. To get a de-fragmented frame, use `newframe = frame.copy()`\n",
      "  to.loc[:,n+'_na'] = missing[n]\n",
      "/Users/jackwarren/Library/Python/3.9/lib/python/site-packages/fastai/tabular/core.py:314: FutureWarning: A value is trying to be set on a copy of a DataFrame or Series through chained assignment using an inplace method.\n",
      "The behavior will change in pandas 3.0. This inplace method will never work because the intermediate object on which we are setting values always behaves as a copy.\n",
      "\n",
      "For example, when doing 'df[col].method(value, inplace=True)', try using 'df.method({col: value}, inplace=True)' or df[col] = df[col].method(value) instead, to perform the operation inplace on the original object.\n",
      "\n",
      "\n",
      "  to[n].fillna(self.na_dict[n], inplace=True)\n",
      "/Users/jackwarren/Library/Python/3.9/lib/python/site-packages/fastai/tabular/core.py:316: PerformanceWarning: DataFrame is highly fragmented.  This is usually the result of calling `frame.insert` many times, which has poor performance.  Consider joining all columns at once using pd.concat(axis=1) instead. To get a de-fragmented frame, use `newframe = frame.copy()`\n",
      "  to.loc[:,n+'_na'] = missing[n]\n",
      "/Users/jackwarren/Library/Python/3.9/lib/python/site-packages/fastai/tabular/core.py:314: FutureWarning: A value is trying to be set on a copy of a DataFrame or Series through chained assignment using an inplace method.\n",
      "The behavior will change in pandas 3.0. This inplace method will never work because the intermediate object on which we are setting values always behaves as a copy.\n",
      "\n",
      "For example, when doing 'df[col].method(value, inplace=True)', try using 'df.method({col: value}, inplace=True)' or df[col] = df[col].method(value) instead, to perform the operation inplace on the original object.\n",
      "\n",
      "\n",
      "  to[n].fillna(self.na_dict[n], inplace=True)\n",
      "/Users/jackwarren/Library/Python/3.9/lib/python/site-packages/fastai/tabular/core.py:316: PerformanceWarning: DataFrame is highly fragmented.  This is usually the result of calling `frame.insert` many times, which has poor performance.  Consider joining all columns at once using pd.concat(axis=1) instead. To get a de-fragmented frame, use `newframe = frame.copy()`\n",
      "  to.loc[:,n+'_na'] = missing[n]\n",
      "/Users/jackwarren/Library/Python/3.9/lib/python/site-packages/fastai/tabular/core.py:314: FutureWarning: A value is trying to be set on a copy of a DataFrame or Series through chained assignment using an inplace method.\n",
      "The behavior will change in pandas 3.0. This inplace method will never work because the intermediate object on which we are setting values always behaves as a copy.\n",
      "\n",
      "For example, when doing 'df[col].method(value, inplace=True)', try using 'df.method({col: value}, inplace=True)' or df[col] = df[col].method(value) instead, to perform the operation inplace on the original object.\n",
      "\n",
      "\n",
      "  to[n].fillna(self.na_dict[n], inplace=True)\n",
      "/Users/jackwarren/Library/Python/3.9/lib/python/site-packages/fastai/tabular/core.py:316: PerformanceWarning: DataFrame is highly fragmented.  This is usually the result of calling `frame.insert` many times, which has poor performance.  Consider joining all columns at once using pd.concat(axis=1) instead. To get a de-fragmented frame, use `newframe = frame.copy()`\n",
      "  to.loc[:,n+'_na'] = missing[n]\n",
      "/Users/jackwarren/Library/Python/3.9/lib/python/site-packages/fastai/tabular/core.py:314: FutureWarning: A value is trying to be set on a copy of a DataFrame or Series through chained assignment using an inplace method.\n",
      "The behavior will change in pandas 3.0. This inplace method will never work because the intermediate object on which we are setting values always behaves as a copy.\n",
      "\n",
      "For example, when doing 'df[col].method(value, inplace=True)', try using 'df.method({col: value}, inplace=True)' or df[col] = df[col].method(value) instead, to perform the operation inplace on the original object.\n",
      "\n",
      "\n",
      "  to[n].fillna(self.na_dict[n], inplace=True)\n",
      "/Users/jackwarren/Library/Python/3.9/lib/python/site-packages/fastai/tabular/core.py:316: PerformanceWarning: DataFrame is highly fragmented.  This is usually the result of calling `frame.insert` many times, which has poor performance.  Consider joining all columns at once using pd.concat(axis=1) instead. To get a de-fragmented frame, use `newframe = frame.copy()`\n",
      "  to.loc[:,n+'_na'] = missing[n]\n",
      "/Users/jackwarren/Library/Python/3.9/lib/python/site-packages/fastai/tabular/core.py:314: FutureWarning: A value is trying to be set on a copy of a DataFrame or Series through chained assignment using an inplace method.\n",
      "The behavior will change in pandas 3.0. This inplace method will never work because the intermediate object on which we are setting values always behaves as a copy.\n",
      "\n",
      "For example, when doing 'df[col].method(value, inplace=True)', try using 'df.method({col: value}, inplace=True)' or df[col] = df[col].method(value) instead, to perform the operation inplace on the original object.\n",
      "\n",
      "\n",
      "  to[n].fillna(self.na_dict[n], inplace=True)\n",
      "/Users/jackwarren/Library/Python/3.9/lib/python/site-packages/fastai/tabular/core.py:316: PerformanceWarning: DataFrame is highly fragmented.  This is usually the result of calling `frame.insert` many times, which has poor performance.  Consider joining all columns at once using pd.concat(axis=1) instead. To get a de-fragmented frame, use `newframe = frame.copy()`\n",
      "  to.loc[:,n+'_na'] = missing[n]\n",
      "/Users/jackwarren/Library/Python/3.9/lib/python/site-packages/fastai/tabular/core.py:314: FutureWarning: A value is trying to be set on a copy of a DataFrame or Series through chained assignment using an inplace method.\n",
      "The behavior will change in pandas 3.0. This inplace method will never work because the intermediate object on which we are setting values always behaves as a copy.\n",
      "\n",
      "For example, when doing 'df[col].method(value, inplace=True)', try using 'df.method({col: value}, inplace=True)' or df[col] = df[col].method(value) instead, to perform the operation inplace on the original object.\n",
      "\n",
      "\n",
      "  to[n].fillna(self.na_dict[n], inplace=True)\n",
      "/Users/jackwarren/Library/Python/3.9/lib/python/site-packages/fastai/tabular/core.py:316: PerformanceWarning: DataFrame is highly fragmented.  This is usually the result of calling `frame.insert` many times, which has poor performance.  Consider joining all columns at once using pd.concat(axis=1) instead. To get a de-fragmented frame, use `newframe = frame.copy()`\n",
      "  to.loc[:,n+'_na'] = missing[n]\n",
      "/Users/jackwarren/Library/Python/3.9/lib/python/site-packages/fastai/tabular/core.py:314: FutureWarning: A value is trying to be set on a copy of a DataFrame or Series through chained assignment using an inplace method.\n",
      "The behavior will change in pandas 3.0. This inplace method will never work because the intermediate object on which we are setting values always behaves as a copy.\n",
      "\n",
      "For example, when doing 'df[col].method(value, inplace=True)', try using 'df.method({col: value}, inplace=True)' or df[col] = df[col].method(value) instead, to perform the operation inplace on the original object.\n",
      "\n",
      "\n",
      "  to[n].fillna(self.na_dict[n], inplace=True)\n",
      "/Users/jackwarren/Library/Python/3.9/lib/python/site-packages/fastai/tabular/core.py:316: PerformanceWarning: DataFrame is highly fragmented.  This is usually the result of calling `frame.insert` many times, which has poor performance.  Consider joining all columns at once using pd.concat(axis=1) instead. To get a de-fragmented frame, use `newframe = frame.copy()`\n",
      "  to.loc[:,n+'_na'] = missing[n]\n",
      "/Users/jackwarren/Library/Python/3.9/lib/python/site-packages/fastai/tabular/core.py:314: FutureWarning: A value is trying to be set on a copy of a DataFrame or Series through chained assignment using an inplace method.\n",
      "The behavior will change in pandas 3.0. This inplace method will never work because the intermediate object on which we are setting values always behaves as a copy.\n",
      "\n",
      "For example, when doing 'df[col].method(value, inplace=True)', try using 'df.method({col: value}, inplace=True)' or df[col] = df[col].method(value) instead, to perform the operation inplace on the original object.\n",
      "\n",
      "\n",
      "  to[n].fillna(self.na_dict[n], inplace=True)\n",
      "/Users/jackwarren/Library/Python/3.9/lib/python/site-packages/fastai/tabular/core.py:316: PerformanceWarning: DataFrame is highly fragmented.  This is usually the result of calling `frame.insert` many times, which has poor performance.  Consider joining all columns at once using pd.concat(axis=1) instead. To get a de-fragmented frame, use `newframe = frame.copy()`\n",
      "  to.loc[:,n+'_na'] = missing[n]\n",
      "/Users/jackwarren/Library/Python/3.9/lib/python/site-packages/fastai/tabular/core.py:314: FutureWarning: A value is trying to be set on a copy of a DataFrame or Series through chained assignment using an inplace method.\n",
      "The behavior will change in pandas 3.0. This inplace method will never work because the intermediate object on which we are setting values always behaves as a copy.\n",
      "\n",
      "For example, when doing 'df[col].method(value, inplace=True)', try using 'df.method({col: value}, inplace=True)' or df[col] = df[col].method(value) instead, to perform the operation inplace on the original object.\n",
      "\n",
      "\n",
      "  to[n].fillna(self.na_dict[n], inplace=True)\n",
      "/Users/jackwarren/Library/Python/3.9/lib/python/site-packages/fastai/tabular/core.py:316: PerformanceWarning: DataFrame is highly fragmented.  This is usually the result of calling `frame.insert` many times, which has poor performance.  Consider joining all columns at once using pd.concat(axis=1) instead. To get a de-fragmented frame, use `newframe = frame.copy()`\n",
      "  to.loc[:,n+'_na'] = missing[n]\n",
      "/Users/jackwarren/Library/Python/3.9/lib/python/site-packages/fastai/tabular/core.py:314: FutureWarning: A value is trying to be set on a copy of a DataFrame or Series through chained assignment using an inplace method.\n",
      "The behavior will change in pandas 3.0. This inplace method will never work because the intermediate object on which we are setting values always behaves as a copy.\n",
      "\n",
      "For example, when doing 'df[col].method(value, inplace=True)', try using 'df.method({col: value}, inplace=True)' or df[col] = df[col].method(value) instead, to perform the operation inplace on the original object.\n",
      "\n",
      "\n",
      "  to[n].fillna(self.na_dict[n], inplace=True)\n",
      "/Users/jackwarren/Library/Python/3.9/lib/python/site-packages/fastai/tabular/core.py:316: PerformanceWarning: DataFrame is highly fragmented.  This is usually the result of calling `frame.insert` many times, which has poor performance.  Consider joining all columns at once using pd.concat(axis=1) instead. To get a de-fragmented frame, use `newframe = frame.copy()`\n",
      "  to.loc[:,n+'_na'] = missing[n]\n",
      "/Users/jackwarren/Library/Python/3.9/lib/python/site-packages/fastai/tabular/core.py:314: FutureWarning: A value is trying to be set on a copy of a DataFrame or Series through chained assignment using an inplace method.\n",
      "The behavior will change in pandas 3.0. This inplace method will never work because the intermediate object on which we are setting values always behaves as a copy.\n",
      "\n",
      "For example, when doing 'df[col].method(value, inplace=True)', try using 'df.method({col: value}, inplace=True)' or df[col] = df[col].method(value) instead, to perform the operation inplace on the original object.\n",
      "\n",
      "\n",
      "  to[n].fillna(self.na_dict[n], inplace=True)\n",
      "/Users/jackwarren/Library/Python/3.9/lib/python/site-packages/fastai/tabular/core.py:316: PerformanceWarning: DataFrame is highly fragmented.  This is usually the result of calling `frame.insert` many times, which has poor performance.  Consider joining all columns at once using pd.concat(axis=1) instead. To get a de-fragmented frame, use `newframe = frame.copy()`\n",
      "  to.loc[:,n+'_na'] = missing[n]\n",
      "/Users/jackwarren/Library/Python/3.9/lib/python/site-packages/fastai/tabular/core.py:314: FutureWarning: A value is trying to be set on a copy of a DataFrame or Series through chained assignment using an inplace method.\n",
      "The behavior will change in pandas 3.0. This inplace method will never work because the intermediate object on which we are setting values always behaves as a copy.\n",
      "\n",
      "For example, when doing 'df[col].method(value, inplace=True)', try using 'df.method({col: value}, inplace=True)' or df[col] = df[col].method(value) instead, to perform the operation inplace on the original object.\n",
      "\n",
      "\n",
      "  to[n].fillna(self.na_dict[n], inplace=True)\n",
      "/Users/jackwarren/Library/Python/3.9/lib/python/site-packages/fastai/tabular/core.py:316: PerformanceWarning: DataFrame is highly fragmented.  This is usually the result of calling `frame.insert` many times, which has poor performance.  Consider joining all columns at once using pd.concat(axis=1) instead. To get a de-fragmented frame, use `newframe = frame.copy()`\n",
      "  to.loc[:,n+'_na'] = missing[n]\n",
      "/Users/jackwarren/Library/Python/3.9/lib/python/site-packages/fastai/tabular/core.py:314: FutureWarning: A value is trying to be set on a copy of a DataFrame or Series through chained assignment using an inplace method.\n",
      "The behavior will change in pandas 3.0. This inplace method will never work because the intermediate object on which we are setting values always behaves as a copy.\n",
      "\n",
      "For example, when doing 'df[col].method(value, inplace=True)', try using 'df.method({col: value}, inplace=True)' or df[col] = df[col].method(value) instead, to perform the operation inplace on the original object.\n",
      "\n",
      "\n",
      "  to[n].fillna(self.na_dict[n], inplace=True)\n",
      "/Users/jackwarren/Library/Python/3.9/lib/python/site-packages/fastai/tabular/core.py:316: PerformanceWarning: DataFrame is highly fragmented.  This is usually the result of calling `frame.insert` many times, which has poor performance.  Consider joining all columns at once using pd.concat(axis=1) instead. To get a de-fragmented frame, use `newframe = frame.copy()`\n",
      "  to.loc[:,n+'_na'] = missing[n]\n",
      "/Users/jackwarren/Library/Python/3.9/lib/python/site-packages/fastai/tabular/core.py:314: FutureWarning: A value is trying to be set on a copy of a DataFrame or Series through chained assignment using an inplace method.\n",
      "The behavior will change in pandas 3.0. This inplace method will never work because the intermediate object on which we are setting values always behaves as a copy.\n",
      "\n",
      "For example, when doing 'df[col].method(value, inplace=True)', try using 'df.method({col: value}, inplace=True)' or df[col] = df[col].method(value) instead, to perform the operation inplace on the original object.\n",
      "\n",
      "\n",
      "  to[n].fillna(self.na_dict[n], inplace=True)\n",
      "/Users/jackwarren/Library/Python/3.9/lib/python/site-packages/fastai/tabular/core.py:316: PerformanceWarning: DataFrame is highly fragmented.  This is usually the result of calling `frame.insert` many times, which has poor performance.  Consider joining all columns at once using pd.concat(axis=1) instead. To get a de-fragmented frame, use `newframe = frame.copy()`\n",
      "  to.loc[:,n+'_na'] = missing[n]\n"
     ]
    }
   ],
   "execution_count": 84
  },
  {
   "metadata": {
    "ExecuteTime": {
     "end_time": "2025-07-22T18:57:23.172561Z",
     "start_time": "2025-07-22T18:57:13.927447Z"
    }
   },
   "cell_type": "code",
   "source": [
    "rf_model = RandomForestClassifier(n_estimators=100, random_state=42, n_jobs=-1, oob_score=True)\n",
    "rf_model.fit(X_train, y_train)\n",
    "\n",
    "y_pred_valid = rf_model.predict(X_valid)\n",
    "accuracy = accuracy_score(y_valid, y_pred_valid)\n",
    "print(f\"Accuracy: {accuracy}\")\n",
    "# 77% accuracy"
   ],
   "id": "79a0d3f65d727872",
   "outputs": [
    {
     "name": "stdout",
     "output_type": "stream",
     "text": [
      "Accuracy: 0.7722019464720195\n"
     ]
    }
   ],
   "execution_count": 85
  },
  {
   "metadata": {
    "ExecuteTime": {
     "end_time": "2025-07-22T18:57:23.271141Z",
     "start_time": "2025-07-22T18:57:23.225977Z"
    }
   },
   "cell_type": "code",
   "source": [
    "class_names = ['Bad Match', 'Good Match']\n",
    "\n",
    "disp = ConfusionMatrixDisplay.from_predictions(\n",
    "    y_true=y_valid,\n",
    "    y_pred=y_pred_valid,\n",
    "    display_labels=class_names,\n",
    "    cmap=plt.cm.Blues\n",
    ")\n",
    "\n",
    "disp.ax_.set_title(\"Confusion Matrix\")\n",
    "plt.show()"
   ],
   "id": "a2792efce7ab9681",
   "outputs": [
    {
     "data": {
      "text/plain": [
       "<Figure size 640x480 with 2 Axes>"
      ],
      "image/png": "[encoded data removed]"
     },
     "metadata": {},
     "output_type": "display_data"
    }
   ],
   "execution_count": 86
  },
  {
   "metadata": {},
   "cell_type": "markdown",
   "source": "#2b - More Rejection Feature Engineering",
   "id": "287c9c20237fe11d"
  },
  {
   "metadata": {
    "ExecuteTime": {
     "end_time": "2025-07-25T15:48:21.595084Z",
     "start_time": "2025-07-25T15:48:21.089539Z"
    }
   },
   "cell_type": "code",
   "source": [
    "importlib.reload(rejection_type_counts)\n",
    "members_with_matches = df_members[df_members['num_matches'] > 0]\n",
    "rejection_count = rejection_type_counts.add_rejection_sums(rejection_count, df_matches)"
   ],
   "id": "a9d93ed2571f5ac0",
   "outputs": [
    {
     "name": "stderr",
     "output_type": "stream",
     "text": [
      "/Users/jackwarren/Documents/1 Projects/YU Summer Program/SYAS Work/AIGroup/fastai/models/rejection_type_counts.py:128: FutureWarning: A value is trying to be set on a copy of a DataFrame or Series through chained assignment using an inplace method.\n",
      "The behavior will change in pandas 3.0. This inplace method will never work because the intermediate object on which we are setting values always behaves as a copy.\n",
      "\n",
      "For example, when doing 'df[col].method(value, inplace=True)', try using 'df.method({col: value}, inplace=True)' or df[col] = df[col].method(value) instead, to perform the operation inplace on the original object.\n",
      "\n",
      "\n",
      "  df_members['rejecter_count'].fillna(0, inplace=True)\n",
      "/Users/jackwarren/Documents/1 Projects/YU Summer Program/SYAS Work/AIGroup/fastai/models/rejection_type_counts.py:130: FutureWarning: A value is trying to be set on a copy of a DataFrame or Series through chained assignment using an inplace method.\n",
      "The behavior will change in pandas 3.0. This inplace method will never work because the intermediate object on which we are setting values always behaves as a copy.\n",
      "\n",
      "For example, when doing 'df[col].method(value, inplace=True)', try using 'df.method({col: value}, inplace=True)' or df[col] = df[col].method(value) instead, to perform the operation inplace on the original object.\n",
      "\n",
      "\n",
      "  df_members['rejected_count'].fillna(0, inplace=True)\n"
     ]
    }
   ],
   "execution_count": 17
  },
  {
   "metadata": {
    "ExecuteTime": {
     "end_time": "2025-07-25T15:48:23.098294Z",
     "start_time": "2025-07-25T15:48:23.095526Z"
    }
   },
   "cell_type": "code",
   "source": [
    "mean_acceptance_rate = rejection_count['acceptance_rate'].mean()\n",
    "rejection_count['acceptance_rate'].fillna(mean_acceptance_rate, inplace=True)"
   ],
   "id": "e691766a8df4d47c",
   "outputs": [
    {
     "name": "stderr",
     "output_type": "stream",
     "text": [
      "/var/folders/t9/qgftbn5n1q57fwq_6fy36gm80000gn/T/ipykernel_70838/313136462.py:2: FutureWarning: A value is trying to be set on a copy of a DataFrame or Series through chained assignment using an inplace method.\n",
      "The behavior will change in pandas 3.0. This inplace method will never work because the intermediate object on which we are setting values always behaves as a copy.\n",
      "\n",
      "For example, when doing 'df[col].method(value, inplace=True)', try using 'df.method({col: value}, inplace=True)' or df[col] = df[col].method(value) instead, to perform the operation inplace on the original object.\n",
      "\n",
      "\n",
      "  rejection_count['acceptance_rate'].fillna(mean_acceptance_rate, inplace=True)\n"
     ]
    }
   ],
   "execution_count": 18
  },
  {
   "metadata": {
    "ExecuteTime": {
     "end_time": "2025-07-25T15:48:25.164169Z",
     "start_time": "2025-07-25T15:48:24.321008Z"
    }
   },
   "cell_type": "code",
   "source": [
    "# this is a nested merge that gets all the data about the males and females in a match\n",
    "yuconnects_with_rejection_count = yuconnects.merge(rejection_count.add_prefix('female_'),\n",
    "                                               left_on='female_id',\n",
    "                                               right_on='female_id',\n",
    "                                               how='left',\n",
    "                                               suffixes=('', '_female_y')).merge(\n",
    "                                                   rejection_count.add_prefix('male_'),\n",
    "                                                   left_on='male_id',\n",
    "                                                   right_on='male_id',\n",
    "                                                   how='left',\n",
    "                                                   suffixes=('_female', '_male')\n",
    "                                               )"
   ],
   "id": "f6e6dd6c69fec9a1",
   "outputs": [],
   "execution_count": 19
  },
  {
   "metadata": {
    "ExecuteTime": {
     "end_time": "2025-07-25T15:48:25.754464Z",
     "start_time": "2025-07-25T15:48:25.734873Z"
    }
   },
   "cell_type": "code",
   "source": [
    "yuconnects_with_rejection_count = rejection_type_counts.add_rejection_products(yuconnects_with_rejection_count)\n",
    "yuconnects_with_rejection_count['male_percent_rejected'].fillna(0, inplace=True)\n",
    "yuconnects_with_rejection_count['male_percent_rejecter'].fillna(0, inplace=True)"
   ],
   "id": "c638c6e9f30fd9a7",
   "outputs": [
    {
     "name": "stderr",
     "output_type": "stream",
     "text": [
      "/var/folders/t9/qgftbn5n1q57fwq_6fy36gm80000gn/T/ipykernel_70838/3826521175.py:2: FutureWarning: A value is trying to be set on a copy of a DataFrame or Series through chained assignment using an inplace method.\n",
      "The behavior will change in pandas 3.0. This inplace method will never work because the intermediate object on which we are setting values always behaves as a copy.\n",
      "\n",
      "For example, when doing 'df[col].method(value, inplace=True)', try using 'df.method({col: value}, inplace=True)' or df[col] = df[col].method(value) instead, to perform the operation inplace on the original object.\n",
      "\n",
      "\n",
      "  yuconnects_with_rejection_count['male_percent_rejected'].fillna(0, inplace=True)\n",
      "/var/folders/t9/qgftbn5n1q57fwq_6fy36gm80000gn/T/ipykernel_70838/3826521175.py:3: FutureWarning: A value is trying to be set on a copy of a DataFrame or Series through chained assignment using an inplace method.\n",
      "The behavior will change in pandas 3.0. This inplace method will never work because the intermediate object on which we are setting values always behaves as a copy.\n",
      "\n",
      "For example, when doing 'df[col].method(value, inplace=True)', try using 'df.method({col: value}, inplace=True)' or df[col] = df[col].method(value) instead, to perform the operation inplace on the original object.\n",
      "\n",
      "\n",
      "  yuconnects_with_rejection_count['male_percent_rejecter'].fillna(0, inplace=True)\n"
     ]
    }
   ],
   "execution_count": 20
  },
  {
   "metadata": {
    "ExecuteTime": {
     "end_time": "2025-07-25T15:53:53.154558Z",
     "start_time": "2025-07-25T15:53:50.170216Z"
    }
   },
   "cell_type": "code",
   "source": [
    "yuconnects_with_rejection_count[['male_percent_rejecter', 'female_percent_rejecter', 'male_percent_rejected', 'female_percent_rejected']]\n",
    "yuconnects_with_rejection_count['male_rejects_female_percentage_product'] = yuconnects_with_rejection_count['male_percent_rejecter'] * yuconnects_with_rejection_count['female_percent_rejected']\n",
    "yuconnects_with_rejection_count['female_rejects_male_percentage_product'] = yuconnects_with_rejection_count['female_percent_rejecter'] * yuconnects_with_rejection_count['male_percent_rejected']\n",
    "yuconnects_with_rejection_count[['male_percent_rejecter', 'female_percent_rejecter', 'male_percent_rejected', 'female_percent_rejected', 'male_rejects_female_percentage_product', 'female_rejects_male_percentage_product']].plot.kde()"
   ],
   "id": "670d00d87920654d",
   "outputs": [
    {
     "data": {
      "text/plain": [
       "<Axes: ylabel='Density'>"
      ]
     },
     "execution_count": 32,
     "metadata": {},
     "output_type": "execute_result"
    },
    {
     "data": {
      "text/plain": [
       "<Figure size 640x480 with 1 Axes>"
      ],
      "image/png": "[encoded data removed]"
     },
     "metadata": {},
     "output_type": "display_data"
    }
   ],
   "execution_count": 32
  },
  {
   "metadata": {
    "ExecuteTime": {
     "end_time": "2025-07-25T15:53:54.003814Z",
     "start_time": "2025-07-25T15:53:53.992778Z"
    }
   },
   "cell_type": "code",
   "source": [
    "procs = [Categorify, Normalize, FillMissing]\n",
    "\n",
    "column_names = yuconnects_with_rejection_count.columns\n",
    "\n",
    "product_columns = [col for col in column_names if 'product' in col]\n",
    "\n",
    "# rejectered is combo of 'rejecter' and 'rejected' (both of which contain 'rejecte')\n",
    "rejectered_columns = [col for col in column_names if 'rejecte' in col]\n",
    "\n",
    "forest_cont_names = forest_cont_names + product_columns + rejectered_columns\n",
    "\n",
    "forest_cat_names = [col for col in column_names if (col not in forest_cont_names) and (col not in indicators_of_dep_var) and (col not in dep_var)]\n",
    "\n",
    "splits = RandomSplitter(valid_pct=0.2)(range_of(yuconnects_with_rejection_count))\n",
    "forest_cat_names\n"
   ],
   "id": "8322b66951ce83aa",
   "outputs": [
    {
     "data": {
      "text/plain": [
       "['male_id',\n",
       " 'female_id',\n",
       " 'site',\n",
       " 'female_country',\n",
       " 'female_city',\n",
       " 'female_state',\n",
       " 'female_gender',\n",
       " 'female_religious_orientation',\n",
       " 'female_ethnicity',\n",
       " 'female_baal_teshuva',\n",
       " 'female_years_orthodox_baal_teshuva',\n",
       " 'female_cohen',\n",
       " 'female_female_convert',\n",
       " 'female_parents_convert',\n",
       " 'female_mother_maternal_grandmother_jewish',\n",
       " 'female_family_religious_background',\n",
       " 'female_describe_family_religious_background',\n",
       " 'female_female_hc',\n",
       " 'female_kosher',\n",
       " 'female_female_dress',\n",
       " 'female_male_hc',\n",
       " 'female_frequency_of_tefilah',\n",
       " 'female_male_shul_attendance',\n",
       " 'female_torah_study',\n",
       " 'female_watching_tv',\n",
       " 'female_going_out_to_movies',\n",
       " 'female_watching_movies_at_home',\n",
       " 'female_secular_education',\n",
       " 'female_emphasis_of_studies',\n",
       " 'female_jewish_education',\n",
       " 'female_study_in_israel',\n",
       " 'female_profession',\n",
       " 'female_job_description',\n",
       " 'female_eye_color',\n",
       " 'female_hair_color',\n",
       " 'female_height',\n",
       " 'female_body_type',\n",
       " 'female_mental_physical_disability',\n",
       " 'female_my_marriage_status',\n",
       " 'female_how_long_single',\n",
       " 'female_times_divorced',\n",
       " 'female_how_many_children',\n",
       " 'female_number_live_with_you',\n",
       " 'female_age_of_youngest',\n",
       " 'female_want_additional_children',\n",
       " 'female_can_marry_cohen',\n",
       " 'female_number_of_siblings',\n",
       " 'female_political_orientation',\n",
       " 'female_smoking_habits',\n",
       " 'female_how_active_are_you',\n",
       " 'female_plan_to_aliya',\n",
       " 'female_willing_to_relocate',\n",
       " 'female_pet_person',\n",
       " 'female_pet_i_own',\n",
       " 'female_additional_pet_i_own',\n",
       " 'female_native_language',\n",
       " 'female_languages_spoken',\n",
       " 'female_age_min',\n",
       " 'female_age_max',\n",
       " 'female_height_min',\n",
       " 'female_height_max',\n",
       " 'female_desired_marital_status',\n",
       " 'female_minimum_education_level',\n",
       " 'female_acceptable_for_match_to_have_children',\n",
       " 'female_acceptable_religious_orientation',\n",
       " 'female_acceptable_smoking_habits',\n",
       " 'female_ok_dating_someone_with_disability',\n",
       " 'female_acceptable_aliyah_responses',\n",
       " 'female_acceptable_kosher_observance',\n",
       " 'female_ok_dating_baal_teshuva',\n",
       " 'female_family_relgious_background',\n",
       " 'female_desired_torah_study',\n",
       " 'female_desired_female_hc',\n",
       " 'female_desired_female_dress',\n",
       " 'female_jewish_education_preference',\n",
       " 'female_body_type_preference',\n",
       " 'female_preference_regarding_ethnicity',\n",
       " 'female_preference_cultural_background',\n",
       " 'female_my_personality_traits',\n",
       " 'female_my_personality_go_out_to',\n",
       " 'female_favorite_music',\n",
       " 'female_physical_activities_interests',\n",
       " 'female_my_favorite_pastimes',\n",
       " 'female_looking_for_in_a_person',\n",
       " 'female_short_description_of_yourself',\n",
       " 'female_community_work',\n",
       " 'female_introvert_extravert',\n",
       " 'female_sensor_intuitive',\n",
       " 'female_thinker_feeler',\n",
       " 'female_judger_perceiver',\n",
       " 'female_approved',\n",
       " 'female_dating_status',\n",
       " 'female_colleges_universities',\n",
       " 'female_parents_convert_before_birth',\n",
       " 'female_elementary_school',\n",
       " 'female_location_i_grew_up',\n",
       " 'female_name_secondary_school',\n",
       " 'female_name_study_one_year',\n",
       " 'female_parent_location',\n",
       " 'female_complete_incomplete',\n",
       " 'female_photo',\n",
       " 'female_site',\n",
       " 'female_profile_last_modified_date',\n",
       " 'female_updated',\n",
       " 'female_acceptable_places_to_live',\n",
       " 'female_male_reason_rejecting_count_physical_look',\n",
       " 'female_male_reason_rejecting_count_too_far/_distance',\n",
       " 'female_male_reason_rejecting_count_null',\n",
       " 'female_male_reason_rejecting_count_other',\n",
       " 'female_male_reason_rejecting_count_went_on_date(s)_&_not_going_out_again',\n",
       " 'female_male_reason_rejecting_count_not_my_personality_type',\n",
       " 'female_male_reason_rejecting_count_age',\n",
       " 'female_male_reason_rejecting_count_not_religious_enough',\n",
       " 'female_male_reason_rejecting_count_child_status',\n",
       " 'female_male_reason_rejecting_count_spoke_on_phone_&_not_going_out',\n",
       " 'female_male_reason_rejecting_count_we_already_dated',\n",
       " 'female_male_reason_rejecting_count_education_level',\n",
       " 'female_male_reason_rejecting_count_spoke_on_phone',\n",
       " 'female_male_reason_rejecting_count_already_know_this_person',\n",
       " 'female_male_reason_rejecting_count_never_got_in_touch',\n",
       " 'female_male_reason_rejecting_count_too_religious',\n",
       " 'female_male_reason_rejecting_count_went_on_first_date',\n",
       " 'female_male_reason_rejecting_count_none',\n",
       " 'female_male_reason_rejecting_count_went_on_multiple_dates',\n",
       " 'female_male_reason_rejecting_count_marital_status',\n",
       " 'female_male_reason_rejecting_count_dating_exclusively',\n",
       " 'female_male_reason_rejecting_count_know_already',\n",
       " 'female_male_reason_rejecting_count_distance',\n",
       " 'female_male_reason_rejecting_count_engaged',\n",
       " 'female_male_reason_rejecting_count_education',\n",
       " 'female_male_reason_rejecting_count_personality',\n",
       " 'female_male_reason_rejecting_count_already_dated',\n",
       " 'female_male_reason_rejecting_count_interested_but_busy,_please_re-issue_in_3_weeks',\n",
       " 'female_male_reason_rejecting_count_interested_but_busy,_please_re-issue_in_3_weeks_from_matches',\n",
       " 'female_male_reason_rejecting_count_male_timed_out',\n",
       " 'female_male_reason_rejecting_count_cultural_or_ethnic_background',\n",
       " 'female_male_reason_rejecting_count_child_status_from_matches',\n",
       " 'female_male_reason_rejecting_count_marital_status_from_matches',\n",
       " 'female_male_reason_rejecting_count_speaking_virtually',\n",
       " 'female_male_reason_rejecting_count_ai_declined',\n",
       " 'female_male_reason_rejecting_count_ai_no_response',\n",
       " 'female_male_reason_rejecting_count_ai_suggestion',\n",
       " 'female_male_reason_rejecting_count_ai_accepted',\n",
       " 'female_male_reason_rejecting_count_ai_unsure',\n",
       " 'female_male_reason_rejecting_count_family_background',\n",
       " 'female_male_reason_rejecting_count_religious_level',\n",
       " 'female_male_reason_rejecting_count_dated',\n",
       " 'female_male_reason_rejecting_count_went_on_date(s)_&_not_going_out_again_from_matches',\n",
       " 'female_male_reason_rejecting_count_already_friends_with_this_person',\n",
       " 'female_male_reason_rejecting_count_busy_with_other_matches',\n",
       " 'female_male_reason_rejecting_count__went_on_date(s)_&_not_going_out_again',\n",
       " 'female_male_rejection_count_null',\n",
       " 'female_male_rejection_count_too_far/_distance',\n",
       " 'female_male_rejection_count_child_status',\n",
       " 'female_male_rejection_count_other',\n",
       " 'female_male_rejection_count_not_religious_enough',\n",
       " 'female_male_rejection_count_not_my_personality_type',\n",
       " 'female_male_rejection_count_already_know_this_person',\n",
       " 'female_male_rejection_count_too_religious',\n",
       " 'female_male_rejection_count_education_level',\n",
       " 'female_male_rejection_count_physical_look',\n",
       " 'female_male_rejection_count_age',\n",
       " 'female_male_rejection_count_never_got_in_touch',\n",
       " 'female_male_rejection_count_spoke_on_phone_&_not_going_out',\n",
       " 'female_male_rejection_count_went_on_first_date',\n",
       " 'female_male_rejection_count_spoke_on_phone',\n",
       " 'female_male_rejection_count_we_already_dated',\n",
       " 'female_male_rejection_count_marital_status',\n",
       " 'female_male_rejection_count_went_on_date(s)_&_not_going_out_again',\n",
       " 'female_male_rejection_count_none',\n",
       " 'female_male_rejection_count_female_timed_out',\n",
       " 'female_male_rejection_count_dating_exclusively',\n",
       " 'female_male_rejection_count_know_already',\n",
       " 'female_male_rejection_count_distance',\n",
       " 'female_male_rejection_count_personality',\n",
       " 'female_male_rejection_count_education',\n",
       " 'female_male_rejection_count_went_on_multiple_dates',\n",
       " 'female_male_rejection_count_already_dated',\n",
       " 'female_male_rejection_count_interested_but_busy,_please_re-issue_in_3_weeks',\n",
       " 'female_male_rejection_count_engaged',\n",
       " 'female_male_rejection_count_cultural_or_ethnic_background',\n",
       " 'female_male_rejection_count_child_status_from_matches',\n",
       " 'female_male_rejection_count_marital_status_from_matches',\n",
       " 'female_male_rejection_count_interested_but_busy,_please_re-issue_in_3_weeks_from_matches',\n",
       " 'female_male_rejection_count_family_background',\n",
       " 'female_male_rejection_count_speaking_virtually',\n",
       " 'female_male_rejection_count_ai_declined',\n",
       " 'female_male_rejection_count_ai_accepted',\n",
       " 'female_male_rejection_count_ai_no_response',\n",
       " 'female_male_rejection_count_ai_suggestion',\n",
       " 'female_male_rejection_count_ai_unsure',\n",
       " 'female_male_rejection_count_already_friends_with_this_person',\n",
       " 'female_male_rejection_count_dated',\n",
       " 'female_male_rejection_count_went_on_date(s)_&_not_going_out_again_from_matches',\n",
       " 'female_male_rejection_count_religious_level',\n",
       " 'female_male_rejection_count_busy_with_other_matches',\n",
       " 'female_total',\n",
       " 'male_country',\n",
       " 'male_city',\n",
       " 'male_state',\n",
       " 'male_gender',\n",
       " 'male_religious_orientation',\n",
       " 'male_ethnicity',\n",
       " 'male_baal_teshuva',\n",
       " 'male_years_orthodox_baal_teshuva',\n",
       " 'male_cohen',\n",
       " 'male_female_convert',\n",
       " 'male_parents_convert',\n",
       " 'male_mother_maternal_grandmother_jewish',\n",
       " 'male_family_religious_background',\n",
       " 'male_describe_family_religious_background',\n",
       " 'male_female_hc',\n",
       " 'male_kosher',\n",
       " 'male_female_dress',\n",
       " 'male_male_hc',\n",
       " 'male_frequency_of_tefilah',\n",
       " 'male_male_shul_attendance',\n",
       " 'male_torah_study',\n",
       " 'male_watching_tv',\n",
       " 'male_going_out_to_movies',\n",
       " 'male_watching_movies_at_home',\n",
       " 'male_secular_education',\n",
       " 'male_emphasis_of_studies',\n",
       " 'male_jewish_education',\n",
       " 'male_study_in_israel',\n",
       " 'male_profession',\n",
       " 'male_job_description',\n",
       " 'male_eye_color',\n",
       " 'male_hair_color',\n",
       " 'male_height',\n",
       " 'male_body_type',\n",
       " 'male_mental_physical_disability',\n",
       " 'male_my_marriage_status',\n",
       " 'male_how_long_single',\n",
       " 'male_times_divorced',\n",
       " 'male_how_many_children',\n",
       " 'male_number_live_with_you',\n",
       " 'male_age_of_youngest',\n",
       " 'male_want_additional_children',\n",
       " 'male_can_marry_cohen',\n",
       " 'male_number_of_siblings',\n",
       " 'male_political_orientation',\n",
       " 'male_smoking_habits',\n",
       " 'male_how_active_are_you',\n",
       " 'male_plan_to_aliya',\n",
       " 'male_willing_to_relocate',\n",
       " 'male_pet_person',\n",
       " 'male_pet_i_own',\n",
       " 'male_additional_pet_i_own',\n",
       " 'male_native_language',\n",
       " 'male_languages_spoken',\n",
       " 'male_age_min',\n",
       " 'male_age_max',\n",
       " 'male_height_min',\n",
       " 'male_height_max',\n",
       " 'male_desired_marital_status',\n",
       " 'male_minimum_education_level',\n",
       " 'male_acceptable_for_match_to_have_children',\n",
       " 'male_acceptable_religious_orientation',\n",
       " 'male_acceptable_smoking_habits',\n",
       " 'male_ok_dating_someone_with_disability',\n",
       " 'male_acceptable_aliyah_responses',\n",
       " 'male_acceptable_kosher_observance',\n",
       " 'male_ok_dating_baal_teshuva',\n",
       " 'male_family_relgious_background',\n",
       " 'male_desired_torah_study',\n",
       " 'male_desired_female_hc',\n",
       " 'male_desired_female_dress',\n",
       " 'male_jewish_education_preference',\n",
       " 'male_body_type_preference',\n",
       " 'male_preference_regarding_ethnicity',\n",
       " 'male_preference_cultural_background',\n",
       " 'male_my_personality_traits',\n",
       " 'male_my_personality_go_out_to',\n",
       " 'male_favorite_music',\n",
       " 'male_physical_activities_interests',\n",
       " 'male_my_favorite_pastimes',\n",
       " 'male_looking_for_in_a_person',\n",
       " 'male_short_description_of_yourself',\n",
       " 'male_community_work',\n",
       " 'male_introvert_extravert',\n",
       " 'male_sensor_intuitive',\n",
       " 'male_thinker_feeler',\n",
       " 'male_judger_perceiver',\n",
       " 'male_approved',\n",
       " 'male_dating_status',\n",
       " 'male_colleges_universities',\n",
       " 'male_parents_convert_before_birth',\n",
       " 'male_elementary_school',\n",
       " 'male_location_i_grew_up',\n",
       " 'male_name_secondary_school',\n",
       " 'male_name_study_one_year',\n",
       " 'male_parent_location',\n",
       " 'male_complete_incomplete',\n",
       " 'male_photo',\n",
       " 'male_site',\n",
       " 'male_profile_last_modified_date',\n",
       " 'male_updated',\n",
       " 'male_acceptable_places_to_live',\n",
       " 'male_female_reason_rejecting_count_null',\n",
       " 'male_female_reason_rejecting_count_too_far/_distance',\n",
       " 'male_female_reason_rejecting_count_child_status',\n",
       " 'male_female_reason_rejecting_count_other',\n",
       " 'male_female_reason_rejecting_count_not_religious_enough',\n",
       " 'male_female_reason_rejecting_count_not_my_personality_type',\n",
       " 'male_female_reason_rejecting_count_already_know_this_person',\n",
       " 'male_female_reason_rejecting_count_too_religious',\n",
       " 'male_female_reason_rejecting_count_education_level',\n",
       " 'male_female_reason_rejecting_count_physical_look',\n",
       " 'male_female_reason_rejecting_count_age',\n",
       " 'male_female_reason_rejecting_count_never_got_in_touch',\n",
       " 'male_female_reason_rejecting_count_spoke_on_phone_&_not_going_out',\n",
       " 'male_female_reason_rejecting_count_went_on_first_date',\n",
       " 'male_female_reason_rejecting_count_spoke_on_phone',\n",
       " 'male_female_reason_rejecting_count_we_already_dated',\n",
       " 'male_female_reason_rejecting_count_marital_status',\n",
       " 'male_female_reason_rejecting_count_went_on_date(s)_&_not_going_out_again',\n",
       " 'male_female_reason_rejecting_count_none',\n",
       " 'male_female_reason_rejecting_count_female_timed_out',\n",
       " 'male_female_reason_rejecting_count_dating_exclusively',\n",
       " 'male_female_reason_rejecting_count_know_already',\n",
       " 'male_female_reason_rejecting_count_distance',\n",
       " 'male_female_reason_rejecting_count_personality',\n",
       " 'male_female_reason_rejecting_count_education',\n",
       " 'male_female_reason_rejecting_count_went_on_multiple_dates',\n",
       " 'male_female_reason_rejecting_count_already_dated',\n",
       " 'male_female_reason_rejecting_count_interested_but_busy,_please_re-issue_in_3_weeks',\n",
       " 'male_female_reason_rejecting_count_engaged',\n",
       " 'male_female_reason_rejecting_count_cultural_or_ethnic_background',\n",
       " 'male_female_reason_rejecting_count_child_status_from_matches',\n",
       " 'male_female_reason_rejecting_count_marital_status_from_matches',\n",
       " 'male_female_reason_rejecting_count_interested_but_busy,_please_re-issue_in_3_weeks_from_matches',\n",
       " 'male_female_reason_rejecting_count_family_background',\n",
       " 'male_female_reason_rejecting_count_speaking_virtually',\n",
       " 'male_female_reason_rejecting_count_ai_declined',\n",
       " 'male_female_reason_rejecting_count_ai_accepted',\n",
       " 'male_female_reason_rejecting_count_ai_no_response',\n",
       " 'male_female_reason_rejecting_count_ai_suggestion',\n",
       " 'male_female_reason_rejecting_count_ai_unsure',\n",
       " 'male_female_reason_rejecting_count_already_friends_with_this_person',\n",
       " 'male_female_reason_rejecting_count_dated',\n",
       " 'male_female_reason_rejecting_count_went_on_date(s)_&_not_going_out_again_from_matches',\n",
       " 'male_female_reason_rejecting_count_religious_level',\n",
       " 'male_female_reason_rejecting_count_busy_with_other_matches',\n",
       " 'male_female_rejection_count_physical_look',\n",
       " 'male_female_rejection_count_too_far/_distance',\n",
       " 'male_female_rejection_count_null',\n",
       " 'male_female_rejection_count_other',\n",
       " 'male_female_rejection_count_went_on_date(s)_&_not_going_out_again',\n",
       " 'male_female_rejection_count_not_my_personality_type',\n",
       " 'male_female_rejection_count_age',\n",
       " 'male_female_rejection_count_not_religious_enough',\n",
       " 'male_female_rejection_count_child_status',\n",
       " 'male_female_rejection_count_spoke_on_phone_&_not_going_out',\n",
       " 'male_female_rejection_count_we_already_dated',\n",
       " 'male_female_rejection_count_education_level',\n",
       " 'male_female_rejection_count_spoke_on_phone',\n",
       " 'male_female_rejection_count_already_know_this_person',\n",
       " 'male_female_rejection_count_never_got_in_touch',\n",
       " 'male_female_rejection_count_too_religious',\n",
       " 'male_female_rejection_count_went_on_first_date',\n",
       " 'male_female_rejection_count_none',\n",
       " 'male_female_rejection_count_went_on_multiple_dates',\n",
       " 'male_female_rejection_count_marital_status',\n",
       " 'male_female_rejection_count_dating_exclusively',\n",
       " 'male_female_rejection_count_know_already',\n",
       " 'male_female_rejection_count_distance',\n",
       " 'male_female_rejection_count_engaged',\n",
       " 'male_female_rejection_count_education',\n",
       " 'male_female_rejection_count_personality',\n",
       " 'male_female_rejection_count_already_dated',\n",
       " 'male_female_rejection_count_interested_but_busy,_please_re-issue_in_3_weeks',\n",
       " 'male_female_rejection_count_interested_but_busy,_please_re-issue_in_3_weeks_from_matches',\n",
       " 'male_female_rejection_count_male_timed_out',\n",
       " 'male_female_rejection_count_cultural_or_ethnic_background',\n",
       " 'male_female_rejection_count_child_status_from_matches',\n",
       " 'male_female_rejection_count_marital_status_from_matches',\n",
       " 'male_female_rejection_count_speaking_virtually',\n",
       " 'male_female_rejection_count_ai_declined',\n",
       " 'male_female_rejection_count_ai_no_response',\n",
       " 'male_female_rejection_count_ai_suggestion',\n",
       " 'male_female_rejection_count_ai_accepted',\n",
       " 'male_female_rejection_count_ai_unsure',\n",
       " 'male_female_rejection_count_family_background',\n",
       " 'male_female_rejection_count_religious_level',\n",
       " 'male_female_rejection_count_dated',\n",
       " 'male_female_rejection_count_went_on_date(s)_&_not_going_out_again_from_matches',\n",
       " 'male_female_rejection_count_already_friends_with_this_person',\n",
       " 'male_female_rejection_count_busy_with_other_matches',\n",
       " 'male_female_rejection_count__went_on_date(s)_&_not_going_out_again',\n",
       " 'male_total']"
      ]
     },
     "execution_count": 33,
     "metadata": {},
     "output_type": "execute_result"
    }
   ],
   "execution_count": 33
  },
  {
   "metadata": {
    "ExecuteTime": {
     "end_time": "2025-07-25T15:54:03.234808Z",
     "start_time": "2025-07-25T15:54:00.608452Z"
    }
   },
   "cell_type": "code",
   "source": [
    "to = TabularPandas(yuconnects_with_rejection_count,\n",
    "                   procs=procs,\n",
    "                   cat_names=forest_cat_names,\n",
    "                   cont_names=forest_cont_names,\n",
    "                   y_names=dep_var,\n",
    "                   splits=splits,\n",
    "                   y_block=CategoryBlock())\n",
    "X_train = to.train.xs\n",
    "y_train = to.train.y\n",
    "X_valid = to.valid.xs\n",
    "y_valid = to.valid.y"
   ],
   "id": "3f989a6c442ea107",
   "outputs": [
    {
     "name": "stderr",
     "output_type": "stream",
     "text": [
      "/Users/jackwarren/Library/Python/3.9/lib/python/site-packages/numpy/lib/_nanfunctions_impl.py:1231: RuntimeWarning: Mean of empty slice\n",
      "  return np.nanmean(a, axis, out=out, keepdims=keepdims)\n",
      "/Users/jackwarren/Library/Python/3.9/lib/python/site-packages/numpy/lib/_nanfunctions_impl.py:1231: RuntimeWarning: Mean of empty slice\n",
      "  return np.nanmean(a, axis, out=out, keepdims=keepdims)\n",
      "/Users/jackwarren/Library/Python/3.9/lib/python/site-packages/fastai/tabular/core.py:314: FutureWarning: A value is trying to be set on a copy of a DataFrame or Series through chained assignment using an inplace method.\n",
      "The behavior will change in pandas 3.0. This inplace method will never work because the intermediate object on which we are setting values always behaves as a copy.\n",
      "\n",
      "For example, when doing 'df[col].method(value, inplace=True)', try using 'df.method({col: value}, inplace=True)' or df[col] = df[col].method(value) instead, to perform the operation inplace on the original object.\n",
      "\n",
      "\n",
      "  to[n].fillna(self.na_dict[n], inplace=True)\n",
      "/Users/jackwarren/Library/Python/3.9/lib/python/site-packages/fastai/tabular/core.py:316: PerformanceWarning: DataFrame is highly fragmented.  This is usually the result of calling `frame.insert` many times, which has poor performance.  Consider joining all columns at once using pd.concat(axis=1) instead. To get a de-fragmented frame, use `newframe = frame.copy()`\n",
      "  to.loc[:,n+'_na'] = missing[n]\n",
      "/Users/jackwarren/Library/Python/3.9/lib/python/site-packages/fastai/tabular/core.py:314: FutureWarning: A value is trying to be set on a copy of a DataFrame or Series through chained assignment using an inplace method.\n",
      "The behavior will change in pandas 3.0. This inplace method will never work because the intermediate object on which we are setting values always behaves as a copy.\n",
      "\n",
      "For example, when doing 'df[col].method(value, inplace=True)', try using 'df.method({col: value}, inplace=True)' or df[col] = df[col].method(value) instead, to perform the operation inplace on the original object.\n",
      "\n",
      "\n",
      "  to[n].fillna(self.na_dict[n], inplace=True)\n",
      "/Users/jackwarren/Library/Python/3.9/lib/python/site-packages/fastai/tabular/core.py:316: PerformanceWarning: DataFrame is highly fragmented.  This is usually the result of calling `frame.insert` many times, which has poor performance.  Consider joining all columns at once using pd.concat(axis=1) instead. To get a de-fragmented frame, use `newframe = frame.copy()`\n",
      "  to.loc[:,n+'_na'] = missing[n]\n",
      "/Users/jackwarren/Library/Python/3.9/lib/python/site-packages/fastai/tabular/core.py:314: FutureWarning: A value is trying to be set on a copy of a DataFrame or Series through chained assignment using an inplace method.\n",
      "The behavior will change in pandas 3.0. This inplace method will never work because the intermediate object on which we are setting values always behaves as a copy.\n",
      "\n",
      "For example, when doing 'df[col].method(value, inplace=True)', try using 'df.method({col: value}, inplace=True)' or df[col] = df[col].method(value) instead, to perform the operation inplace on the original object.\n",
      "\n",
      "\n",
      "  to[n].fillna(self.na_dict[n], inplace=True)\n",
      "/Users/jackwarren/Library/Python/3.9/lib/python/site-packages/fastai/tabular/core.py:316: PerformanceWarning: DataFrame is highly fragmented.  This is usually the result of calling `frame.insert` many times, which has poor performance.  Consider joining all columns at once using pd.concat(axis=1) instead. To get a de-fragmented frame, use `newframe = frame.copy()`\n",
      "  to.loc[:,n+'_na'] = missing[n]\n",
      "/Users/jackwarren/Library/Python/3.9/lib/python/site-packages/fastai/tabular/core.py:314: FutureWarning: A value is trying to be set on a copy of a DataFrame or Series through chained assignment using an inplace method.\n",
      "The behavior will change in pandas 3.0. This inplace method will never work because the intermediate object on which we are setting values always behaves as a copy.\n",
      "\n",
      "For example, when doing 'df[col].method(value, inplace=True)', try using 'df.method({col: value}, inplace=True)' or df[col] = df[col].method(value) instead, to perform the operation inplace on the original object.\n",
      "\n",
      "\n",
      "  to[n].fillna(self.na_dict[n], inplace=True)\n",
      "/Users/jackwarren/Library/Python/3.9/lib/python/site-packages/fastai/tabular/core.py:316: PerformanceWarning: DataFrame is highly fragmented.  This is usually the result of calling `frame.insert` many times, which has poor performance.  Consider joining all columns at once using pd.concat(axis=1) instead. To get a de-fragmented frame, use `newframe = frame.copy()`\n",
      "  to.loc[:,n+'_na'] = missing[n]\n",
      "/Users/jackwarren/Library/Python/3.9/lib/python/site-packages/fastai/tabular/core.py:314: FutureWarning: A value is trying to be set on a copy of a DataFrame or Series through chained assignment using an inplace method.\n",
      "The behavior will change in pandas 3.0. This inplace method will never work because the intermediate object on which we are setting values always behaves as a copy.\n",
      "\n",
      "For example, when doing 'df[col].method(value, inplace=True)', try using 'df.method({col: value}, inplace=True)' or df[col] = df[col].method(value) instead, to perform the operation inplace on the original object.\n",
      "\n",
      "\n",
      "  to[n].fillna(self.na_dict[n], inplace=True)\n",
      "/Users/jackwarren/Library/Python/3.9/lib/python/site-packages/fastai/tabular/core.py:316: PerformanceWarning: DataFrame is highly fragmented.  This is usually the result of calling `frame.insert` many times, which has poor performance.  Consider joining all columns at once using pd.concat(axis=1) instead. To get a de-fragmented frame, use `newframe = frame.copy()`\n",
      "  to.loc[:,n+'_na'] = missing[n]\n",
      "/Users/jackwarren/Library/Python/3.9/lib/python/site-packages/fastai/tabular/core.py:314: FutureWarning: A value is trying to be set on a copy of a DataFrame or Series through chained assignment using an inplace method.\n",
      "The behavior will change in pandas 3.0. This inplace method will never work because the intermediate object on which we are setting values always behaves as a copy.\n",
      "\n",
      "For example, when doing 'df[col].method(value, inplace=True)', try using 'df.method({col: value}, inplace=True)' or df[col] = df[col].method(value) instead, to perform the operation inplace on the original object.\n",
      "\n",
      "\n",
      "  to[n].fillna(self.na_dict[n], inplace=True)\n",
      "/Users/jackwarren/Library/Python/3.9/lib/python/site-packages/fastai/tabular/core.py:316: PerformanceWarning: DataFrame is highly fragmented.  This is usually the result of calling `frame.insert` many times, which has poor performance.  Consider joining all columns at once using pd.concat(axis=1) instead. To get a de-fragmented frame, use `newframe = frame.copy()`\n",
      "  to.loc[:,n+'_na'] = missing[n]\n",
      "/Users/jackwarren/Library/Python/3.9/lib/python/site-packages/fastai/tabular/core.py:314: FutureWarning: A value is trying to be set on a copy of a DataFrame or Series through chained assignment using an inplace method.\n",
      "The behavior will change in pandas 3.0. This inplace method will never work because the intermediate object on which we are setting values always behaves as a copy.\n",
      "\n",
      "For example, when doing 'df[col].method(value, inplace=True)', try using 'df.method({col: value}, inplace=True)' or df[col] = df[col].method(value) instead, to perform the operation inplace on the original object.\n",
      "\n",
      "\n",
      "  to[n].fillna(self.na_dict[n], inplace=True)\n",
      "/Users/jackwarren/Library/Python/3.9/lib/python/site-packages/fastai/tabular/core.py:316: PerformanceWarning: DataFrame is highly fragmented.  This is usually the result of calling `frame.insert` many times, which has poor performance.  Consider joining all columns at once using pd.concat(axis=1) instead. To get a de-fragmented frame, use `newframe = frame.copy()`\n",
      "  to.loc[:,n+'_na'] = missing[n]\n",
      "/Users/jackwarren/Library/Python/3.9/lib/python/site-packages/fastai/tabular/core.py:314: FutureWarning: A value is trying to be set on a copy of a DataFrame or Series through chained assignment using an inplace method.\n",
      "The behavior will change in pandas 3.0. This inplace method will never work because the intermediate object on which we are setting values always behaves as a copy.\n",
      "\n",
      "For example, when doing 'df[col].method(value, inplace=True)', try using 'df.method({col: value}, inplace=True)' or df[col] = df[col].method(value) instead, to perform the operation inplace on the original object.\n",
      "\n",
      "\n",
      "  to[n].fillna(self.na_dict[n], inplace=True)\n",
      "/Users/jackwarren/Library/Python/3.9/lib/python/site-packages/fastai/tabular/core.py:316: PerformanceWarning: DataFrame is highly fragmented.  This is usually the result of calling `frame.insert` many times, which has poor performance.  Consider joining all columns at once using pd.concat(axis=1) instead. To get a de-fragmented frame, use `newframe = frame.copy()`\n",
      "  to.loc[:,n+'_na'] = missing[n]\n",
      "/Users/jackwarren/Library/Python/3.9/lib/python/site-packages/fastai/tabular/core.py:314: FutureWarning: A value is trying to be set on a copy of a DataFrame or Series through chained assignment using an inplace method.\n",
      "The behavior will change in pandas 3.0. This inplace method will never work because the intermediate object on which we are setting values always behaves as a copy.\n",
      "\n",
      "For example, when doing 'df[col].method(value, inplace=True)', try using 'df.method({col: value}, inplace=True)' or df[col] = df[col].method(value) instead, to perform the operation inplace on the original object.\n",
      "\n",
      "\n",
      "  to[n].fillna(self.na_dict[n], inplace=True)\n",
      "/Users/jackwarren/Library/Python/3.9/lib/python/site-packages/fastai/tabular/core.py:316: PerformanceWarning: DataFrame is highly fragmented.  This is usually the result of calling `frame.insert` many times, which has poor performance.  Consider joining all columns at once using pd.concat(axis=1) instead. To get a de-fragmented frame, use `newframe = frame.copy()`\n",
      "  to.loc[:,n+'_na'] = missing[n]\n",
      "/Users/jackwarren/Library/Python/3.9/lib/python/site-packages/fastai/tabular/core.py:314: FutureWarning: A value is trying to be set on a copy of a DataFrame or Series through chained assignment using an inplace method.\n",
      "The behavior will change in pandas 3.0. This inplace method will never work because the intermediate object on which we are setting values always behaves as a copy.\n",
      "\n",
      "For example, when doing 'df[col].method(value, inplace=True)', try using 'df.method({col: value}, inplace=True)' or df[col] = df[col].method(value) instead, to perform the operation inplace on the original object.\n",
      "\n",
      "\n",
      "  to[n].fillna(self.na_dict[n], inplace=True)\n",
      "/Users/jackwarren/Library/Python/3.9/lib/python/site-packages/fastai/tabular/core.py:316: PerformanceWarning: DataFrame is highly fragmented.  This is usually the result of calling `frame.insert` many times, which has poor performance.  Consider joining all columns at once using pd.concat(axis=1) instead. To get a de-fragmented frame, use `newframe = frame.copy()`\n",
      "  to.loc[:,n+'_na'] = missing[n]\n",
      "/Users/jackwarren/Library/Python/3.9/lib/python/site-packages/fastai/tabular/core.py:314: FutureWarning: A value is trying to be set on a copy of a DataFrame or Series through chained assignment using an inplace method.\n",
      "The behavior will change in pandas 3.0. This inplace method will never work because the intermediate object on which we are setting values always behaves as a copy.\n",
      "\n",
      "For example, when doing 'df[col].method(value, inplace=True)', try using 'df.method({col: value}, inplace=True)' or df[col] = df[col].method(value) instead, to perform the operation inplace on the original object.\n",
      "\n",
      "\n",
      "  to[n].fillna(self.na_dict[n], inplace=True)\n",
      "/Users/jackwarren/Library/Python/3.9/lib/python/site-packages/fastai/tabular/core.py:316: PerformanceWarning: DataFrame is highly fragmented.  This is usually the result of calling `frame.insert` many times, which has poor performance.  Consider joining all columns at once using pd.concat(axis=1) instead. To get a de-fragmented frame, use `newframe = frame.copy()`\n",
      "  to.loc[:,n+'_na'] = missing[n]\n",
      "/Users/jackwarren/Library/Python/3.9/lib/python/site-packages/fastai/tabular/core.py:314: FutureWarning: A value is trying to be set on a copy of a DataFrame or Series through chained assignment using an inplace method.\n",
      "The behavior will change in pandas 3.0. This inplace method will never work because the intermediate object on which we are setting values always behaves as a copy.\n",
      "\n",
      "For example, when doing 'df[col].method(value, inplace=True)', try using 'df.method({col: value}, inplace=True)' or df[col] = df[col].method(value) instead, to perform the operation inplace on the original object.\n",
      "\n",
      "\n",
      "  to[n].fillna(self.na_dict[n], inplace=True)\n",
      "/Users/jackwarren/Library/Python/3.9/lib/python/site-packages/fastai/tabular/core.py:316: PerformanceWarning: DataFrame is highly fragmented.  This is usually the result of calling `frame.insert` many times, which has poor performance.  Consider joining all columns at once using pd.concat(axis=1) instead. To get a de-fragmented frame, use `newframe = frame.copy()`\n",
      "  to.loc[:,n+'_na'] = missing[n]\n",
      "/Users/jackwarren/Library/Python/3.9/lib/python/site-packages/fastai/tabular/core.py:314: FutureWarning: A value is trying to be set on a copy of a DataFrame or Series through chained assignment using an inplace method.\n",
      "The behavior will change in pandas 3.0. This inplace method will never work because the intermediate object on which we are setting values always behaves as a copy.\n",
      "\n",
      "For example, when doing 'df[col].method(value, inplace=True)', try using 'df.method({col: value}, inplace=True)' or df[col] = df[col].method(value) instead, to perform the operation inplace on the original object.\n",
      "\n",
      "\n",
      "  to[n].fillna(self.na_dict[n], inplace=True)\n",
      "/Users/jackwarren/Library/Python/3.9/lib/python/site-packages/fastai/tabular/core.py:316: PerformanceWarning: DataFrame is highly fragmented.  This is usually the result of calling `frame.insert` many times, which has poor performance.  Consider joining all columns at once using pd.concat(axis=1) instead. To get a de-fragmented frame, use `newframe = frame.copy()`\n",
      "  to.loc[:,n+'_na'] = missing[n]\n",
      "/Users/jackwarren/Library/Python/3.9/lib/python/site-packages/fastai/tabular/core.py:314: FutureWarning: A value is trying to be set on a copy of a DataFrame or Series through chained assignment using an inplace method.\n",
      "The behavior will change in pandas 3.0. This inplace method will never work because the intermediate object on which we are setting values always behaves as a copy.\n",
      "\n",
      "For example, when doing 'df[col].method(value, inplace=True)', try using 'df.method({col: value}, inplace=True)' or df[col] = df[col].method(value) instead, to perform the operation inplace on the original object.\n",
      "\n",
      "\n",
      "  to[n].fillna(self.na_dict[n], inplace=True)\n",
      "/Users/jackwarren/Library/Python/3.9/lib/python/site-packages/fastai/tabular/core.py:316: PerformanceWarning: DataFrame is highly fragmented.  This is usually the result of calling `frame.insert` many times, which has poor performance.  Consider joining all columns at once using pd.concat(axis=1) instead. To get a de-fragmented frame, use `newframe = frame.copy()`\n",
      "  to.loc[:,n+'_na'] = missing[n]\n",
      "/Users/jackwarren/Library/Python/3.9/lib/python/site-packages/fastai/tabular/core.py:314: FutureWarning: A value is trying to be set on a copy of a DataFrame or Series through chained assignment using an inplace method.\n",
      "The behavior will change in pandas 3.0. This inplace method will never work because the intermediate object on which we are setting values always behaves as a copy.\n",
      "\n",
      "For example, when doing 'df[col].method(value, inplace=True)', try using 'df.method({col: value}, inplace=True)' or df[col] = df[col].method(value) instead, to perform the operation inplace on the original object.\n",
      "\n",
      "\n",
      "  to[n].fillna(self.na_dict[n], inplace=True)\n",
      "/Users/jackwarren/Library/Python/3.9/lib/python/site-packages/fastai/tabular/core.py:316: PerformanceWarning: DataFrame is highly fragmented.  This is usually the result of calling `frame.insert` many times, which has poor performance.  Consider joining all columns at once using pd.concat(axis=1) instead. To get a de-fragmented frame, use `newframe = frame.copy()`\n",
      "  to.loc[:,n+'_na'] = missing[n]\n",
      "/Users/jackwarren/Library/Python/3.9/lib/python/site-packages/fastai/tabular/core.py:314: FutureWarning: A value is trying to be set on a copy of a DataFrame or Series through chained assignment using an inplace method.\n",
      "The behavior will change in pandas 3.0. This inplace method will never work because the intermediate object on which we are setting values always behaves as a copy.\n",
      "\n",
      "For example, when doing 'df[col].method(value, inplace=True)', try using 'df.method({col: value}, inplace=True)' or df[col] = df[col].method(value) instead, to perform the operation inplace on the original object.\n",
      "\n",
      "\n",
      "  to[n].fillna(self.na_dict[n], inplace=True)\n",
      "/Users/jackwarren/Library/Python/3.9/lib/python/site-packages/fastai/tabular/core.py:316: PerformanceWarning: DataFrame is highly fragmented.  This is usually the result of calling `frame.insert` many times, which has poor performance.  Consider joining all columns at once using pd.concat(axis=1) instead. To get a de-fragmented frame, use `newframe = frame.copy()`\n",
      "  to.loc[:,n+'_na'] = missing[n]\n",
      "/Users/jackwarren/Library/Python/3.9/lib/python/site-packages/fastai/tabular/core.py:314: FutureWarning: A value is trying to be set on a copy of a DataFrame or Series through chained assignment using an inplace method.\n",
      "The behavior will change in pandas 3.0. This inplace method will never work because the intermediate object on which we are setting values always behaves as a copy.\n",
      "\n",
      "For example, when doing 'df[col].method(value, inplace=True)', try using 'df.method({col: value}, inplace=True)' or df[col] = df[col].method(value) instead, to perform the operation inplace on the original object.\n",
      "\n",
      "\n",
      "  to[n].fillna(self.na_dict[n], inplace=True)\n",
      "/Users/jackwarren/Library/Python/3.9/lib/python/site-packages/fastai/tabular/core.py:316: PerformanceWarning: DataFrame is highly fragmented.  This is usually the result of calling `frame.insert` many times, which has poor performance.  Consider joining all columns at once using pd.concat(axis=1) instead. To get a de-fragmented frame, use `newframe = frame.copy()`\n",
      "  to.loc[:,n+'_na'] = missing[n]\n",
      "/Users/jackwarren/Library/Python/3.9/lib/python/site-packages/fastai/tabular/core.py:314: FutureWarning: A value is trying to be set on a copy of a DataFrame or Series through chained assignment using an inplace method.\n",
      "The behavior will change in pandas 3.0. This inplace method will never work because the intermediate object on which we are setting values always behaves as a copy.\n",
      "\n",
      "For example, when doing 'df[col].method(value, inplace=True)', try using 'df.method({col: value}, inplace=True)' or df[col] = df[col].method(value) instead, to perform the operation inplace on the original object.\n",
      "\n",
      "\n",
      "  to[n].fillna(self.na_dict[n], inplace=True)\n",
      "/Users/jackwarren/Library/Python/3.9/lib/python/site-packages/fastai/tabular/core.py:316: PerformanceWarning: DataFrame is highly fragmented.  This is usually the result of calling `frame.insert` many times, which has poor performance.  Consider joining all columns at once using pd.concat(axis=1) instead. To get a de-fragmented frame, use `newframe = frame.copy()`\n",
      "  to.loc[:,n+'_na'] = missing[n]\n",
      "/Users/jackwarren/Library/Python/3.9/lib/python/site-packages/fastai/tabular/core.py:314: FutureWarning: A value is trying to be set on a copy of a DataFrame or Series through chained assignment using an inplace method.\n",
      "The behavior will change in pandas 3.0. This inplace method will never work because the intermediate object on which we are setting values always behaves as a copy.\n",
      "\n",
      "For example, when doing 'df[col].method(value, inplace=True)', try using 'df.method({col: value}, inplace=True)' or df[col] = df[col].method(value) instead, to perform the operation inplace on the original object.\n",
      "\n",
      "\n",
      "  to[n].fillna(self.na_dict[n], inplace=True)\n",
      "/Users/jackwarren/Library/Python/3.9/lib/python/site-packages/fastai/tabular/core.py:316: PerformanceWarning: DataFrame is highly fragmented.  This is usually the result of calling `frame.insert` many times, which has poor performance.  Consider joining all columns at once using pd.concat(axis=1) instead. To get a de-fragmented frame, use `newframe = frame.copy()`\n",
      "  to.loc[:,n+'_na'] = missing[n]\n",
      "/Users/jackwarren/Library/Python/3.9/lib/python/site-packages/fastai/tabular/core.py:314: FutureWarning: A value is trying to be set on a copy of a DataFrame or Series through chained assignment using an inplace method.\n",
      "The behavior will change in pandas 3.0. This inplace method will never work because the intermediate object on which we are setting values always behaves as a copy.\n",
      "\n",
      "For example, when doing 'df[col].method(value, inplace=True)', try using 'df.method({col: value}, inplace=True)' or df[col] = df[col].method(value) instead, to perform the operation inplace on the original object.\n",
      "\n",
      "\n",
      "  to[n].fillna(self.na_dict[n], inplace=True)\n",
      "/Users/jackwarren/Library/Python/3.9/lib/python/site-packages/fastai/tabular/core.py:316: PerformanceWarning: DataFrame is highly fragmented.  This is usually the result of calling `frame.insert` many times, which has poor performance.  Consider joining all columns at once using pd.concat(axis=1) instead. To get a de-fragmented frame, use `newframe = frame.copy()`\n",
      "  to.loc[:,n+'_na'] = missing[n]\n",
      "/Users/jackwarren/Library/Python/3.9/lib/python/site-packages/fastai/tabular/core.py:314: FutureWarning: A value is trying to be set on a copy of a DataFrame or Series through chained assignment using an inplace method.\n",
      "The behavior will change in pandas 3.0. This inplace method will never work because the intermediate object on which we are setting values always behaves as a copy.\n",
      "\n",
      "For example, when doing 'df[col].method(value, inplace=True)', try using 'df.method({col: value}, inplace=True)' or df[col] = df[col].method(value) instead, to perform the operation inplace on the original object.\n",
      "\n",
      "\n",
      "  to[n].fillna(self.na_dict[n], inplace=True)\n",
      "/Users/jackwarren/Library/Python/3.9/lib/python/site-packages/fastai/tabular/core.py:316: PerformanceWarning: DataFrame is highly fragmented.  This is usually the result of calling `frame.insert` many times, which has poor performance.  Consider joining all columns at once using pd.concat(axis=1) instead. To get a de-fragmented frame, use `newframe = frame.copy()`\n",
      "  to.loc[:,n+'_na'] = missing[n]\n"
     ]
    }
   ],
   "execution_count": 34
  },
  {
   "metadata": {
    "ExecuteTime": {
     "end_time": "2025-07-25T15:54:04.217718Z",
     "start_time": "2025-07-25T15:54:04.147301Z"
    }
   },
   "cell_type": "code",
   "source": "len(to.train.xs.columns.tolist())",
   "id": "2cea8cf88dbe3bb4",
   "outputs": [
    {
     "data": {
      "text/plain": [
       "626"
      ]
     },
     "execution_count": 35,
     "metadata": {},
     "output_type": "execute_result"
    }
   ],
   "execution_count": 35
  },
  {
   "metadata": {
    "ExecuteTime": {
     "end_time": "2025-07-25T15:54:08.216661Z",
     "start_time": "2025-07-25T15:54:08.212560Z"
    }
   },
   "cell_type": "code",
   "source": "X_train['male_rejects_female_percentage_product']",
   "id": "71aa9738e4267afc",
   "outputs": [
    {
     "data": {
      "text/plain": [
       "8267      0.556744\n",
       "95596     0.781757\n",
       "101297   -1.574982\n",
       "125064    0.177006\n",
       "128929    0.234556\n",
       "            ...   \n",
       "76456     0.477966\n",
       "93951    -2.059916\n",
       "104843    1.622372\n",
       "101084   -0.424916\n",
       "30595    -0.497562\n",
       "Name: male_rejects_female_percentage_product, Length: 105216, dtype: float64"
      ]
     },
     "execution_count": 36,
     "metadata": {},
     "output_type": "execute_result"
    }
   ],
   "execution_count": 36
  },
  {
   "metadata": {
    "ExecuteTime": {
     "end_time": "2025-07-22T19:27:47.860239Z",
     "start_time": "2025-07-22T19:27:38.493929Z"
    }
   },
   "cell_type": "code",
   "source": [
    "rf_model = RandomForestClassifier(n_estimators=100, random_state=42, n_jobs=-1, oob_score=True)\n",
    "rf_model.fit(X_train, y_train)\n",
    "\n",
    "y_pred_valid = rf_model.predict(X_valid)\n",
    "accuracy = accuracy_score(y_valid, y_pred_valid)\n",
    "print(f\"Accuracy: {accuracy}\")\n",
    "# 78% accuracy"
   ],
   "id": "2d41209fce43423e",
   "outputs": [
    {
     "name": "stdout",
     "output_type": "stream",
     "text": [
      "Accuracy: 0.7777904501216545\n"
     ]
    }
   ],
   "execution_count": 141
  },
  {
   "metadata": {
    "ExecuteTime": {
     "end_time": "2025-07-22T19:27:51.157998Z",
     "start_time": "2025-07-22T19:27:51.101727Z"
    }
   },
   "cell_type": "code",
   "source": [
    "class_names = ['Bad Match', 'Good Match']\n",
    "\n",
    "disp = ConfusionMatrixDisplay.from_predictions(\n",
    "    y_true=y_valid,\n",
    "    y_pred=y_pred_valid,\n",
    "    display_labels=class_names,\n",
    "    cmap=plt.cm.Blues\n",
    ")\n",
    "\n",
    "disp.ax_.set_title(\"Confusion Matrix\")\n",
    "plt.show()"
   ],
   "id": "ac271c75d0c6475a",
   "outputs": [
    {
     "data": {
      "text/plain": [
       "<Figure size 640x480 with 2 Axes>"
      ],
      "image/png": "[encoded data removed]"
     },
     "metadata": {},
     "output_type": "display_data"
    }
   ],
   "execution_count": 142
  },
  {
   "metadata": {},
   "cell_type": "markdown",
   "source": "#2c - throwing it in an XGBoost Model",
   "id": "cbe6e698b0b8876"
  },
  {
   "metadata": {
    "ExecuteTime": {
     "end_time": "2025-07-25T15:57:36.712447Z",
     "start_time": "2025-07-25T15:56:52.982662Z"
    }
   },
   "cell_type": "code",
   "source": [
    "import xgboost as xgb\n",
    "xgb_model = xgb.XGBClassifier(\n",
    "    n_estimators= 250,\n",
    "    learning_rate=.1,\n",
    "    max_depth=25,\n",
    "    enable_categorical=True,\n",
    "    subsample=1,\n",
    "    objective='binary:logistic',\n",
    "    eval_metric='logloss',\n",
    "    use_label_encoder=False,\n",
    "    random_state=42\n",
    ")\n",
    "\n",
    "xgb_model.fit(X_train, y_train)\n",
    "\n",
    "y_pred_valid = xgb_model.predict(X_valid)\n",
    "\n",
    "accuracy = accuracy_score(y_valid, y_pred_valid)\n",
    "print(f\"Accuracy: {accuracy}\")\n",
    "# ~79% accuracy (playing with hyperparams didn't change much as long as max_depth was above 20)"
   ],
   "id": "ea84ab8823ddc587",
   "outputs": [
    {
     "name": "stderr",
     "output_type": "stream",
     "text": [
      "/Users/jackwarren/Library/Python/3.9/lib/python/site-packages/xgboost/core.py:158: UserWarning: [11:56:54] WARNING: /Users/runner/work/xgboost/xgboost/src/learner.cc:740: \n",
      "Parameters: { \"use_label_encoder\" } are not used.\n",
      "\n",
      "  warnings.warn(smsg, UserWarning)\n"
     ]
    },
    {
     "name": "stdout",
     "output_type": "stream",
     "text": [
      "Accuracy: 0.7893856447688564\n"
     ]
    }
   ],
   "execution_count": 41
  },
  {
   "metadata": {
    "ExecuteTime": {
     "end_time": "2025-07-25T15:59:23.291651Z",
     "start_time": "2025-07-25T15:59:23.242401Z"
    }
   },
   "cell_type": "code",
   "source": [
    "class_names = ['Bad Match', 'Good Match']\n",
    "\n",
    "disp = ConfusionMatrixDisplay.from_predictions(\n",
    "    y_true=y_valid,\n",
    "    y_pred=y_pred_valid,\n",
    "    display_labels=class_names,\n",
    "    cmap=plt.cm.Blues\n",
    ")\n",
    "\n",
    "disp.ax_.set_title(\"Confusion Matrix\")\n",
    "plt.show()"
   ],
   "id": "f58a250e2407a72c",
   "outputs": [
    {
     "data": {
      "text/plain": [
       "<Figure size 640x480 with 2 Axes>"
      ],
      "image/png": "[encoded data removed]"
     },
     "metadata": {},
     "output_type": "display_data"
    }
   ],
   "execution_count": 61
  },
  {
   "metadata": {
    "ExecuteTime": {
     "end_time": "2025-07-25T16:06:38.897450Z",
     "start_time": "2025-07-25T16:06:38.503806Z"
    }
   },
   "cell_type": "code",
   "source": [
    "y_pred_proba = xgb_model.predict_proba(X_valid)[:, 1]\n",
    "# best accuracy\n",
    "y_pred_very_strict = (y_pred_proba >= 0.65).astype(int)\n",
    "y_pred_strict = (y_pred_proba >= 0.565).astype(int)\n",
    "\n",
    "# You can then evaluate accuracy or other metrics with these new predictions\n",
    "from sklearn.metrics import accuracy_score\n",
    "print(f\"Accuracy (strict): {accuracy_score(y_valid, y_pred_very_strict)}\")\n",
    "print(f\"Accuracy (lenient): {accuracy_score(y_valid, y_pred_strict)}\")"
   ],
   "id": "d2ad96ddb47f6148",
   "outputs": [
    {
     "name": "stdout",
     "output_type": "stream",
     "text": [
      "Accuracy (strict): 0.7900699513381995\n",
      "Accuracy (lenient): 0.7907922749391727\n"
     ]
    }
   ],
   "execution_count": 85
  },
  {
   "metadata": {
    "ExecuteTime": {
     "end_time": "2025-07-25T16:06:41.439884Z",
     "start_time": "2025-07-25T16:06:41.386638Z"
    }
   },
   "cell_type": "code",
   "source": [
    "class_names = ['Off Target', 'On Target']\n",
    "\n",
    "disp = ConfusionMatrixDisplay.from_predictions(\n",
    "    y_true=y_valid,\n",
    "    y_pred=y_pred_very_strict,\n",
    "    display_labels=class_names,\n",
    "    cmap=plt.cm.Blues\n",
    ")\n",
    "\n",
    "disp.ax_.set_title(\"Confusion Matrix\")\n",
    "plt.show()"
   ],
   "id": "dec6e11f4bbac0c2",
   "outputs": [
    {
     "data": {
      "text/plain": [
       "<Figure size 640x480 with 2 Axes>"
      ],
      "image/png": "[encoded data removed]"
     },
     "metadata": {},
     "output_type": "display_data"
    }
   ],
   "execution_count": 86
  },
  {
   "metadata": {
    "ExecuteTime": {
     "end_time": "2025-07-25T16:11:24.351246Z",
     "start_time": "2025-07-25T16:11:24.298971Z"
    }
   },
   "cell_type": "code",
   "source": [
    "class_names = ['Off Target', 'On Target']\n",
    "\n",
    "disp = ConfusionMatrixDisplay.from_predictions(\n",
    "    y_true=y_valid,\n",
    "    y_pred=y_pred_strict,\n",
    "    display_labels=class_names,\n",
    "    cmap=plt.cm.Blues\n",
    ")\n",
    "\n",
    "disp.ax_.set_title(\"Confusion Matrix (56.5% Thesrold)\")\n",
    "plt.show()"
   ],
   "id": "be02f31f7c693c91",
   "outputs": [
    {
     "data": {
      "text/plain": [
       "<Figure size 640x480 with 2 Axes>"
      ],
      "image/png": "[encoded data removed]"
     },
     "metadata": {},
     "output_type": "display_data"
    }
   ],
   "execution_count": 99
  },
  {
   "metadata": {
    "ExecuteTime": {
     "end_time": "2025-07-25T16:21:27.959491Z",
     "start_time": "2025-07-25T16:21:27.955878Z"
    }
   },
   "cell_type": "code",
   "source": [
    "y_pred_lenient = (y_pred_proba >= 0.1).astype(int)\n",
    "print(f\"Accuracy (lenient): {accuracy_score(y_valid, y_pred_lenient)}\")"
   ],
   "id": "f83f2694141a297a",
   "outputs": [
    {
     "name": "stdout",
     "output_type": "stream",
     "text": [
      "Accuracy (lenient): 0.7409899635036497\n"
     ]
    }
   ],
   "execution_count": 113
  },
  {
   "metadata": {
    "ExecuteTime": {
     "end_time": "2025-07-25T16:20:52.124608Z",
     "start_time": "2025-07-25T16:20:52.074627Z"
    }
   },
   "cell_type": "code",
   "source": [
    "class_names = ['Off Target', 'On Target']\n",
    "\n",
    "disp = ConfusionMatrixDisplay.from_predictions(\n",
    "    y_true=y_valid,\n",
    "    y_pred=y_pred_lenient,\n",
    "    display_labels=class_names,\n",
    "    cmap=plt.cm.Blues\n",
    ")\n",
    "\n",
    "disp.ax_.set_title(\"Confusion Matrix (10% Threshold)\")\n",
    "plt.show()"
   ],
   "id": "a2762e746925e8f3",
   "outputs": [
    {
     "data": {
      "text/plain": [
       "<Figure size 640x480 with 2 Axes>"
      ],
      "image/png": "[encoded data removed]"
     },
     "metadata": {},
     "output_type": "display_data"
    }
   ],
   "execution_count": 112
  }
 ],
 "metadata": {
  "kernelspec": {
   "display_name": "Python 3",
   "language": "python",
   "name": "python3"
  },
  "language_info": {
   "codemirror_mode": {
    "name": "ipython",
    "version": 2
   },
   "file_extension": ".py",
   "mimetype": "text/x-python",
   "name": "python",
   "nbconvert_exporter": "python",
   "pygments_lexer": "ipython2",
   "version": "2.7.6"
  }
 },
 "nbformat": 4,
 "nbformat_minor": 5
}
