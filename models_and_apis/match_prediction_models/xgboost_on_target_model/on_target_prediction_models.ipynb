{
 "cells": [
  {
   "metadata": {},
   "cell_type": "markdown",
   "source": "#1 - Collaborative Filtering",
   "id": "649cfb5b410faf2b"
  },
  {
   "metadata": {},
   "cell_type": "code",
   "source": [
    "import importlib, get_data, process_matches_and_members\n",
    "importlib.reload(process_matches_and_members)\n",
    "\n",
    "df_matches = get_data.get_dataframe_from_postgres(\"matches\")\n",
    "df_matches = process_matches_and_members.process_match_rating(df_matches)\n",
    "df_members = get_data.get_dataframe_from_postgres(\"members\")"
   ],
   "id": "ed8002a9e9e07b6",
   "outputs": [],
   "execution_count": null
  },
  {
   "metadata": {},
   "cell_type": "code",
   "source": [
    "import pandas as pd\n",
    "# gives us a pd of all the matches where the woman was on YU connects,\n",
    "# and cuts out all the match info except for the ids and is_good_match\n",
    "yuconnects = pd.merge(df_matches, df_members[['id', 'site']],\n",
    "                      left_on='female_id',\n",
    "                      right_on='id',\n",
    "                      how='left') \\\n",
    "                      [lambda x: x['site'] == 'YUConnects'] \\\n",
    "                      .drop(columns=['id_x', 'id_y']) #these columns get generated at some point, not sure why"
   ],
   "id": "9eb693ed06d5cc2c",
   "outputs": [],
   "execution_count": null
  },
  {
   "metadata": {},
   "cell_type": "code",
   "source": [
    "from fastai.tabular.all import *\n",
    "\n",
    "procs = [Categorify]\n",
    "cat_names = ['male_id', 'female_id']\n",
    "dep_var = ['is_good_match']\n",
    "y_block = CategoryBlock()\n",
    "splits = RandomSplitter(valid_pct=0.2)(range_of(yuconnects))\n",
    "\n",
    "dls = TabularDataLoaders.from_df(\n",
    "    yuconnects,\n",
    "    path='.',\n",
    "    procs=procs,\n",
    "    cat_names=cat_names,\n",
    "    cont_names=[],\n",
    "    y_names=dep_var,\n",
    "    y_block=y_block,\n",
    "    splits=splits,\n",
    "    bs=64\n",
    ")"
   ],
   "id": "4e6cf2ee7f522f8e",
   "outputs": [],
   "execution_count": null
  },
  {
   "metadata": {},
   "cell_type": "code",
   "source": [
    "learn = tabular_learner(\n",
    "    dls,\n",
    "    metrics=accuracy\n",
    ")\n",
    "learn.fit_one_cycle(5, .01)\n",
    "# ~74% accuracy"
   ],
   "id": "f6cc4480ed5c94d5",
   "outputs": [],
   "execution_count": null
  },
  {
   "metadata": {},
   "cell_type": "code",
   "source": [
    "from sklearn.metrics import ConfusionMatrixDisplay\n",
    "import matplotlib.pyplot as plt\n",
    "\n",
    "preds, targs = learn.get_preds()\n",
    "predicted_classes = torch.argmax(preds, dim=1)\n",
    "\n",
    "class_names = ['Bad Match', 'Good Match']\n",
    "\n",
    "disp = ConfusionMatrixDisplay.from_predictions(\n",
    "    y_true=targs,\n",
    "    y_pred=predicted_classes,\n",
    "    display_labels=class_names,\n",
    "    cmap=plt.cm.Blues\n",
    ")\n",
    "\n",
    "disp.ax_.set_title(\"Confusion Matrix\")\n",
    "plt.show()"
   ],
   "id": "4f5a29711c672b8b",
   "outputs": [],
   "execution_count": null
  },
  {
   "metadata": {},
   "cell_type": "markdown",
   "source": "#2 Random Forest Model",
   "id": "1a7c8adf0db7a5eb"
  },
  {
   "metadata": {},
   "cell_type": "code",
   "source": [
    "# this is a nested merge that gets all the data about the males and females in a match\n",
    "yuconnects_with_member_data = yuconnects.merge(df_members.add_prefix('female_'),\n",
    "                                               left_on='female_id',\n",
    "                                               right_on='female_id',\n",
    "                                               how='left',\n",
    "                                               suffixes=('', '_female_y')).merge(\n",
    "                                                   df_members.add_prefix('male_'),\n",
    "                                                   left_on='male_id',\n",
    "                                                   right_on='male_id',\n",
    "                                                   how='left',\n",
    "                                                   suffixes=('_female', '_male')\n",
    "                                               )\n"
   ],
   "id": "244a845c538422",
   "outputs": [],
   "execution_count": null
  },
  {
   "metadata": {},
   "cell_type": "code",
   "source": [
    "column_names = yuconnects_with_member_data.columns\n",
    "\n",
    "# all the continuous columns with operating data (some seemingly continuous columns have bad data)\n",
    "forest_cont_names = ['female_age', 'female_height_inches', 'female_num_matches',\n",
    "                     'female_acceptance_rate', 'female_min_height_inches', 'female_max_height_inches',\n",
    "                     'male_age', 'male_height_inches', 'male_num_matches',\n",
    "                     'male_acceptance_rate', 'male_min_height_inches', 'male_max_height_inches']\n",
    "\n",
    "# these are columns that are used to calculate 'is_good_match' and must be kept hidden from the model\n",
    "indicators_of_dep_var = [\n",
    "                         'ms','male_pr', 'male_s','female_s',\n",
    "                         'female_pr', 'matchmaker_pr', 'match_quality',\n",
    "                         'decline_reason','overall_pr','male_s_rating',\n",
    "                         'female_s_rating', 'quality_rating','overall_rating',\n",
    "                         ]\n",
    "# all columns that aren't continuous are categorical\n",
    "forest_cat_names = [col for col in column_names if col not in forest_cont_names and col not in indicators_of_dep_var and col not in dep_var]"
   ],
   "id": "e2fd6c2471dda959",
   "outputs": [],
   "execution_count": null
  },
  {
   "metadata": {},
   "cell_type": "code",
   "source": [
    "from sklearn.ensemble import RandomForestClassifier\n",
    "from sklearn.metrics import accuracy_score\n",
    "\n",
    "# We are adding to the procs FillMissing, because whereas before there were no missing values, now there are.\n",
    "# We are also adding normalize which will normalize the values in our columns with continuous values\n",
    "procs = [Categorify, Normalize, FillMissing]\n",
    "splits = RandomSplitter(valid_pct=0.2)(range_of(yuconnects_with_member_data))\n",
    "\n",
    "to = TabularPandas(yuconnects_with_member_data,\n",
    "                   procs=procs,\n",
    "                   cat_names=forest_cat_names,\n",
    "                   cont_names=forest_cont_names,\n",
    "                   y_names=dep_var,\n",
    "                   splits=splits,\n",
    "                   y_block=CategoryBlock())\n",
    "X_train = to.train.xs\n",
    "y_train = to.train.y\n",
    "X_valid = to.valid.xs\n",
    "y_valid = to.valid.y"
   ],
   "id": "78434a4bf3279865",
   "outputs": [],
   "execution_count": null
  },
  {
   "metadata": {},
   "cell_type": "code",
   "source": [
    "rf_model = RandomForestClassifier(n_estimators=100, random_state=42, n_jobs=-1, oob_score=True)\n",
    "rf_model.fit(X_train, y_train)\n",
    "\n",
    "y_pred_valid = rf_model.predict(X_valid)\n",
    "accuracy = accuracy_score(y_valid, y_pred_valid)\n",
    "print(f\"Accuracy: {accuracy}\")\n",
    "# 75% accuracy"
   ],
   "id": "f5fd51f0b047a9d",
   "outputs": [],
   "execution_count": null
  },
  {
   "metadata": {},
   "cell_type": "code",
   "source": [
    "X_train.columns.tolist()\n",
    "# male_pr, ms,"
   ],
   "id": "befb2de36c036afb",
   "outputs": [],
   "execution_count": null
  },
  {
   "metadata": {},
   "cell_type": "code",
   "source": [
    "class_names = ['Bad Match', 'Good Match']\n",
    "\n",
    "disp = ConfusionMatrixDisplay.from_predictions(\n",
    "    y_true=y_valid,\n",
    "    y_pred=y_pred_valid,\n",
    "    display_labels=class_names,\n",
    "    cmap=plt.cm.Blues\n",
    ")\n",
    "\n",
    "disp.ax_.set_title(\"Confusion Matrix\")\n",
    "plt.show()"
   ],
   "id": "c577c6b66b449904",
   "outputs": [],
   "execution_count": null
  },
  {
   "metadata": {},
   "cell_type": "code",
   "source": [
    "import xgboost as xgb\n",
    "xgb_model = xgb.XGBClassifier(\n",
    "    n_estimators= 100,\n",
    "    learning_rate=.1,\n",
    "    max_depth=20,\n",
    "    enable_categorical=True,\n",
    "    subsample=1,\n",
    "    objective='binary:logistic',\n",
    "    eval_metric='logloss',\n",
    "    use_label_encoder=False,\n",
    "    random_state=42\n",
    ")\n",
    "\n",
    "xgb_model.fit(X_train, y_train)\n",
    "\n",
    "y_pred_valid = xgb_model.predict(X_valid)\n",
    "\n",
    "accuracy = accuracy_score(y_valid, y_pred_valid)\n",
    "print(f\"Accuracy: {accuracy}\")\n",
    "# ~76.5% accuracy (playing with hyperparams didn't change much as long as max_depth was above 20)"
   ],
   "id": "70b685769f759f79",
   "outputs": [],
   "execution_count": null
  },
  {
   "metadata": {},
   "cell_type": "code",
   "source": [
    "class_names = ['Bad Match', 'Good Match']\n",
    "\n",
    "disp = ConfusionMatrixDisplay.from_predictions(\n",
    "    y_true=y_valid,\n",
    "    y_pred=y_pred_valid,\n",
    "    display_labels=class_names,\n",
    "    cmap=plt.cm.Blues\n",
    ")\n",
    "\n",
    "disp.ax_.set_title(\"Confusion Matrix\")\n",
    "plt.show()"
   ],
   "id": "4453f29c06582cbe",
   "outputs": [],
   "execution_count": null
  },
  {
   "metadata": {},
   "cell_type": "markdown",
   "source": "#2a - Random Forest with Rejection Counts",
   "id": "1a6a65491679d816"
  },
  {
   "metadata": {},
   "cell_type": "code",
   "source": [
    "import importlib\n",
    "import rejection_type_counts\n",
    "importlib.reload(rejection_type_counts)\n",
    "members_with_matches = df_members[df_members['num_matches'] > 0]\n",
    "rejection_count = rejection_type_counts.add_rejection_type_counts(members_with_matches, df_matches)"
   ],
   "id": "70fac6c5d9ba8b22",
   "outputs": [],
   "execution_count": null
  },
  {
   "metadata": {},
   "cell_type": "code",
   "source": [
    "# this is a nested merge that gets all the data about the males and females in a match\n",
    "yuconnects_with_rejection_count = yuconnects.merge(rejection_count.add_prefix('female_'),\n",
    "                                               left_on='female_id',\n",
    "                                               right_on='female_id',\n",
    "                                               how='left',\n",
    "                                               suffixes=('', '_female_y')).merge(\n",
    "                                                   rejection_count.add_prefix('male_'),\n",
    "                                                   left_on='male_id',\n",
    "                                                   right_on='male_id',\n",
    "                                                   how='left',\n",
    "                                                   suffixes=('_female', '_male')\n",
    "                                               )\n",
    "# gets rid of bad values that allow for more continuous columns\n",
    "yuconnects_with_rejection_count = process_matches_and_members.process_data(yuconnects_with_rejection_count)"
   ],
   "id": "c19a4400903a61c8",
   "outputs": [],
   "execution_count": null
  },
  {
   "metadata": {},
   "cell_type": "code",
   "source": [
    "column_names = yuconnects_with_rejection_count.columns\n",
    "\n",
    "# all the rejection count columns\n",
    "rejection_counts_columns = [col for col in column_names if col.startswith('male_male_reason')\n",
    "                                                or col.startswith('male_male_rejection')\n",
    "                                                or col.startswith('female_female_reason')\n",
    "                                                or col.startswith('female_female_rejection')]\n",
    "\n",
    "# all the continuous columns with operating data (some seemingly continuous columns have bad data)\n",
    "forest_cont_names = rejection_counts_columns +  ['female_age', 'female_height_inches', 'female_num_matches',\n",
    "                     'female_acceptance_rate', 'female_min_height_inches', 'female_max_height_inches',\n",
    "                     'male_age', 'male_height_inches', 'male_num_matches',\n",
    "                     'male_acceptance_rate', 'male_min_height_inches', 'male_max_height_inches']\n",
    "\n",
    "# all columns that aren't continuous are categorical\n",
    "forest_cat_names = [col for col in column_names if col not in forest_cont_names and col not in indicators_of_dep_var and col not in dep_var]"
   ],
   "id": "5521b0d1100eb00e",
   "outputs": [],
   "execution_count": null
  },
  {
   "metadata": {},
   "cell_type": "code",
   "source": [
    "from sklearn.ensemble import RandomForestClassifier\n",
    "from sklearn.metrics import accuracy_score\n",
    "\n",
    "# We are adding to the procs FillMissing, because whereas before there were no missing values, now there are.\n",
    "# We are also adding normalize which will normalize the values in our columns with continuous values\n",
    "procs = [Categorify, Normalize, FillMissing]\n",
    "splits = RandomSplitter(valid_pct=0.2)(range_of(yuconnects_with_rejection_count))\n",
    "to = TabularPandas(yuconnects_with_rejection_count,\n",
    "                   procs=procs,\n",
    "                   cat_names=forest_cat_names,\n",
    "                   cont_names=forest_cont_names,\n",
    "                   y_names=dep_var,\n",
    "                   splits=splits,\n",
    "                   y_block=CategoryBlock())\n",
    "X_train = to.train.xs\n",
    "y_train = to.train.y\n",
    "X_valid = to.valid.xs\n",
    "y_valid = to.valid.y"
   ],
   "id": "d84ace68ad0e9ada",
   "outputs": [],
   "execution_count": null
  },
  {
   "metadata": {},
   "cell_type": "code",
   "source": [
    "rf_model = RandomForestClassifier(n_estimators=100, random_state=42, n_jobs=-1, oob_score=True)\n",
    "rf_model.fit(X_train, y_train)\n",
    "\n",
    "y_pred_valid = rf_model.predict(X_valid)\n",
    "accuracy = accuracy_score(y_valid, y_pred_valid)\n",
    "print(f\"Accuracy: {accuracy}\")\n",
    "# 77% accuracy"
   ],
   "id": "79a0d3f65d727872",
   "outputs": [],
   "execution_count": null
  },
  {
   "metadata": {},
   "cell_type": "code",
   "source": [
    "class_names = ['Bad Match', 'Good Match']\n",
    "\n",
    "disp = ConfusionMatrixDisplay.from_predictions(\n",
    "    y_true=y_valid,\n",
    "    y_pred=y_pred_valid,\n",
    "    display_labels=class_names,\n",
    "    cmap=plt.cm.Blues\n",
    ")\n",
    "\n",
    "disp.ax_.set_title(\"Confusion Matrix\")\n",
    "plt.show()"
   ],
   "id": "a2792efce7ab9681",
   "outputs": [],
   "execution_count": null
  },
  {
   "metadata": {},
   "cell_type": "markdown",
   "source": "#2b - More Rejection Feature Engineering",
   "id": "287c9c20237fe11d"
  },
  {
   "metadata": {},
   "cell_type": "code",
   "source": [
    "importlib.reload(rejection_type_counts)\n",
    "members_with_matches = df_members[df_members['num_matches'] > 0]\n",
    "rejection_count = rejection_type_counts.add_rejection_sums(rejection_count, df_matches)"
   ],
   "id": "a9d93ed2571f5ac0",
   "outputs": [],
   "execution_count": null
  },
  {
   "metadata": {},
   "cell_type": "code",
   "source": [
    "mean_acceptance_rate = rejection_count['acceptance_rate'].mean()\n",
    "rejection_count['acceptance_rate'].fillna(mean_acceptance_rate, inplace=True)"
   ],
   "id": "e691766a8df4d47c",
   "outputs": [],
   "execution_count": null
  },
  {
   "metadata": {},
   "cell_type": "code",
   "source": [
    "# this is a nested merge that gets all the data about the males and females in a match\n",
    "yuconnects_with_rejection_count = yuconnects.merge(rejection_count.add_prefix('female_'),\n",
    "                                               left_on='female_id',\n",
    "                                               right_on='female_id',\n",
    "                                               how='left',\n",
    "                                               suffixes=('', '_female_y')).merge(\n",
    "                                                   rejection_count.add_prefix('male_'),\n",
    "                                                   left_on='male_id',\n",
    "                                                   right_on='male_id',\n",
    "                                                   how='left',\n",
    "                                                   suffixes=('_female', '_male')\n",
    "                                               )"
   ],
   "id": "f6e6dd6c69fec9a1",
   "outputs": [],
   "execution_count": null
  },
  {
   "metadata": {},
   "cell_type": "code",
   "source": [
    "yuconnects_with_rejection_count = rejection_type_counts.add_rejection_products(yuconnects_with_rejection_count)\n",
    "yuconnects_with_rejection_count['male_percent_rejected'].fillna(0, inplace=True)\n",
    "yuconnects_with_rejection_count['male_percent_rejecter'].fillna(0, inplace=True)"
   ],
   "id": "c638c6e9f30fd9a7",
   "outputs": [],
   "execution_count": null
  },
  {
   "metadata": {},
   "cell_type": "code",
   "source": [
    "yuconnects_with_rejection_count[['male_percent_rejecter', 'female_percent_rejecter', 'male_percent_rejected', 'female_percent_rejected']]\n",
    "yuconnects_with_rejection_count['male_rejects_female_percentage_product'] = yuconnects_with_rejection_count['male_percent_rejecter'] * yuconnects_with_rejection_count['female_percent_rejected']\n",
    "yuconnects_with_rejection_count['female_rejects_male_percentage_product'] = yuconnects_with_rejection_count['female_percent_rejecter'] * yuconnects_with_rejection_count['male_percent_rejected']\n",
    "yuconnects_with_rejection_count[['male_percent_rejecter', 'female_percent_rejecter', 'male_percent_rejected', 'female_percent_rejected', 'male_rejects_female_percentage_product', 'female_rejects_male_percentage_product']].plot.kde()"
   ],
   "id": "670d00d87920654d",
   "outputs": [],
   "execution_count": null
  },
  {
   "metadata": {},
   "cell_type": "code",
   "source": [
    "procs = [Categorify, Normalize, FillMissing]\n",
    "\n",
    "column_names = yuconnects_with_rejection_count.columns\n",
    "\n",
    "product_columns = [col for col in column_names if 'product' in col]\n",
    "\n",
    "# rejectered is combo of 'rejecter' and 'rejected' (both of which contain 'rejecte')\n",
    "rejectered_columns = [col for col in column_names if 'rejecte' in col]\n",
    "\n",
    "forest_cont_names = forest_cont_names + product_columns + rejectered_columns\n",
    "\n",
    "forest_cat_names = [col for col in column_names if (col not in forest_cont_names) and (col not in indicators_of_dep_var) and (col not in dep_var)]\n",
    "\n",
    "splits = RandomSplitter(valid_pct=0.2)(range_of(yuconnects_with_rejection_count))\n",
    "forest_cat_names\n"
   ],
   "id": "8322b66951ce83aa",
   "outputs": [],
   "execution_count": null
  },
  {
   "metadata": {},
   "cell_type": "code",
   "source": [
    "to = TabularPandas(yuconnects_with_rejection_count,\n",
    "                   procs=procs,\n",
    "                   cat_names=forest_cat_names,\n",
    "                   cont_names=forest_cont_names,\n",
    "                   y_names=dep_var,\n",
    "                   splits=splits,\n",
    "                   y_block=CategoryBlock())\n",
    "X_train = to.train.xs\n",
    "y_train = to.train.y\n",
    "X_valid = to.valid.xs\n",
    "y_valid = to.valid.y"
   ],
   "id": "3f989a6c442ea107",
   "outputs": [],
   "execution_count": null
  },
  {
   "metadata": {},
   "cell_type": "code",
   "source": "len(to.train.xs.columns.tolist())",
   "id": "2cea8cf88dbe3bb4",
   "outputs": [],
   "execution_count": null
  },
  {
   "metadata": {},
   "cell_type": "code",
   "source": "X_train['male_rejects_female_percentage_product']",
   "id": "71aa9738e4267afc",
   "outputs": [],
   "execution_count": null
  },
  {
   "metadata": {},
   "cell_type": "code",
   "source": [
    "rf_model = RandomForestClassifier(n_estimators=100, random_state=42, n_jobs=-1, oob_score=True)\n",
    "rf_model.fit(X_train, y_train)\n",
    "\n",
    "y_pred_valid = rf_model.predict(X_valid)\n",
    "accuracy = accuracy_score(y_valid, y_pred_valid)\n",
    "print(f\"Accuracy: {accuracy}\")\n",
    "# 78% accuracy"
   ],
   "id": "2d41209fce43423e",
   "outputs": [],
   "execution_count": null
  },
  {
   "metadata": {},
   "cell_type": "code",
   "source": [
    "class_names = ['Bad Match', 'Good Match']\n",
    "\n",
    "disp = ConfusionMatrixDisplay.from_predictions(\n",
    "    y_true=y_valid,\n",
    "    y_pred=y_pred_valid,\n",
    "    display_labels=class_names,\n",
    "    cmap=plt.cm.Blues\n",
    ")\n",
    "\n",
    "disp.ax_.set_title(\"Confusion Matrix\")\n",
    "plt.show()"
   ],
   "id": "ac271c75d0c6475a",
   "outputs": [],
   "execution_count": null
  },
  {
   "metadata": {},
   "cell_type": "markdown",
   "source": "#2c - throwing it in an XGBoost Model",
   "id": "cbe6e698b0b8876"
  },
  {
   "metadata": {},
   "cell_type": "code",
   "source": [
    "import xgboost as xgb\n",
    "xgb_model = xgb.XGBClassifier(\n",
    "    n_estimators= 250,\n",
    "    learning_rate=.1,\n",
    "    max_depth=25,\n",
    "    enable_categorical=True,\n",
    "    subsample=1,\n",
    "    objective='binary:logistic',\n",
    "    eval_metric='logloss',\n",
    "    use_label_encoder=False,\n",
    "    random_state=42\n",
    ")\n",
    "\n",
    "xgb_model.fit(X_train, y_train)\n",
    "\n",
    "y_pred_valid = xgb_model.predict(X_valid)\n",
    "\n",
    "accuracy = accuracy_score(y_valid, y_pred_valid)\n",
    "print(f\"Accuracy: {accuracy}\")\n",
    "# ~79% accuracy (playing with hyperparams didn't change much as long as max_depth was above 20)"
   ],
   "id": "ea84ab8823ddc587",
   "outputs": [],
   "execution_count": null
  },
  {
   "metadata": {},
   "cell_type": "code",
   "source": [
    "class_names = ['Bad Match', 'Good Match']\n",
    "\n",
    "disp = ConfusionMatrixDisplay.from_predictions(\n",
    "    y_true=y_valid,\n",
    "    y_pred=y_pred_valid,\n",
    "    display_labels=class_names,\n",
    "    cmap=plt.cm.Blues\n",
    ")\n",
    "\n",
    "disp.ax_.set_title(\"Confusion Matrix\")\n",
    "plt.show()"
   ],
   "id": "f58a250e2407a72c",
   "outputs": [],
   "execution_count": null
  },
  {
   "metadata": {},
   "cell_type": "code",
   "source": [
    "y_pred_proba = xgb_model.predict_proba(X_valid)[:, 1]\n",
    "# best accuracy\n",
    "y_pred_very_strict = (y_pred_proba >= 0.65).astype(int)\n",
    "y_pred_strict = (y_pred_proba >= 0.565).astype(int)\n",
    "\n",
    "# You can then evaluate accuracy or other metrics with these new predictions\n",
    "from sklearn.metrics import accuracy_score\n",
    "print(f\"Accuracy (strict): {accuracy_score(y_valid, y_pred_very_strict)}\")\n",
    "print(f\"Accuracy (lenient): {accuracy_score(y_valid, y_pred_strict)}\")"
   ],
   "id": "d2ad96ddb47f6148",
   "outputs": [],
   "execution_count": null
  },
  {
   "metadata": {},
   "cell_type": "code",
   "source": [
    "class_names = ['Off Target', 'On Target']\n",
    "\n",
    "disp = ConfusionMatrixDisplay.from_predictions(\n",
    "    y_true=y_valid,\n",
    "    y_pred=y_pred_very_strict,\n",
    "    display_labels=class_names,\n",
    "    cmap=plt.cm.Blues\n",
    ")\n",
    "\n",
    "disp.ax_.set_title(\"Confusion Matrix\")\n",
    "plt.show()"
   ],
   "id": "dec6e11f4bbac0c2",
   "outputs": [],
   "execution_count": null
  },
  {
   "metadata": {},
   "cell_type": "code",
   "source": [
    "class_names = ['Off Target', 'On Target']\n",
    "\n",
    "disp = ConfusionMatrixDisplay.from_predictions(\n",
    "    y_true=y_valid,\n",
    "    y_pred=y_pred_strict,\n",
    "    display_labels=class_names,\n",
    "    cmap=plt.cm.Blues\n",
    ")\n",
    "\n",
    "disp.ax_.set_title(\"Confusion Matrix (56.5% Thesrold)\")\n",
    "plt.show()"
   ],
   "id": "be02f31f7c693c91",
   "outputs": [],
   "execution_count": null
  },
  {
   "metadata": {},
   "cell_type": "code",
   "source": [
    "y_pred_lenient = (y_pred_proba >= 0.1).astype(int)\n",
    "print(f\"Accuracy (lenient): {accuracy_score(y_valid, y_pred_lenient)}\")"
   ],
   "id": "f83f2694141a297a",
   "outputs": [],
   "execution_count": null
  },
  {
   "metadata": {},
   "cell_type": "code",
   "source": [
    "class_names = ['Off Target', 'On Target']\n",
    "\n",
    "disp = ConfusionMatrixDisplay.from_predictions(\n",
    "    y_true=y_valid,\n",
    "    y_pred=y_pred_lenient,\n",
    "    display_labels=class_names,\n",
    "    cmap=plt.cm.Blues\n",
    ")\n",
    "\n",
    "disp.ax_.set_title(\"Confusion Matrix (10% Threshold)\")\n",
    "plt.show()"
   ],
   "id": "a2762e746925e8f3",
   "outputs": [],
   "execution_count": null
  }
 ],
 "metadata": {
  "kernelspec": {
   "display_name": "Python 3",
   "language": "python",
   "name": "python3"
  },
  "language_info": {
   "codemirror_mode": {
    "name": "ipython",
    "version": 2
   },
   "file_extension": ".py",
   "mimetype": "text/x-python",
   "name": "python",
   "nbconvert_exporter": "python",
   "pygments_lexer": "ipython2",
   "version": "2.7.6"
  }
 },
 "nbformat": 4,
 "nbformat_minor": 5
}
